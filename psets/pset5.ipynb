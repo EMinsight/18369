{
 "cells": [
  {
   "cell_type": "markdown",
   "metadata": {},
   "source": [
    "# 18.369 pset 5"
   ]
  },
  {
   "cell_type": "code",
   "execution_count": null,
   "metadata": {},
   "outputs": [],
   "source": [
    "# import a useful set of modules\n",
    "from matplotlib import pyplot as plt\n",
    "import numpy as np\n",
    "import math\n",
    "import meep as mp\n",
    "from meep import mpb"
   ]
  },
  {
   "cell_type": "markdown",
   "metadata": {},
   "source": [
    "## Problem 2"
   ]
  },
  {
   "cell_type": "markdown",
   "metadata": {},
   "source": [
    "### Band diagram: Square lattice of rods\n",
    "\n",
    "To start off with, here is some sample code computing the TM band diagram of a square lattice of dielectric rods in air."
   ]
  },
  {
   "cell_type": "code",
   "execution_count": null,
   "metadata": {},
   "outputs": [],
   "source": [
    "ms_sq = mpb.ModeSolver(\n",
    "        resolution=32,\n",
    "        num_bands=8,\n",
    "    \n",
    "        # a square lattice, period a=1:\n",
    "        geometry_lattice=mp.Lattice(size=mp.Vector3(1, 1)),\n",
    "        \n",
    "        # cylindrical rods with radius 0.2a and epsilon=12\n",
    "        geometry=[mp.Cylinder(0.2, material=mp.Medium(epsilon=12))],\n",
    "    \n",
    "        # the corners of the irreducible Brillouin zone\n",
    "        k_points = mp.interpolate(9, [\n",
    "            mp.Vector3(),               # Gamma\n",
    "            mp.Vector3(0.5, 0),         # X\n",
    "            mp.Vector3(0.5, 0.5),       # M\n",
    "            mp.Vector3(),               # Gamma\n",
    "        ]))\n",
    "ms_sq.run_tm()"
   ]
  },
  {
   "cell_type": "markdown",
   "metadata": {},
   "source": [
    "Plotting the result and computing the gap:"
   ]
  },
  {
   "cell_type": "code",
   "execution_count": null,
   "metadata": {},
   "outputs": [],
   "source": [
    "plt.figure(figsize=(10,5))\n",
    "\n",
    "md = mpb.MPBData(rectify=True, periods=3)\n",
    "eps = md.convert(ms_sq.get_epsilon())\n",
    "plt.subplot(1,2,2)\n",
    "plt.imshow(eps, cmap=\"binary\")\n",
    "plt.title(\"$example: \\epsilon$ for square lattice of rods\")\n",
    "\n",
    "plt.subplot(1,2,1)\n",
    "plt.plot(ms_sq.all_freqs, \"b.-\")\n",
    "plt.ylabel(\"frequency ($c/a$)\")\n",
    "plt.xticks([0,10,20,30], [\"$\\Gamma$\",\"X\",\"M\",\"$\\Gamma$\"])\n",
    "plt.grid()\n",
    "plt.title(\"example: TM square-lattice bands\")\n",
    "\n",
    "band1_max = np.max(ms_sq.all_freqs[:,0])\n",
    "band2_min = np.min(ms_sq.all_freqs[:,1])\n",
    "gap = 200 * (band2_min - band1_max) / (band1_max + band2_min)\n",
    "print(\"TM band gap = %g%%\" % gap)"
   ]
  },
  {
   "cell_type": "markdown",
   "metadata": {},
   "source": [
    "### Starting code: Transmission through $N_x$ rods\n",
    "\n",
    "The following function computes the transmitted power $P(\\omega)$ through a finite (in $x$) crystal consisting of $N_x$ rods, with air on either side, returning an array of frequencies, an array of powers, and the simulation object:"
   ]
  },
  {
   "cell_type": "code",
   "execution_count": null,
   "metadata": {},
   "outputs": [],
   "source": [
    "def transmitted_P(Nx=5, pad=4, dpml=1, fmin=0.2, fmax=0.8, nfreq=300):\n",
    "    fcen = (fmin+fmax)*0.5\n",
    "    df = fmax - fmin\n",
    "    sx = Nx + 2*(pad+dpml)\n",
    "    \n",
    "    sim = mp.Simulation(cell_size=mp.Vector3(sx, 1),\n",
    "                        \n",
    "                        # make Nx duplicates of a rod:\n",
    "                        geometry = mp.geometric_object_duplicates(mp.Vector3(1,0), 0, Nx-1, \n",
    "                                                                  mp.Cylinder(0.2, center=mp.Vector3(-0.5*sx+dpml+pad+0.5,0), material=mp.Medium(epsilon=12))),\n",
    " \n",
    "                        \n",
    "                        # absorbing boundaries in y direction, periodic in x\n",
    "                        boundary_layers = [mp.PML(dpml, direction=mp.X)],\n",
    "                        k_point = mp.Vector3(0,0), # ky=0 for normal incidence\n",
    "                        \n",
    "                        # source is a pulsed line source adjacent to PML\n",
    "                        sources=[mp.Source(mp.GaussianSource(fcen, fwidth=df), mp.Ez,\n",
    "                                           center=(-sx*0.5 + dpml,0), size=(0,1))],\n",
    "                        \n",
    "                        # to speed things up, exploit the y=0 mirror plane:\n",
    "                        symmetries = [mp.Mirror(mp.Y, phase=1)],\n",
    "                        resolution=20)\n",
    "    \n",
    "    # flux (power) monitor on transmitted side\n",
    "    fluxregion = mp.FluxRegion(center=mp.Vector3(0.5*sx-dpml),\n",
    "                               size=mp.Vector3(0,1))\n",
    "    trans = sim.add_flux(fcen, df, nfreq, fluxregion)\n",
    "    \n",
    "    # run simulation until fields on transmitted side have decayed away\n",
    "    sim.run(until_after_sources=mp.stop_when_fields_decayed(50, mp.Ez, mp.Vector3(0.5*sx-dpml), 1e-3))\n",
    "    return sim, np.array(mp.get_flux_freqs(trans)), np.array(mp.get_fluxes(trans))"
   ]
  },
  {
   "cell_type": "markdown",
   "metadata": {},
   "source": [
    "Let's run it for $N_x = 5$ layers of the crystal:"
   ]
  },
  {
   "cell_type": "code",
   "execution_count": null,
   "metadata": {},
   "outputs": [],
   "source": [
    "sim,freqs,P5 = transmitted_P(Nx=5)"
   ]
  },
  {
   "cell_type": "markdown",
   "metadata": {},
   "source": [
    "As usual, it is always a good idea to visualize the simulation, to make sure you are running what you intend.  The Meep simulation object `sim` has a method `sim.plot2D()` that shows both the dielectric function ε (black circles), the PML regions (green striped boxes), the source location (red line) and the flux-monitor location (green line):"
   ]
  },
  {
   "cell_type": "code",
   "execution_count": null,
   "metadata": {},
   "outputs": [],
   "source": [
    "sim.plot2D()"
   ]
  },
  {
   "cell_type": "markdown",
   "metadata": {},
   "source": [
    "We can also plot power (Poynting flux) measured through the transmission plane vs. frequency, but this is **not yet normalized**.  That is, we are plotting *absolute* power (in arbitrary units), whereas what we eventually want is to plot the *fraction of the incident power* that is transmitted."
   ]
  },
  {
   "cell_type": "code",
   "execution_count": null,
   "metadata": {},
   "outputs": [],
   "source": [
    "plt.plot(freqs, P5)\n",
    "plt.xlabel(\"frequency ($c/a$)\")\n",
    "plt.ylabel(\"transmitted power (arb. units)\")\n",
    "plt.title(\"unnormalized transmitted power\")"
   ]
  },
  {
   "cell_type": "markdown",
   "metadata": {},
   "source": [
    "Basically, it is the incident Gaussian pulse spectrum multiplied by the \"wiggly\" transmission spectrum.\n",
    "\n",
    "It is also nice to visualize the simulation in the form of an animation of the $E_z$ field, which is accomplished using the `Animate2D` object provided by Meep:"
   ]
  },
  {
   "cell_type": "code",
   "execution_count": null,
   "metadata": {},
   "outputs": [],
   "source": [
    "sim.reset_meep()\n",
    "animate = mp.Animate2D(sim, fields=mp.Ez)\n",
    "sim.run(mp.at_every(0.2,animate),until=50)\n",
    "animate.to_jshtml(10)"
   ]
  },
  {
   "cell_type": "markdown",
   "metadata": {},
   "source": [
    "### part (a)\n",
    "\n",
    "Compute the *normalized* transmission spectra for frequencies from $0.2c/a$ to $0.8c/a $as a function of $N_{x}$, for $N_{x}=1,2,3,5,6$, and plot them (together on a single plot). The transmission spectrum is the transmitted power spectrum (shown above) *normalized* by dividing by the transmitted power for $N_{x}=0$ (no holes).\n",
    "\n",
    "Try to explain the features of your transmission spectrum to the band diagram in the sample code."
   ]
  },
  {
   "cell_type": "code",
   "execution_count": null,
   "metadata": {},
   "outputs": [],
   "source": []
  },
  {
   "cell_type": "markdown",
   "metadata": {},
   "source": [
    "### part (b)\n",
    "\n",
    "Predict analytically at what frequency $\\omega_{0}$ you should start to see additional diffracted orders in the reflected wave (i.e. reflected waves at angles in addition to the normal 0° reflection).\n",
    "\n",
    "Now, modify the simulation to use a TM continuous-wave (CW) source and output $E_{z}$ at the end and show that there is a qualitative change in the reflected field pattern if you put in a frequency just below $\\omega_{0}$ versus a frequency just above $\\omega_{0}$. "
   ]
  },
  {
   "cell_type": "code",
   "execution_count": null,
   "metadata": {},
   "outputs": [],
   "source": []
  }
 ],
 "metadata": {
  "@webio": {
   "lastCommId": null,
   "lastKernelId": null
  },
  "kernelspec": {
   "display_name": "Python 3 Meep",
   "language": "python",
   "name": "python3mp"
  },
  "language_info": {
   "codemirror_mode": {
    "name": "ipython",
    "version": 3
   },
   "file_extension": ".py",
   "mimetype": "text/x-python",
   "name": "python",
   "nbconvert_exporter": "python",
   "pygments_lexer": "ipython3",
   "version": "3.6.9"
  }
 },
 "nbformat": 4,
 "nbformat_minor": 4
}
