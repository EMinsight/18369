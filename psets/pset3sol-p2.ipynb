{
 "cells": [
  {
   "cell_type": "markdown",
   "id": "d2b2e3eb",
   "metadata": {},
   "source": [
    "# 18.369 pset 3, problem 2 solutions"
   ]
  },
  {
   "cell_type": "markdown",
   "id": "686f6563",
   "metadata": {},
   "source": [
    "First, we'll load up the Meep, Numpy (computation on arrays), and Matplotlib (plotting) packages, and tell Meep to be [less verbose](https://meep.readthedocs.io/en/latest/Python_User_Interface/#verbosity) about printing output."
   ]
  },
  {
   "cell_type": "code",
   "execution_count": 1,
   "id": "91cedc3b",
   "metadata": {},
   "outputs": [
    {
     "data": {
      "text/plain": [
       "1"
      ]
     },
     "execution_count": 1,
     "metadata": {},
     "output_type": "execute_result"
    }
   ],
   "source": [
    "import meep as mp\n",
    "import numpy as np\n",
    "import matplotlib.pyplot as plt\n",
    "mp.verbosity(0)"
   ]
  },
  {
   "cell_type": "markdown",
   "id": "01a69105",
   "metadata": {},
   "source": [
    "## Part (a)"
   ]
  },
  {
   "cell_type": "code",
   "execution_count": 2,
   "id": "5eaffef8",
   "metadata": {},
   "outputs": [
    {
     "data": {
      "image/png": "[encoded data removed]",
      "text/plain": [
       "<Figure size 432x288 with 1 Axes>"
      ]
     },
     "metadata": {
      "needs_background": "light"
     },
     "output_type": "display_data"
    }
   ],
   "source": [
    "k = np.linspace(0, 1, 1000)\n",
    "plt.plot(k, np.sqrt(k**2 + (1/2)**2))\n",
    "plt.plot(k, np.sqrt(k**2 + (2/2)**2))\n",
    "plt.plot(k, np.sqrt(k**2 + (3/2)**2))\n",
    "plt.plot(k, k, \"k--\")\n",
    "plt.ylim(0,2)\n",
    "plt.xlim(0,1)\n",
    "plt.legend([\"n=1\",\"n=2\",\"n=3\",\"$\\\\omega=ck$\"],loc=\"lower right\")\n",
    "plt.ylabel(\"frequency $f L/c = \\\\omega L/2\\\\pi c$\")\n",
    "plt.xlabel(\"wavevector $kL/2\\pi$\")\n",
    "plt.savefig(\"pset3sol_p2a.pdf\")"
   ]
  },
  {
   "cell_type": "markdown",
   "id": "2830b17f",
   "metadata": {},
   "source": [
    "## Part (d)"
   ]
  },
  {
   "cell_type": "markdown",
   "id": "2d8cb05f",
   "metadata": {},
   "source": [
    "Since the default boundary conditions in Meep are PEC, we can just make a $20 \\times 1$ (choosing distance units so that $L=1$, or equivalently choosing distance in units of $L$), and then put PML \"absorbing layers\" in the $x$ direction. \n",
    "\n",
    "We then put in a `GaussianSource`, which creates a pulse current input, and use the built in `dft_ldos` feature, which Fourier-transforms the output electric field and computes the time-averaged power $-\\Re \\int \\hat{\\mathbf{J}}^* \\hat{\\mathbf{E}}$ from the Fourier-transformed fields and currents, and finally normalizes it by the current $|\\hat{\\mathbf{J}}|$ to obtain the power expended by a unit dipole at a set of frequencies.\n",
    "\n",
    "You specify the frequencies in Meep (for both the source and the `dft_ldos`) as a center frequency and a bandwidth, and from the analytical solutions we are expecting interesting things to happen at multiples of `f = 0.5` (the mode cutoff frequencies $\\omega(0)/2\\pi$ in $c/L$ units).   So, we will look at a bandwidth $f \\in [0.25, 3.75]$, corresponding to `fcen = 2` and `df = 3.5`.\n",
    "\n",
    "For choosing the thickness `dpml` of the PML, the runtime `T`, and the `resolution`, in principle these should be $\\infty$ to get the exact Maxwell solutions.  In practice, we start at modest values [and keep doubling them until solutions converge](https://meep.readthedocs.io/en/latest/FAQ/#checking-convergence), as explained in the Meep FAQ."
   ]
  },
  {
   "cell_type": "code",
   "execution_count": 3,
   "id": "efc89ff5",
   "metadata": {},
   "outputs": [
    {
     "data": {
      "text/plain": [
       "<AxesSubplot:xlabel='X', ylabel='Y'>"
      ]
     },
     "execution_count": 3,
     "metadata": {},
     "output_type": "execute_result"
    },
    {
     "data": {
      "image/png": "[encoded data removed]",
      "text/plain": [
       "<Figure size 432x288 with 1 Axes>"
      ]
     },
     "metadata": {
      "needs_background": "light"
     },
     "output_type": "display_data"
    }
   ],
   "source": [
    "# cell width, including PML\n",
    "w = 20\n",
    "\n",
    "# convergence parameters: Meep should converge to the \n",
    "# exact solution as these go to infinity\n",
    "dpml = 2 # PML absorber thickness\n",
    "resolution = 20 # pixels/L\n",
    "T = 8000 # runtime … need to run long enough for fields to decay away\n",
    "\n",
    "fcen = 2\n",
    "df = 1.75 * 2\n",
    "\n",
    "\n",
    "sim = mp.Simulation(cell_size=(w,1),\n",
    "                    boundary_layers=[mp.PML(dpml, direction=mp.X)],\n",
    "                    sources=[mp.Source(src=mp.GaussianSource(fcen,fwidth=df*2),\n",
    "                                       component=mp.Ez, center=(0,0))],\n",
    "                    symmetries=[mp.Mirror(mp.X), mp.Mirror(mp.Y)],\n",
    "                    resolution=resolution)\n",
    "\n",
    "# It's always good to plot the computational cell to make sure it \n",
    "# looks the way we want.\n",
    "sim.plot2D()"
   ]
  },
  {
   "cell_type": "code",
   "execution_count": 4,
   "id": "57a3d930",
   "metadata": {},
   "outputs": [
    {
     "data": {
      "application/vnd.jupyter.widget-view+json": {
       "model_id": "3cb9dead2046411fb6c690704022d178",
       "version_major": 2,
       "version_minor": 0
      },
      "text/plain": [
       "FloatProgress(value=0.0, description='0% done ', max=8001.428571462631)"
      ]
     },
     "metadata": {},
     "output_type": "display_data"
    },
    {
     "name": "stdout",
     "output_type": "stream",
     "text": [
      "ldos0:, 0.25, -0.031138286887906708\n",
      "ldos0:, 0.2617056856187291, -0.061749412976217326\n",
      "ldos0:, 0.2734113712374582, 0.08976938943512597\n",
      "ldos0:, 0.28511705685618727, -0.04066073502794109\n",
      "ldos0:, 0.29682274247491636, -0.03390613014769218\n",
      "ldos0:, 0.3085284280936455, 0.07013341183526113\n",
      "ldos0:, 0.3202341137123746, -0.04394797010820831\n",
      "ldos0:, 0.3319397993311037, -0.014519396621917527\n",
      "ldos0:, 0.34364548494983277, 0.05351775751070134\n",
      "ldos0:, 0.35535117056856186, -0.043496656735875244\n",
      "ldos0:, 0.36705685618729095, -0.0009904541187162825\n",
      "ldos0:, 0.3787625418060201, 0.039449867034074486\n",
      "ldos0:, 0.3904682274247492, -0.040760212157498574\n",
      "ldos0:, 0.40217391304347827, 0.008292828855011477\n",
      "ldos0:, 0.41387959866220736, 0.027589679913287975\n",
      "ldos0:, 0.42558528428093645, -0.03664678884096681\n",
      "ldos0:, 0.43729096989966554, 0.014399291992159852\n",
      "ldos0:, 0.4489966555183946, 0.017681478259804394\n",
      "ldos0:, 0.4607023411371237, -0.03175720996975682\n",
      "ldos0:, 0.4724080267558528, 0.01808305069793951\n",
      "ldos0:, 0.4841137123745819, 0.009527530039191136\n",
      "ldos0:, 0.495819397993311, -0.02262748155572849\n",
      "ldos0:, 0.5075250836120402, 3.5518239208125246\n",
      "ldos0:, 0.5192307692307692, 2.3224495144442887\n",
      "ldos0:, 0.5309364548494984, 1.8706042375885437\n",
      "ldos0:, 0.5426421404682273, 1.6524219365627384\n",
      "ldos0:, 0.5543478260869565, 1.4679859785905884\n",
      "ldos0:, 0.5660535117056855, 1.3400605787680495\n",
      "ldos0:, 0.5777591973244147, 1.2886548155742112\n",
      "ldos0:, 0.5894648829431438, 1.1952318878095511\n",
      "ldos0:, 0.6011705685618729, 1.135275420959686\n",
      "ldos0:, 0.612876254180602, 1.1190474652234252\n",
      "ldos0:, 0.6245819397993311, 1.054099178057805\n",
      "ldos0:, 0.6362876254180602, 1.0232986155647794\n",
      "ldos0:, 0.6479933110367893, 1.0179276273615474\n",
      "ldos0:, 0.6596989966555183, 0.966699987329367\n",
      "ldos0:, 0.6714046822742474, 0.9524203992693965\n",
      "ldos0:, 0.6831103678929766, 0.9496634620259252\n",
      "ldos0:, 0.6948160535117056, 0.9073708221382334\n",
      "ldos0:, 0.7065217391304348, 0.9034493421788548\n",
      "ldos0:, 0.7182274247491638, 0.900063696803094\n",
      "ldos0:, 0.729933110367893, 0.8647718253668345\n",
      "ldos0:, 0.741638795986622, 0.8675470288611374\n",
      "ldos0:, 0.7533444816053512, 0.8622281697886955\n",
      "ldos0:, 0.7650501672240803, 0.8330405160736587\n",
      "ldos0:, 0.7767558528428093, 0.8400236225656118\n",
      "ldos0:, 0.7884615384615384, 0.8323905155121808\n",
      "ldos0:, 0.8001672240802675, 0.80878636998949\n",
      "ldos0:, 0.8118729096989966, 0.8181493088267398\n",
      "ldos0:, 0.8235785953177257, 0.8083196591786358\n",
      "ldos0:, 0.8352842809364548, 0.7898880441309767\n",
      "ldos0:, 0.8469899665551839, 0.8002330069309543\n",
      "ldos0:, 0.858695652173913, 0.7885981110090196\n",
      "ldos0:, 0.8704013377926421, 0.7749327723223423\n",
      "ldos0:, 0.8821070234113711, 0.7851928102968093\n",
      "ldos0:, 0.8938127090301002, 0.7722784073017571\n",
      "ldos0:, 0.9055183946488294, 0.7629205557258345\n",
      "ldos0:, 0.9172240802675585, 0.7723117725181055\n",
      "ldos0:, 0.9289297658862876, 0.7587088686890139\n",
      "ldos0:, 0.9406354515050167, 0.7531276055242643\n",
      "ldos0:, 0.9523411371237458, 0.7610963731818677\n",
      "ldos0:, 0.9640468227424749, 0.7474043307880625\n",
      "ldos0:, 0.975752508361204, 0.745022003227837\n",
      "ldos0:, 0.9874581939799331, 0.7512250198983318\n",
      "ldos0:, 0.9991638795986622, 0.7379868267986288\n",
      "ldos0:, 1.0108695652173911, 0.7381810000037633\n",
      "ldos0:, 1.0225752508361203, 0.7424833388099881\n",
      "ldos0:, 1.0342809364548495, 0.7301726988291983\n",
      "ldos0:, 1.0459866220735785, 0.7322838688711217\n",
      "ldos0:, 1.0576923076923075, 0.734712873541106\n",
      "ldos0:, 1.0693979933110367, 0.7237109816806643\n",
      "ldos0:, 1.0811036789297659, 0.7270955733551953\n",
      "ldos0:, 1.0928093645484949, 0.7278304386644323\n",
      "ldos0:, 1.104515050167224, 0.7183779142702202\n",
      "ldos0:, 1.1162207357859533, 0.7224129445738429\n",
      "ldos0:, 1.1279264214046822, 0.7217840945022751\n",
      "ldos0:, 1.1396321070234112, 0.7139931658578209\n",
      "ldos0:, 1.1513377926421404, 0.7180976578553003\n",
      "ldos0:, 1.1630434782608696, 0.7165346140795689\n",
      "ldos0:, 1.1747491638795986, 0.710361247282373\n",
      "ldos0:, 1.1864548494983276, 0.7140530310980585\n",
      "ldos0:, 1.1981605351170568, 0.7120947433476316\n",
      "ldos0:, 1.209866220735786, 0.7073030002360137\n",
      "ldos0:, 1.221571906354515, 0.710190360284815\n",
      "ldos0:, 1.233277591973244, 0.7084720072141509\n",
      "ldos0:, 1.2449832775919731, 0.7046476343137029\n",
      "ldos0:, 1.2566889632107023, 0.7064842249919908\n",
      "ldos0:, 1.2683946488294313, 0.7057027647276294\n",
      "ldos0:, 1.2801003344481605, 0.7021705818156162\n",
      "ldos0:, 1.2918060200668895, 0.7029154633264024\n",
      "ldos0:, 1.3035117056856187, 0.7038896672990596\n",
      "ldos0:, 1.3152173913043477, 0.6996291417085073\n",
      "ldos0:, 1.3269230769230769, 0.6994871648515095\n",
      "ldos0:, 1.3386287625418059, 0.7031890270549361\n",
      "ldos0:, 1.350334448160535, 0.6966348423154262\n",
      "ldos0:, 1.362040133779264, 0.6962679122746663\n",
      "ldos0:, 1.3737458193979932, 0.7040235630149873\n",
      "ldos0:, 1.3854515050167224, 0.6924199152643786\n",
      "ldos0:, 1.3971571906354514, 0.6933533218458903\n",
      "ldos0:, 1.4088628762541806, 0.7075564908668179\n",
      "ldos0:, 1.4205685618729096, 0.6849276790028436\n",
      "ldos0:, 1.4322742474916388, 0.6911038528766326\n",
      "ldos0:, 1.4439799331103678, 0.7185931231467798\n",
      "ldos0:, 1.455685618729097, 0.6638451761722073\n",
      "ldos0:, 1.467391304347826, 0.6918165038996499\n",
      "ldos0:, 1.4790969899665551, 0.8062064911647195\n",
      "ldos0:, 1.4908026755852841, 10.02087424411265\n",
      "ldos0:, 1.5025083612040133, 4.6955481563472805\n",
      "ldos0:, 1.5142140468227423, 4.49064055425918\n",
      "ldos0:, 1.5259197324414715, 3.802900975749094\n",
      "ldos0:, 1.5376254180602005, 3.3152599311469153\n",
      "ldos0:, 1.5493311036789297, 3.03968051505317\n",
      "ldos0:, 1.5610367892976589, 2.8652767944145188\n",
      "ldos0:, 1.5727424749163879, 2.656396276589034\n",
      "ldos0:, 1.584448160535117, 2.5595212990744627\n",
      "ldos0:, 1.596153846153846, 2.5004527935101177\n",
      "ldos0:, 1.6078595317725752, 2.373647550169729\n",
      "ldos0:, 1.6195652173913042, 2.3217794928018773\n",
      "ldos0:, 1.6312709030100334, 2.2794529028847035\n",
      "ldos0:, 1.6429765886287624, 2.1955843180394337\n",
      "ldos0:, 1.6546822742474916, 2.1655957821100955\n",
      "ldos0:, 1.6663879598662206, 2.133898129502681\n",
      "ldos0:, 1.6780936454849498, 2.0714476741173367\n",
      "ldos0:, 1.6897993311036787, 2.053918307654053\n",
      "ldos0:, 1.701505016722408, 2.0300471139086884\n",
      "ldos0:, 1.713210702341137, 1.9774948775620473\n",
      "ldos0:, 1.7249163879598661, 1.9725253417679314\n",
      "ldos0:, 1.736622073578595, 1.9483744767441966\n",
      "ldos0:, 1.7483277591973243, 1.9067092297835784\n",
      "ldos0:, 1.7600334448160535, 1.9081253943471992\n",
      "ldos0:, 1.7717391304347825, 1.8837910512970946\n",
      "ldos0:, 1.7834448160535117, 1.850612724806933\n",
      "ldos0:, 1.7951505016722407, 1.8562102411843124\n",
      "ldos0:, 1.8068561872909699, 1.8311406674577047\n",
      "ldos0:, 1.8185618729096988, 1.80508671447603\n",
      "ldos0:, 1.830267558528428, 1.813725494091221\n",
      "ldos0:, 1.841973244147157, 1.7868784114555831\n",
      "ldos0:, 1.8536789297658862, 1.7680108264428305\n",
      "ldos0:, 1.8653846153846152, 1.777866096779158\n",
      "ldos0:, 1.8770903010033444, 1.7493251360623638\n",
      "ldos0:, 1.8887959866220734, 1.737488859382683\n",
      "ldos0:, 1.9005016722408026, 1.746990044320315\n",
      "ldos0:, 1.9122073578595316, 1.7171789464000147\n",
      "ldos0:, 1.9239130434782608, 1.7120862462546578\n",
      "ldos0:, 1.9356187290969897, 1.7200209728723446\n",
      "ldos0:, 1.947324414715719, 1.6894915209314854\n",
      "ldos0:, 1.9590301003344481, 1.6908236087957758\n",
      "ldos0:, 1.970735785953177, 1.696078545953012\n",
      "ldos0:, 1.9824414715719063, 1.6655305793464141\n",
      "ldos0:, 1.9941471571906353, 1.6729830209938672\n",
      "ldos0:, 2.0058528428093645, 1.6745412120460523\n",
      "ldos0:, 2.0175585284280935, 1.6448009706209703\n",
      "ldos0:, 2.0292642140468224, 1.6579311834639066\n",
      "ldos0:, 2.0409698996655514, 1.6548681036071284\n",
      "ldos0:, 2.052675585284281, 1.6269740845495102\n",
      "ldos0:, 2.06438127090301, 1.645217172458665\n",
      "ldos0:, 2.0760869565217392, 1.6366549173712412\n",
      "ldos0:, 2.0877926421404682, 1.6117576924851102\n",
      "ldos0:, 2.099498327759197, 1.634401191545197\n",
      "ldos0:, 2.111204013377926, 1.6196035645298297\n",
      "ldos0:, 2.122909698996655, 1.5990183732718255\n",
      "ldos0:, 2.1346153846153846, 1.625124755670492\n",
      "ldos0:, 2.1463210702341136, 1.603407058692286\n",
      "ldos0:, 2.158026755852843, 1.5886254953047139\n",
      "ldos0:, 2.169732441471572, 1.6170892629142122\n",
      "ldos0:, 2.181438127090301, 1.5878731033951712\n",
      "ldos0:, 2.19314381270903, 1.5805602284342575\n",
      "ldos0:, 2.204849498327759, 1.6099459181554558\n",
      "ldos0:, 2.216555183946488, 1.5727215366356835\n",
      "ldos0:, 2.2282608695652173, 1.5749457101754336\n",
      "ldos0:, 2.2399665551839463, 1.6034548925073644\n",
      "ldos0:, 2.2516722408026753, 1.5576224964816\n",
      "ldos0:, 2.2633779264214047, 1.5719972968434393\n",
      "ldos0:, 2.2750836120401337, 1.5972984564665123\n",
      "ldos0:, 2.2867892976588626, 1.5421056670658289\n",
      "ldos0:, 2.2984949832775916, 1.572374379381926\n",
      "ldos0:, 2.310200668896321, 1.5910982183679754\n",
      "ldos0:, 2.32190635451505, 1.5251522659122503\n",
      "ldos0:, 2.333612040133779, 1.577560198277052\n",
      "ldos0:, 2.3453177257525084, 1.5842598898639517\n",
      "ldos0:, 2.3570234113712374, 1.5044073657044876\n",
      "ldos0:, 2.3687290969899664, 1.5918347213254898\n",
      "ldos0:, 2.3804347826086953, 1.575219090804328\n",
      "ldos0:, 2.3921404682274248, 1.471723237253935\n",
      "ldos0:, 2.4038461538461537, 1.6324487692141834\n",
      "ldos0:, 2.4155518394648827, 1.5571779812503597\n",
      "ldos0:, 2.4272575250836117, 1.371807685971007\n",
      "ldos0:, 2.438963210702341, 1.9108413253671506\n",
      "ldos0:, 2.45066889632107, 0.4850404584776776\n",
      "ldos0:, 2.462374581939799, 11.044823072264737\n",
      "ldos0:, 2.474080267558528, 6.823276007531949\n",
      "ldos0:, 2.4857859531772575, 5.186483491714775\n",
      "ldos0:, 2.4974916387959865, 5.209279798665713\n",
      "ldos0:, 2.5091973244147154, 4.603508911017684\n",
      "ldos0:, 2.520903010033445, 4.4184798659205935\n",
      "ldos0:, 2.532608695652174, 4.178461300247333\n",
      "ldos0:, 2.544314381270903, 3.9414343123900495\n",
      "ldos0:, 2.556020066889632, 3.8683158959233768\n",
      "ldos0:, 2.567725752508361, 3.680945707082433\n",
      "ldos0:, 2.57943143812709, 3.5591633656555217\n",
      "ldos0:, 2.591137123745819, 3.575219216848768\n",
      "ldos0:, 2.602842809364548, 3.451552993923868\n",
      "ldos0:, 2.6145484949832776, 3.361291087167491\n",
      "ldos0:, 2.6262541806020065, 3.371204373873044\n",
      "ldos0:, 2.6379598662207355, 3.2717162327470337\n",
      "ldos0:, 2.6496655518394645, 3.22249826944081\n",
      "ldos0:, 2.661371237458194, 3.2272439517653515\n",
      "ldos0:, 2.673076923076923, 3.1369126924849122\n",
      "ldos0:, 2.684782608695652, 3.1200203992950195\n",
      "ldos0:, 2.6964882943143813, 3.111704805789918\n",
      "ldos0:, 2.7081939799331103, 3.038671580795576\n",
      "ldos0:, 2.7198996655518393, 3.035690140146459\n",
      "ldos0:, 2.7316053511705682, 3.0206262826757597\n",
      "ldos0:, 2.7433110367892977, 2.9618600092345346\n",
      "ldos0:, 2.7550167224080266, 2.9651960953468195\n",
      "ldos0:, 2.7667224080267556, 2.9490449755829484\n",
      "ldos0:, 2.7784280936454846, 2.896049863053068\n",
      "ldos0:, 2.790133779264214, 2.910804638956365\n",
      "ldos0:, 2.801839464882943, 2.8852562201978387\n",
      "ldos0:, 2.813545150501672, 2.8454931196165045\n",
      "ldos0:, 2.825250836120401, 2.86216111998302\n",
      "ldos0:, 2.8369565217391304, 2.8330778227605444\n",
      "ldos0:, 2.8486622073578594, 2.8020206120019284\n",
      "ldos0:, 2.8603678929765883, 2.8219243728195402\n",
      "ldos0:, 2.8720735785953178, 2.786927010989796\n",
      "ldos0:, 2.8837792642140467, 2.7667941418069417\n",
      "ldos0:, 2.8954849498327757, 2.7863407945774186\n",
      "ldos0:, 2.9071906354515047, 2.7468991516115455\n",
      "ldos0:, 2.918896321070234, 2.7378774534035304\n",
      "ldos0:, 2.930602006688963, 2.754310870811595\n",
      "ldos0:, 2.942307692307692, 2.7125445016760383\n",
      "ldos0:, 2.954013377926421, 2.713422928565937\n",
      "ldos0:, 2.9657190635451505, 2.72587128315116\n",
      "ldos0:, 2.9774247491638794, 2.6822974061374585\n",
      "ldos0:, 2.9891304347826084, 2.6934700256742\n",
      "ldos0:, 3.0008361204013374, 2.6997570857570663\n",
      "ldos0:, 3.012541806020067, 2.655941643293798\n",
      "ldos0:, 3.024247491638796, 2.6772930643245036\n",
      "ldos0:, 3.035953177257525, 2.6752619219024876\n",
      "ldos0:, 3.0476588628762538, 2.633496643113318\n",
      "ldos0:, 3.059364548494983, 2.6640844806260953\n",
      "ldos0:, 3.071070234113712, 2.6520152571026867\n",
      "ldos0:, 3.082775919732441, 2.614609694702183\n",
      "ldos0:, 3.0944816053511706, 2.6534915411760007\n",
      "ldos0:, 3.1061872909698995, 2.6297038867766993\n",
      "ldos0:, 3.1178929765886285, 2.5990436329613544\n",
      "ldos0:, 3.1295986622073575, 2.645163298474905\n",
      "ldos0:, 3.141304347826087, 2.607745898903\n",
      "ldos0:, 3.153010033444816, 2.586985928317521\n",
      "ldos0:, 3.164715719063545, 2.638972558435944\n",
      "ldos0:, 3.176421404682274, 2.585280205184522\n",
      "ldos0:, 3.1881270903010033, 2.5786748083327287\n",
      "ldos0:, 3.1998327759197323, 2.63491286085062\n",
      "ldos0:, 3.2115384615384612, 2.5612596146524473\n",
      "ldos0:, 3.22324414715719, 2.5749250588147716\n",
      "ldos0:, 3.2349498327759196, 2.6330786605476173\n",
      "ldos0:, 3.2466555183946486, 2.533233092819653\n",
      "ldos0:, 3.2583612040133776, 2.5779397926892336\n",
      "ldos0:, 3.270066889632107, 2.6346436667336794\n",
      "ldos0:, 3.281772575250836, 2.494795634302444\n",
      "ldos0:, 3.293478260869565, 2.5939997295983503\n",
      "ldos0:, 3.305183946488294, 2.6438338877180407\n",
      "ldos0:, 3.3168896321070234, 2.4215600454706783\n",
      "ldos0:, 3.3285953177257523, 2.6545439489273237\n",
      "ldos0:, 3.3403010033444813, 2.6894248910265173\n",
      "ldos0:, 3.3520066889632103, 2.0329901210610917\n",
      "ldos0:, 3.3637123745819397, 5.251395118144264\n",
      "ldos0:, 3.3754180602006687, 7.315658913190805\n",
      "ldos0:, 3.3871237458193977, 10.653768958413947\n",
      "ldos0:, 3.3988294314381267, 7.176494421472952\n",
      "ldos0:, 3.410535117056856, 6.299246632387333\n",
      "ldos0:, 3.422240802675585, 6.008465781922278\n",
      "ldos0:, 3.433946488294314, 5.850645895897359\n",
      "ldos0:, 3.4456521739130435, 5.767350728257261\n",
      "ldos0:, 3.4573578595317724, 5.565734695898618\n",
      "ldos0:, 3.4690635451505014, 5.245430854635106\n",
      "ldos0:, 3.4807692307692304, 5.1839883913315346\n",
      "ldos0:, 3.49247491638796, 5.0200888723598895\n",
      "ldos0:, 3.504180602006689, 4.792086516143123\n",
      "ldos0:, 3.5158862876254178, 4.798284170276328\n",
      "ldos0:, 3.5275919732441468, 4.739512334004339\n",
      "ldos0:, 3.539297658862876, 4.6320838216926035\n",
      "ldos0:, 3.551003344481605, 4.6244628540206705\n",
      "ldos0:, 3.562709030100334, 4.52385993926152\n",
      "ldos0:, 3.574414715719063, 4.461693280763803\n",
      "ldos0:, 3.5861204013377925, 4.481860034429285\n",
      "ldos0:, 3.5978260869565215, 4.38231380203909\n",
      "ldos0:, 3.6095317725752505, 4.34011310503739\n",
      "ldos0:, 3.6212374581939795, 4.360059279152018\n",
      "ldos0:, 3.632943143812709, 4.273157760746938\n",
      "ldos0:, 3.644648829431438, 4.2468699422224\n",
      "ldos0:, 3.656354515050167, 4.260933142641881\n",
      "ldos0:, 3.6680602006688963, 4.1876527923213755\n",
      "ldos0:, 3.6797658862876252, 4.167599018864098\n",
      "ldos0:, 3.691471571906354, 4.185240431211866\n",
      "ldos0:, 3.703177257525083, 4.112864629789932\n",
      "ldos0:, 3.7148829431438126, 4.105017612451401\n",
      "ldos0:, 3.7265886287625416, 4.123055881761211\n",
      "ldos0:, 3.7382943143812706, 4.046625172415962\n",
      "ldos0:, 3.75, 4.059467977551766\n"
     ]
    }
   ],
   "source": [
    "ldos = mp.Ldos(fcen, df, 300)\n",
    "sim.run(mp.dft_ldos(ldos=ldos), until_after_sources=8000)"
   ]
  },
  {
   "cell_type": "markdown",
   "id": "3777e58f",
   "metadata": {},
   "source": [
    "Now, let's plot the solution: the power (LDOS) as a function of frequency."
   ]
  },
  {
   "cell_type": "code",
   "execution_count": 5,
   "id": "ee728f24",
   "metadata": {},
   "outputs": [
    {
     "data": {
      "text/plain": [
       "(0.0, 10.0)"
      ]
     },
     "execution_count": 5,
     "metadata": {},
     "output_type": "execute_result"
    },
    {
     "data": {
      "image/png": "[encoded data removed]",
      "text/plain": [
       "<Figure size 432x288 with 1 Axes>"
      ]
     },
     "metadata": {
      "needs_background": "light"
     },
     "output_type": "display_data"
    }
   ],
   "source": [
    "plt.plot(mp.get_ldos_freqs(ldos), np.abs(sim.ldos_data))\n",
    "plt.title(\"problem 2d: LDOS in a metal waveguide\")\n",
    "plt.xlabel(\"frequency f (c/L)\")\n",
    "plt.ylabel(\"dipole power (a.u.)\")\n",
    "plt.ylim(0,10)"
   ]
  },
  {
   "cell_type": "markdown",
   "id": "0189f3a2",
   "metadata": {},
   "source": [
    "Just as expected, we see a few interesting features:\n",
    "\n",
    "* Below the lowest cutoff ($f < 0.5$), the power is $\\approx 0$.\n",
    "* There is a sharp ($\\sim 1/\\sqrt{f - f_0}$) divergence at every mode cutoff frequency (multiples of $0.5$).\n",
    "* Overall, the power goes up and up as more modes are added.\n",
    "\n",
    "There is also a numerical artifact: some [ringing artifacts](https://en.wikipedia.org/wiki/Ringing_artifacts) where the spectrum oscillates rapidly near the cutoff.  This typically arises if we stop the simulation too soon, before the modes have completely decayed away, causing the Fourier transform to be [windowed](https://en.wikipedia.org/wiki/Window_function); this is also called [spectral leakage](https://en.wikipedia.org/wiki/Spectral_leakage).   Near the cutoffs, we have very long-lived resonances (we will see later that the [group velocity](https://en.wikipedia.org/wiki/Group_velocity) is zero at cutoffs), so it takes a long time for the field to decay away (and PML has a difficult time absorbing such [\"slow-light\" modes](https://en.wikipedia.org/wiki/Slow_light) as well).\n",
    "\n",
    "But the numerics are good enough to see clear qualitative agreement with the theory.  To show *quantitative* agreement, we could plot the theoretical curve on top of the Meep curve, but this requires very careful attention to normalization and units."
   ]
  }
 ],
 "metadata": {
  "@webio": {
   "lastCommId": null,
   "lastKernelId": null
  },
  "kernelspec": {
   "display_name": "Python 3.7 + Meep",
   "language": "python",
   "name": "pythonmeep"
  },
  "language_info": {
   "codemirror_mode": {
    "name": "ipython",
    "version": 3
   },
   "file_extension": ".py",
   "mimetype": "text/x-python",
   "name": "python",
   "nbconvert_exporter": "python",
   "pygments_lexer": "ipython3",
   "version": "3.7.11"
  }
 },
 "nbformat": 4,
 "nbformat_minor": 5
}
