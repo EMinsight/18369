{
 "cells": [
  {
   "cell_type": "markdown",
   "metadata": {},
   "source": [
    "# 18.369 pset 4\n",
    "\n",
    "This is a template for the MPB calculations in pset 4, in the form of a Jupyter notebook.  You will need to install Meep and MPB via the Anaconda Python packages, which also allows you to run Jupyter notebooks in your browser."
   ]
  },
  {
   "cell_type": "code",
   "execution_count": null,
   "metadata": {},
   "outputs": [],
   "source": [
    "# do inline plots with Python's matplotlib library\n",
    "%matplotlib inline\n",
    "from matplotlib import pyplot as plt\n",
    "import numpy as np\n",
    "import math\n",
    "\n",
    "# load the Meep and MPB modules in Python\n",
    "import meep as mp\n",
    "from meep import mpb"
   ]
  },
  {
   "cell_type": "markdown",
   "metadata": {},
   "source": [
    "## Problem 2: Band gaps in MPB\n",
    "\n",
    "The following code computes and plots the band diagram of a 1d-periodic structure, consisting of layers of two materials $\\varepsilon_1 = 12$ and $\\varepsilon_2 = 1$ with thicknesses $d_1$ and $d_2 = a - d_1$, respectively.\n",
    "\n",
    "In 1d, both polarizations are equivalent, so we compute the \"TM\" ($E_z$ polarization) band structure only.  The following code computes it for $d_1 = 0.4a$, where we have a period $a=1$:"
   ]
  },
  {
   "cell_type": "code",
   "execution_count": null,
   "metadata": {},
   "outputs": [],
   "source": [
    "eps1 = 12\n",
    "eps2 = 1\n",
    "d1 = 0.4\n",
    "d2 = 1 - d1\n",
    "\n",
    "ms = mpb.ModeSolver(                    \n",
    "                    # unit cell is just size 1 in x direction (and zero size in y and z).\n",
    "                    geometry_lattice=mp.Lattice(size=(1,0,0)),\n",
    "                    \n",
    "                    # we could define the unit cell by two objects (eps1 and eps2), but it\n",
    "                    # is easier just to set the default material to eps2 and then add one\n",
    "                    # object for eps1.\n",
    "                    geometry=[mp.Block(center=(0,0,0), size=(d1,mp.inf,mp.inf),\n",
    "                                       material=mp.Medium(epsilon=eps1))],\n",
    "                    default_material=mp.Medium(epsilon=eps2),\n",
    "    \n",
    "                    # Let's set up the k points we want to compute.  Actually, to get the\n",
    "                    # band gap we really only need k = pi/a, but we'll compute a range\n",
    "                    # of k's in the irreducible Brillouin zone just so that we can make\n",
    "                    # nice plots if we want.  Note that k is in units of 2pi/a, so, k=pi/a\n",
    "                    # is just given as k=0.5.\n",
    "                    k_points=mp.interpolate(9, [mp.Vector3(0), mp.Vector3(0.5)]),\n",
    "                    \n",
    "                    resolution=32, # this is plenty for the first few bands\n",
    "                    num_bands=5 # the number of bands to compute (you may want more or less)\n",
    "                    )\n",
    "\n",
    "ms.run_tm() # TM and TE are equivalent in 1d, so we'll just do TM"
   ]
  },
  {
   "cell_type": "markdown",
   "metadata": {},
   "source": [
    "Now, let's plot the computed band structure:"
   ]
  },
  {
   "cell_type": "code",
   "execution_count": null,
   "metadata": {},
   "outputs": [],
   "source": [
    "freqs = ms.all_freqs # all the computed eigenfrequencies\n",
    "kx = [k.x for k in ms.k_points] # get a list of the kx values\n",
    "\n",
    "plt.figure(figsize=(9,6))\n",
    "plt.plot(kx, freqs, \"bo-\")\n",
    "plt.title(\"band structure for $d_1=%g$\" % d1)\n",
    "plt.xlabel(\"$k_x (2\\pi/a)$\")\n",
    "plt.ylabel(\"frequency $(c/a)$\")\n",
    "plt.xlim(0,0.5)"
   ]
  },
  {
   "cell_type": "markdown",
   "metadata": {},
   "source": [
    "Note that there is a whole sequence of gaps.  The first gap is between bands 1 and 2 at $k_x=0.5 (2\\pi c/a)$.  We can compute the fractional gap via:"
   ]
  },
  {
   "cell_type": "code",
   "execution_count": null,
   "metadata": {},
   "outputs": [],
   "source": [
    "# A note on indices in Python:\n",
    "#      0 is the *first* index, so bands 1 and 2 are indices 0 and 1\n",
    "#      -1 in Python is the *last* list element, so k=0.5 is index -1\n",
    "\n",
    "gap_bottom = freqs[-1,0]  \n",
    "gap_top =    freqs[-1,1]\n",
    "\n",
    "# fractional gap = gap / midgap:\n",
    "(gap_top - gap_bottom) / (0.5 * (gap_top + gap_bottom))"
   ]
  },
  {
   "cell_type": "markdown",
   "metadata": {},
   "source": [
    "So, we have a 61.9% fractional gap.  You can also see this in the printed output of the `run_tm` function above — at the end of the output there are lines:\n",
    "```\n",
    "Gap from band 1 (0.1667885615162007) to band 2 (0.31635713735972837), 61.9144809491253%\n",
    "Gap from band 2 (0.4237505813444828) to band 3 (0.5967638812678993), 33.90707457109922%\n",
    "Gap from band 3 (0.733882991412184) to band 4 (0.7882439699552264), 7.142765343858948%\n",
    "Gap from band 4 (0.9409357542580066) to band 5 (1.052560956250574), 11.19893515792054%\n",
    "```"
   ]
  },
  {
   "cell_type": "markdown",
   "metadata": {},
   "source": [
    "### part (a)\n",
    "\n",
    "Now, compute the (fractional) gap size as a function of $d_1$.\n",
    "\n",
    "To use a different $d_1$ with a given `ModeSolver` object like `ms` above, just evaluate:\n",
    "```py\n",
    "ms.geometry = [mp.Block(center=(0,0,0), size=(d1,mp.inf,mp.inf),\n",
    "               material=mp.Medium(epsilon=eps1))]\n",
    "```\n",
    "for some different value of `d1`.   Then call `ms.run_tm()` to compute the bands, and compute the gap again as above.\n",
    "\n",
    "(You might want to write a loop or something to do this for a bunch of values of `d1`.  The [`np.linspace` function](https://docs.scipy.org/doc/numpy/reference/generated/numpy.linspace.html) might be helpful.)\n",
    "\n",
    "**Note:** you can insert new \"cells\" for code etcetera by choosing *Insert Cell Below* from the *Insert* menu of the notebook, or using the keyboard shortcut \"Ctrl-m b\"."
   ]
  },
  {
   "cell_type": "code",
   "execution_count": null,
   "metadata": {},
   "outputs": [],
   "source": []
  },
  {
   "cell_type": "markdown",
   "metadata": {},
   "source": [
    "### part (b)\n",
    "\n",
    "Plot the 1d TM band diagram for this structure, with $d_{1}$ given by the quarter wave thickness, showing the first five gaps. Also compute it for $d_{1}=0.12345$ (which I just chose randomly), and superimpose the two plots (plot the quarter-wave bands as solid lines and the other bands as dashed). What special features does the quarter-wave band diagram have?"
   ]
  },
  {
   "cell_type": "code",
   "execution_count": null,
   "metadata": {},
   "outputs": [],
   "source": []
  },
  {
   "cell_type": "markdown",
   "metadata": {},
   "source": [
    "## Problem 3: Defect modes in MPB"
   ]
  },
  {
   "cell_type": "markdown",
   "metadata": {},
   "source": [
    "Here, you will create a ($E_z$/TM-polarized) \"defect\" mode by increasing the dielectric constant of a single layer by $\\Delta\\varepsilon$, pulling an eigenvalue down into the gap. The periodic structure will be the same as the one from the problem above, with the quarter-wave thickness $d_{1}=1/(1+\\sqrt{12})$.\n",
    "\n",
    "To model a defect in MPB, we have to use a \"supercell\" with N copies of the unit cell, where one of the copies has been changed.  This also means that we need to compute N times as many bands, because of the \"band folding\" (the reduction of the Brillouin zone).\n",
    "\n",
    "For convenience, we'll define a function `supercell1(N, deps1)` Python function that sets up our `ModeSolver` object for a given N and $\\Delta\\varepsilon_1$:"
   ]
  },
  {
   "cell_type": "code",
   "execution_count": null,
   "metadata": {},
   "outputs": [],
   "source": [
    "# define a function to create a supercell in the eps1 layer, with some default parameters:\n",
    "def supercell1(N=15, deps1=0, eps1=12, eps2=1):\n",
    "    d1 = math.sqrt(eps2) / (math.sqrt(eps1) + math.sqrt(eps2)) # quarter-wave thickness\n",
    "    d2 = 1 - d1\n",
    "    return mpb.ModeSolver(                    \n",
    "        # unit cell a supercell: size N in x direction (and zero size in y and z).\n",
    "        geometry_lattice=mp.Lattice(size=(N,0,0)),\n",
    "\n",
    "        # To create the supercell geometry, we have to repeat the eps1 block N times,\n",
    "        # and we can do this using the geometric_objects_lattice_duplicates function.\n",
    "        # \n",
    "        # To create the defect, we'll simply append\n",
    "        # a new object with eps1 + deps1 at the end of the geometry list\n",
    "        # -- note that later objects take precedence over earlier objects,\n",
    "        #    so by putting it at the end we ensure that the defect \"overwrites\"\n",
    "        #    the whatever was previously there.\n",
    "        geometry=mp.geometric_objects_lattice_duplicates(\n",
    "                    mp.Lattice(size=(N,0,0)),\n",
    "                    [mp.Block(center=(0,0,0), size=(d1,mp.inf,mp.inf),\n",
    "                              material=mp.Medium(epsilon=eps1))]) +\n",
    "                 [mp.Block(center=(0,0,0), size=(d1,mp.inf,mp.inf),\n",
    "                           material=mp.Medium(epsilon=eps1+deps1))],\n",
    "        \n",
    "        default_material=mp.Medium(epsilon=eps2),\n",
    "\n",
    "        # for computing a defect mode, k doesn't matter (if N is big enough),\n",
    "        # so we'll just set k = 0\n",
    "        k_points=[mp.Vector3(0)],\n",
    "\n",
    "        resolution=32, # this is plenty for the first few bands\n",
    "        \n",
    "        # because of the folding, the first band (before the gap) will be folded\n",
    "        # N times.  So, we need to compute N bands plus some extra bands to\n",
    "        # get whatever defect states lie in the gap.  We'll just use 1 extra band,\n",
    "        # but you'll need to increase this to see higher-order defect modes.\n",
    "        num_bands=N+1\n",
    "        )"
   ]
  },
  {
   "cell_type": "markdown",
   "metadata": {},
   "source": [
    "Before we do anything, it is *always* a good idea to plot the $\\varepsilon(x)$ function returned by `get_epsilon()` in order to make sure it is what we think it is.   Here, we expect to get N copies of the unit cell, with $\\varepsilon_1 = 12 - \\Delta\\varepsilon_1 = 8$ at $x=0$:"
   ]
  },
  {
   "cell_type": "code",
   "execution_count": null,
   "metadata": {},
   "outputs": [],
   "source": [
    "sc = supercell1(N=15, deps1=-4)\n",
    "sc.run_tm()"
   ]
  },
  {
   "cell_type": "code",
   "execution_count": null,
   "metadata": {},
   "outputs": [],
   "source": [
    "N = 15\n",
    "x = np.linspace(-N/2, N/2, N*sc.resolution[0])\n",
    "plt.plot(x, sc.get_epsilon())\n",
    "plt.title(\"supercell $\\epsilon$, with defect\")"
   ]
  },
  {
   "cell_type": "markdown",
   "metadata": {},
   "source": [
    "Looks good!"
   ]
  },
  {
   "cell_type": "markdown",
   "metadata": {},
   "source": [
    "## part (a)\n",
    "\n",
    "When there is no defect ($\\Delta\\varepsilon = 0$), plot out the band diagram $\\omega(k)$ for the $N=5$ supercell, and show that it corresponds to the band diagram of problem 2 “folded” as expected.\n",
    "\n",
    "You'll want to change `N` to `5`, and also change the k points to an array:"
   ]
  },
  {
   "cell_type": "code",
   "execution_count": null,
   "metadata": {},
   "outputs": [],
   "source": [
    "sc = supercell1(N=5, deps1=0)\n",
    "\n",
    "# Compute the band structure for an array of k points.  Note that the k points\n",
    "# are in units of the reciprical lattice, so kx=0.5 is still the edge of the \n",
    "# Brillouin zone (but is not the same kx=pi/a!).\n",
    "sc.k_points = mp.interpolate(19, [mp.Vector3(0), mp.Vector3(0.5)])\n",
    "\n",
    "# compute some more bands so that we get a clear picture of what is going on\n",
    "sc.num_bands = 20\n",
    "\n",
    "sc.run_tm()"
   ]
  },
  {
   "cell_type": "code",
   "execution_count": null,
   "metadata": {},
   "outputs": [],
   "source": [
    "kx = [k.x for k in sc.k_points]\n",
    "freqs = sc.all_freqs\n",
    "\n",
    "# plot freqs vs kx ..."
   ]
  },
  {
   "cell_type": "markdown",
   "metadata": {},
   "source": [
    "### part (b)\n",
    "\n",
    "Create a defect mode (a mode that lies in the band gap of the periodic structure) by increasing the $\\varepsilon$ of a single $\\varepsilon_{1}$ layer by $\\Delta\\varepsilon=1$, and plot the $E_{z}$ field pattern. Do the same thing by increasing a single $\\varepsilon_{2}$ layer. Which mode is even/odd around the mirror plane of the defect? Why?\n",
    "\n",
    "For the $\\Delta\\varepsilon_1$ layer, we can use our `supercell1` function from above:"
   ]
  },
  {
   "cell_type": "code",
   "execution_count": null,
   "metadata": {},
   "outputs": [],
   "source": [
    "N = 100\n",
    "\n",
    "sc = supercell1(N=N, deps1=1)\n",
    "sc.run_tm(mpb.fix_efield_phase)"
   ]
  },
  {
   "cell_type": "code",
   "execution_count": null,
   "metadata": {},
   "outputs": [],
   "source": [
    "# get the Ez field of band N+1, which should be the mode in the gap for deps1 > 0\n",
    "ez = sc.get_efield(N+1)[:,0,0,2]\n",
    "\n",
    "x = np.linspace(-N/2, N/2, N*sc.resolution[0])\n",
    "\n",
    "# for fun, we'll plot on both a linear and a log scale\n",
    "plt.figure(figsize=(13,8))\n",
    "plt.subplot(1,2,1)\n",
    "plt.plot(x, np.real(ez))\n",
    "plt.title(\"supercell $\\Re[E_z]$ for $\\Delta\\epsilon_1 = 1$\")\n",
    "plt.xlabel(\"$x (a)$\")\n",
    "plt.subplot(1,2,2)\n",
    "plt.semilogy(x, np.real(ez))\n",
    "plt.title(\"supercell $|E_z|$ for $\\Delta\\epsilon_1 = 1$\")\n",
    "plt.xlabel(\"$x (a)$\")"
   ]
  },
  {
   "cell_type": "markdown",
   "metadata": {},
   "source": [
    "### part (b) continued\n",
    "\n",
    "Now, to do the same thing but for $\\Delta\\varepsilon_2 = 1$, you'll have to modify the `supercell1` function (maybe defining an analogous `supercell2` function) to create a defect in a $\\varepsilon_2$ layer.\n"
   ]
  },
  {
   "cell_type": "code",
   "execution_count": null,
   "metadata": {},
   "outputs": [],
   "source": [
    "# insert your code here"
   ]
  },
  {
   "cell_type": "markdown",
   "metadata": {},
   "source": [
    "### part (c)\n",
    "\n",
    "Gradually increase the $\\varepsilon$ of a single $\\varepsilon_{2}$ layer, and plot the defect \\omega as a function of $\\Delta\\varepsilon_2$ as the frequency sweeps across the gap. At what $\\Delta\\varepsilon_2$ do you get two defect modes in the gap? Plot the $E_{z}$ of the second defect mode.\n",
    "\n",
    "Be careful to increase the size of the supercell for modes near the edge of the gap, which are only weakly localized.  You may need to increase `num_bands` in order to see a second mode in the gap (if any)."
   ]
  },
  {
   "cell_type": "code",
   "execution_count": null,
   "metadata": {},
   "outputs": [],
   "source": [
    "# insert your code here"
   ]
  },
  {
   "cell_type": "markdown",
   "metadata": {},
   "source": [
    "### part (d)\n",
    "\n",
    "The mode must decay exponentially far from the defect (multiplied by an $e^{i\\frac{\\pi}{a}x}$ sign oscillation and the periodic Bloch envelope, of course). From the $E_{z}$ field computed by MPB, extract this asympotic exponential decay rate (i.e. $\\kappa$ if the field decays $\\sim e^{-\\kappa x}$) and plot this rate as a function of $\\omega$, for the first defect mode, as you increase $\\varepsilon_{2}$ as above (vary $\\varepsilon_{2}$ so that $\\omega$ goes from the top of the gap to the bottom).\n",
    "\n",
    "You'll probably want to increase the supercell size to get a clear picture of the decay rate, especially for modes near the edge of the gap.\n",
    "\n",
    "Note that a good estimate for $\\kappa$ is simply $$\\kappa \\approx \\log|E_z(x)/E_z(x+a)|$$\n",
    "for some suitable $x \\gg 0$ (maybe halfway between the defect and the edge of the computational cell.   From a Python `ez` array, you can compute `kappa = math.log(np.abs(ez[x*resolution]/ez[(x+1)*resolution]))` for a suitable choice of `x`.  Alternatively, you could do some form of curve-fitting."
   ]
  },
  {
   "cell_type": "code",
   "execution_count": null,
   "metadata": {},
   "outputs": [],
   "source": [
    "# insert your code here"
   ]
  }
 ],
 "metadata": {
  "@webio": {
   "lastCommId": null,
   "lastKernelId": null
  },
  "kernelspec": {
   "display_name": "Python 3.7 + Meep",
   "language": "python",
   "name": "pythonmeep"
  },
  "language_info": {
   "codemirror_mode": {
    "name": "ipython",
    "version": 3
   },
   "file_extension": ".py",
   "mimetype": "text/x-python",
   "name": "python",
   "nbconvert_exporter": "python",
   "pygments_lexer": "ipython3",
   "version": "3.7.11"
  }
 },
 "nbformat": 4,
 "nbformat_minor": 2
}
