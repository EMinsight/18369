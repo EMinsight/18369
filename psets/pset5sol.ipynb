{
 "cells": [
  {
   "cell_type": "markdown",
   "metadata": {},
   "source": [
    "# 18.369 pset 5 solutions"
   ]
  },
  {
   "cell_type": "code",
   "execution_count": 1,
   "metadata": {},
   "outputs": [],
   "source": [
    "# import a useful set of modules\n",
    "from matplotlib import pyplot as plt\n",
    "import numpy as np\n",
    "import math\n",
    "import meep as mp\n",
    "from meep import mpb"
   ]
  },
  {
   "cell_type": "markdown",
   "metadata": {},
   "source": [
    "## Problem 2"
   ]
  },
  {
   "cell_type": "markdown",
   "metadata": {},
   "source": [
    "See the solutions for the computation of the Brillouin zone for this lattice, which we implement as follows:"
   ]
  },
  {
   "cell_type": "code",
   "execution_count": 10,
   "metadata": {},
   "outputs": [
    {
     "name": "stdout",
     "output_type": "stream",
     "text": [
      "Initializing eigensolver data\n",
      "Computing 8 bands with 1e-07 tolerance\n",
      "Working in 2 dimensions.\n",
      "Grid size is 32 x 32 x 1.\n",
      "Solving for 8 bands at a time.\n",
      "Creating Maxwell data...\n",
      "Mesh size is 3.\n",
      "Lattice vectors:\n",
      "     (1, 0, 0)\n",
      "     (0.258819, 0.965926, 0)\n",
      "     (0, 0, 1)\n",
      "Cell volume = 0.965926\n",
      "Reciprocal lattice vectors (/ 2 pi):\n",
      "     (1, -0.267949, 0)\n",
      "     (-0, 1.03528, -0)\n",
      "     (0, -0, 1)\n",
      "Geometric objects:\n",
      "     cylinder, center = (0,0,0)\n",
      "          radius 0.2, height 1e+20, axis (0, 0, 1)\n",
      "Geometric object tree has depth 1 and 1 object nodes (vs. 1 actual objects)\n",
      "Initializing epsilon function...\n",
      "Allocating fields...\n",
      "Solving for band polarization: tm.\n",
      "Initializing fields to random numbers...\n",
      "51 k-points\n",
      "  Vector3<0.0, 0.0, 0.0>\n",
      "  Vector3<0.05, 0.05, 0.0>\n",
      "  Vector3<0.1, 0.1, 0.0>\n",
      "  Vector3<0.15000000000000002, 0.15000000000000002, 0.0>\n",
      "  Vector3<0.2, 0.2, 0.0>\n",
      "  Vector3<0.25, 0.25, 0.0>\n",
      "  Vector3<0.30000000000000004, 0.30000000000000004, 0.0>\n",
      "  Vector3<0.35000000000000003, 0.35000000000000003, 0.0>\n",
      "  Vector3<0.4, 0.4, 0.0>\n",
      "  Vector3<0.45, 0.45, 0.0>\n",
      "  Vector3<0.5, 0.5, 0.0>\n",
      "  Vector3<0.5102802323379784, 0.4897197676620216, 0.0>\n",
      "  Vector3<0.5205604646759568, 0.4794395353240432, 0.0>\n",
      "  Vector3<0.5308406970139352, 0.4691593029860648, 0.0>\n",
      "  Vector3<0.5411209293519137, 0.45887907064808636, 0.0>\n",
      "  Vector3<0.5514011616898921, 0.44859883831010794, 0.0>\n",
      "  Vector3<0.5616813940278704, 0.43831860597212957, 0.0>\n",
      "  Vector3<0.5719616263658489, 0.42803837363415115, 0.0>\n",
      "  Vector3<0.5822418587038273, 0.4177581412961727, 0.0>\n",
      "  Vector3<0.5925220910418058, 0.40747790895819436, 0.0>\n",
      "  Vector3<0.6028023233797841, 0.39719767662021593, 0.0>\n",
      "  Vector3<0.5925220910418058, 0.3574779089581943, 0.0>\n",
      "  Vector3<0.5822418587038273, 0.31775814129617275, 0.0>\n",
      "  Vector3<0.5719616263658489, 0.2780383736341512, 0.0>\n",
      "  Vector3<0.5616813940278704, 0.23831860597212956, 0.0>\n",
      "  Vector3<0.5514011616898921, 0.19859883831010797, 0.0>\n",
      "  Vector3<0.5411209293519137, 0.15887907064808637, 0.0>\n",
      "  Vector3<0.5308406970139352, 0.11915930298606475, 0.0>\n",
      "  Vector3<0.5205604646759568, 0.07943953532404319, 0.0>\n",
      "  Vector3<0.5102802323379784, 0.03971976766202162, 0.0>\n",
      "  Vector3<0.5, 0.0, 0.0>\n",
      "  Vector3<0.4897197676620216, -0.03971976766202159, 0.0>\n",
      "  Vector3<0.4794395353240432, -0.07943953532404319, 0.0>\n",
      "  Vector3<0.4691593029860648, -0.11915930298606478, 0.0>\n",
      "  Vector3<0.45887907064808636, -0.15887907064808637, 0.0>\n",
      "  Vector3<0.44859883831010794, -0.19859883831010797, 0.0>\n",
      "  Vector3<0.43831860597212957, -0.23831860597212956, 0.0>\n",
      "  Vector3<0.42803837363415115, -0.2780383736341512, 0.0>\n",
      "  Vector3<0.4177581412961727, -0.31775814129617275, 0.0>\n",
      "  Vector3<0.40747790895819436, -0.3574779089581943, 0.0>\n",
      "  Vector3<0.39719767662021593, -0.39719767662021593, 0.0>\n",
      "  Vector3<0.3574779089581943, -0.3574779089581943, 0.0>\n",
      "  Vector3<0.31775814129617275, -0.31775814129617275, 0.0>\n",
      "  Vector3<0.2780383736341512, -0.2780383736341512, 0.0>\n",
      "  Vector3<0.23831860597212956, -0.23831860597212956, 0.0>\n",
      "  Vector3<0.19859883831010797, -0.19859883831010797, 0.0>\n",
      "  Vector3<0.15887907064808637, -0.15887907064808637, 0.0>\n",
      "  Vector3<0.11915930298606475, -0.11915930298606475, 0.0>\n",
      "  Vector3<0.07943953532404319, -0.07943953532404319, 0.0>\n",
      "  Vector3<0.03971976766202162, -0.03971976766202162, 0.0>\n",
      "  Vector3<0.0, 0.0, 0.0>\n",
      "elapsed time for initialization: 0.01602482795715332\n",
      "solve_kpoint (0,0,0):\n",
      "tmfreqs:, k index, k1, k2, k3, kmag/2pi, tm band 1, tm band 2, tm band 3, tm band 4, tm band 5, tm band 6, tm band 7, tm band 8\n",
      "Solving for bands 2 to 8...\n",
      "Finished solving for bands 2 to 8 after 14 iterations.\n",
      "tmfreqs:, 1, 0, 0, 0, 0, 0, 0.551161, 0.557061, 0.558251, 0.819021, 0.848579, 0.963258, 1.07021\n",
      "elapsed time for k point: 0.04822397232055664\n",
      "solve_kpoint (0.05,0.05,0):\n",
      "Solving for bands 1 to 8...\n",
      "Finished solving for bands 1 to 8 after 7 iterations.\n",
      "tmfreqs:, 2, 0.05, 0.05, 0, 0.0630236, 0.0403211, 0.540366, 0.550416, 0.576092, 0.819787, 0.847264, 0.960933, 1.0705\n",
      "elapsed time for k point: 0.0361480712890625\n",
      "solve_kpoint (0.1,0.1,0):\n",
      "Solving for bands 1 to 8...\n",
      "Finished solving for bands 1 to 8 after 7 iterations.\n",
      "tmfreqs:, 3, 0.1, 0.1, 0, 0.126047, 0.0800329, 0.524491, 0.548265, 0.595398, 0.822035, 0.843309, 0.954984, 1.06849\n",
      "elapsed time for k point: 0.03553414344787598\n",
      "solve_kpoint (0.15,0.15,0):\n",
      "Solving for bands 1 to 8...\n",
      "Finished solving for bands 1 to 8 after 8 iterations.\n",
      "tmfreqs:, 4, 0.15, 0.15, 0, 0.189071, 0.118479, 0.510273, 0.544943, 0.615281, 0.825624, 0.836787, 0.947518, 1.05756\n",
      "elapsed time for k point: 0.03767108917236328\n",
      "solve_kpoint (0.2,0.2,0):\n",
      "Solving for bands 1 to 8...\n",
      "Finished solving for bands 1 to 8 after 8 iterations.\n",
      "tmfreqs:, 5, 0.2, 0.2, 0, 0.252094, 0.154906, 0.497987, 0.540804, 0.635318, 0.828149, 0.830327, 0.940276, 1.0352\n",
      "elapsed time for k point: 0.0392608642578125\n",
      "solve_kpoint (0.25,0.25,0):\n",
      "Solving for bands 1 to 8...\n",
      "Finished solving for bands 1 to 8 after 7 iterations.\n",
      "tmfreqs:, 6, 0.25, 0.25, 0, 0.315118, 0.188428, 0.487901, 0.53627, 0.654842, 0.818541, 0.835845, 0.934072, 1.00607\n",
      "elapsed time for k point: 0.035698890686035156\n",
      "solve_kpoint (0.3,0.3,0):\n",
      "Solving for bands 1 to 8...\n",
      "Finished solving for bands 1 to 8 after 6 iterations.\n",
      "tmfreqs:, 7, 0.3, 0.3, 0, 0.378142, 0.218006, 0.480234, 0.531791, 0.672727, 0.810013, 0.84179, 0.928723, 0.975259\n",
      "elapsed time for k point: 0.031157970428466797\n",
      "solve_kpoint (0.35,0.35,0):\n",
      "Solving for bands 1 to 8...\n",
      "Finished solving for bands 1 to 8 after 6 iterations.\n",
      "tmfreqs:, 8, 0.35, 0.35, 0, 0.441165, 0.2425, 0.475045, 0.527793, 0.687209, 0.805475, 0.847659, 0.921976, 0.947525\n",
      "elapsed time for k point: 0.030517101287841797\n",
      "solve_kpoint (0.4,0.4,0):\n",
      "Solving for bands 1 to 8...\n",
      "Finished solving for bands 1 to 8 after 6 iterations.\n",
      "tmfreqs:, 9, 0.4, 0.4, 0, 0.504189, 0.260817, 0.472104, 0.524647, 0.696488, 0.807651, 0.852791, 0.905484, 0.932862\n",
      "elapsed time for k point: 0.0332028865814209\n",
      "solve_kpoint (0.45,0.45,0):\n",
      "Solving for bands 1 to 8...\n",
      "Finished solving for bands 1 to 8 after 6 iterations.\n",
      "tmfreqs:, 10, 0.45, 0.45, 0, 0.567213, 0.272114, 0.470827, 0.522639, 0.70059, 0.815945, 0.856385, 0.884084, 0.929053\n",
      "elapsed time for k point: 0.041311025619506836\n",
      "solve_kpoint (0.5,0.5,0):\n",
      "Solving for bands 1 to 8...\n",
      "Finished solving for bands 1 to 8 after 6 iterations.\n",
      "tmfreqs:, 11, 0.5, 0.5, 0, 0.630236, 0.275925, 0.47051, 0.521949, 0.701551, 0.821976, 0.857691, 0.873486, 0.928203\n",
      "elapsed time for k point: 0.03560924530029297\n",
      "solve_kpoint (0.51028,0.48972,0):\n",
      "Solving for bands 1 to 8...\n",
      "Finished solving for bands 1 to 8 after 8 iterations.\n",
      "tmfreqs:, 12, 0.51028, 0.48972, 0, 0.630462, 0.275918, 0.470622, 0.521672, 0.70177, 0.821853, 0.857904, 0.873399, 0.926798\n",
      "elapsed time for k point: 0.04130196571350098\n",
      "solve_kpoint (0.52056,0.47944,0):\n",
      "Solving for bands 1 to 8...\n",
      "Finished solving for bands 1 to 8 after 8 iterations.\n",
      "tmfreqs:, 13, 0.52056, 0.47944, 0, 0.631141, 0.275895, 0.470957, 0.520848, 0.702419, 0.821491, 0.858532, 0.873131, 0.923103\n",
      "elapsed time for k point: 0.03816795349121094\n",
      "solve_kpoint (0.530841,0.469159,0):\n",
      "Solving for bands 1 to 8...\n",
      "Finished solving for bands 1 to 8 after 7 iterations.\n",
      "tmfreqs:, 14, 0.530841, 0.469159, 0, 0.632269, 0.275851, 0.471513, 0.5195, 0.703473, 0.820918, 0.859551, 0.872657, 0.918089\n",
      "elapsed time for k point: 0.036364078521728516\n",
      "solve_kpoint (0.541121,0.458879,0):\n",
      "Solving for bands 1 to 8...\n",
      "Finished solving for bands 1 to 8 after 7 iterations.\n",
      "tmfreqs:, 15, 0.541121, 0.458879, 0, 0.633846, 0.275777, 0.472287, 0.517663, 0.704891, 0.820169, 0.860925, 0.87193, 0.912524\n",
      "elapsed time for k point: 0.0350341796875\n",
      "solve_kpoint (0.551401,0.448599,0):\n",
      "Solving for bands 1 to 8...\n",
      "Finished solving for bands 1 to 8 after 6 iterations.\n",
      "tmfreqs:, 16, 0.551401, 0.448599, 0, 0.635867, 0.275663, 0.473275, 0.515384, 0.70662, 0.819287, 0.862613, 0.870879, 0.90691\n",
      "elapsed time for k point: 0.03335976600646973\n",
      "solve_kpoint (0.561681,0.438319,0):\n",
      "Solving for bands 1 to 8...\n",
      "Finished solving for bands 1 to 8 after 6 iterations.\n",
      "tmfreqs:, 17, 0.561681, 0.438319, 0, 0.638329, 0.275494, 0.474469, 0.512718, 0.708595, 0.818311, 0.864579, 0.869405, 0.901598\n",
      "elapsed time for k point: 0.03242206573486328\n",
      "solve_kpoint (0.571962,0.428038,0):\n",
      "Solving for bands 1 to 8...\n"
     ]
    },
    {
     "name": "stdout",
     "output_type": "stream",
     "text": [
      "Finished solving for bands 1 to 8 after 5 iterations.\n",
      "tmfreqs:, 18, 0.571962, 0.428038, 0, 0.641226, 0.27525, 0.475862, 0.509725, 0.710741, 0.817276, 0.866788, 0.867398, 0.896862\n",
      "elapsed time for k point: 0.02898573875427246\n",
      "solve_kpoint (0.582242,0.417758,0):\n",
      "Solving for bands 1 to 8...\n",
      "Finished solving for bands 1 to 8 after 5 iterations.\n",
      "tmfreqs:, 19, 0.582242, 0.417758, 0, 0.644553, 0.274911, 0.477447, 0.506468, 0.712975, 0.816214, 0.86478, 0.869212, 0.892897\n",
      "elapsed time for k point: 0.031197071075439453\n",
      "solve_kpoint (0.592522,0.407478,0):\n",
      "Solving for bands 1 to 8...\n",
      "Finished solving for bands 1 to 8 after 5 iterations.\n",
      "tmfreqs:, 20, 0.592522, 0.407478, 0, 0.648303, 0.274451, 0.479213, 0.503015, 0.715206, 0.81515, 0.861579, 0.871828, 0.889777\n",
      "elapsed time for k point: 0.027904033660888672\n",
      "solve_kpoint (0.602802,0.397198,0):\n",
      "Solving for bands 1 to 8...\n",
      "Finished solving for bands 1 to 8 after 5 iterations.\n",
      "tmfreqs:, 21, 0.602802, 0.397198, 0, 0.652469, 0.273842, 0.48115, 0.499432, 0.717338, 0.814105, 0.857952, 0.874619, 0.887437\n",
      "elapsed time for k point: 0.02653813362121582\n",
      "solve_kpoint (0.592522,0.357478,0):\n",
      "Solving for bands 1 to 8...\n",
      "Finished solving for bands 1 to 8 after 5 iterations.\n",
      "tmfreqs:, 22, 0.592522, 0.357478, 0, 0.629078, 0.27211, 0.480669, 0.497885, 0.72007, 0.810173, 0.854231, 0.87508, 0.890479\n",
      "elapsed time for k point: 0.027493000030517578\n",
      "solve_kpoint (0.582242,0.317758,0):\n",
      "Solving for bands 1 to 8...\n",
      "Finished solving for bands 1 to 8 after 5 iterations.\n",
      "tmfreqs:, 23, 0.582242, 0.317758, 0, 0.607387, 0.269197, 0.473645, 0.503426, 0.722475, 0.802188, 0.853106, 0.871295, 0.901902\n",
      "elapsed time for k point: 0.026495933532714844\n",
      "solve_kpoint (0.571962,0.278038,0):\n",
      "Solving for bands 1 to 8...\n",
      "Finished solving for bands 1 to 8 after 5 iterations.\n",
      "tmfreqs:, 24, 0.571962, 0.278038, 0, 0.587584, 0.265542, 0.464633, 0.511501, 0.724622, 0.792162, 0.85278, 0.867776, 0.916641\n",
      "elapsed time for k point: 0.026389122009277344\n",
      "solve_kpoint (0.561681,0.238319,0):\n",
      "Solving for bands 1 to 8...\n",
      "Finished solving for bands 1 to 8 after 5 iterations.\n",
      "tmfreqs:, 25, 0.561681, 0.238319, 0, 0.569864, 0.261552, 0.455476, 0.520261, 0.726539, 0.781568, 0.852166, 0.865342, 0.933178\n",
      "elapsed time for k point: 0.026979923248291016\n",
      "solve_kpoint (0.551401,0.198599,0):\n",
      "Solving for bands 1 to 8...\n",
      "Finished solving for bands 1 to 8 after 6 iterations.\n",
      "tmfreqs:, 26, 0.551401, 0.198599, 0, 0.554428, 0.257579, 0.446872, 0.528973, 0.728229, 0.771255, 0.851015, 0.864001, 0.950598\n",
      "elapsed time for k point: 0.029353857040405273\n",
      "solve_kpoint (0.541121,0.158879,0):\n",
      "Solving for bands 1 to 8...\n",
      "Finished solving for bands 1 to 8 after 6 iterations.\n",
      "tmfreqs:, 27, 0.541121, 0.158879, 0, 0.541472, 0.253922, 0.439266, 0.537109, 0.72969, 0.761792, 0.849589, 0.86341, 0.968078\n",
      "elapsed time for k point: 0.031032085418701172\n",
      "solve_kpoint (0.530841,0.119159,0):\n",
      "Solving for bands 1 to 8...\n",
      "Finished solving for bands 1 to 8 after 7 iterations.\n",
      "tmfreqs:, 28, 0.530841, 0.119159, 0, 0.531176, 0.250824, 0.432997, 0.544178, 0.730917, 0.753652, 0.848229, 0.863204, 0.984684\n",
      "elapsed time for k point: 0.034507036209106445\n",
      "solve_kpoint (0.52056,0.0794395,0):\n",
      "Solving for bands 1 to 8...\n",
      "Finished solving for bands 1 to 8 after 7 iterations.\n",
      "tmfreqs:, 29, 0.52056, 0.0794395, 0, 0.523698, 0.248474, 0.428328, 0.549697, 0.731918, 0.747277, 0.847157, 0.863158, 0.999132\n",
      "elapsed time for k point: 0.03439831733703613\n",
      "solve_kpoint (0.51028,0.0397198,0):\n",
      "Solving for bands 1 to 8...\n",
      "Finished solving for bands 1 to 8 after 8 iterations.\n",
      "tmfreqs:, 30, 0.51028, 0.0397198, 0, 0.51916, 0.247009, 0.425448, 0.553226, 0.732671, 0.743096, 0.846482, 0.86316, 1.0095\n",
      "elapsed time for k point: 0.04430675506591797\n",
      "solve_kpoint (0.5,0,0):\n",
      "Solving for bands 1 to 8...\n",
      "Finished solving for bands 1 to 8 after 8 iterations.\n",
      "tmfreqs:, 31, 0.5, 0, 0, 0.517638, 0.246512, 0.424476, 0.554442, 0.73299, 0.741596, 0.846253, 0.863166, 1.01339\n",
      "elapsed time for k point: 0.03781604766845703\n",
      "solve_kpoint (0.48972,-0.0397198,0):\n",
      "Solving for bands 1 to 8...\n",
      "Finished solving for bands 1 to 8 after 8 iterations.\n",
      "tmfreqs:, 32, 0.48972, -0.0397198, 0, 0.51916, 0.247009, 0.425448, 0.553226, 0.732671, 0.743096, 0.846483, 0.86316, 1.0095\n",
      "elapsed time for k point: 0.038233041763305664\n",
      "solve_kpoint (0.47944,-0.0794395,0):\n",
      "Solving for bands 1 to 8...\n",
      "Finished solving for bands 1 to 8 after 8 iterations.\n",
      "tmfreqs:, 33, 0.47944, -0.0794395, 0, 0.523698, 0.248474, 0.428328, 0.549697, 0.731918, 0.747277, 0.847157, 0.863158, 0.999132\n",
      "elapsed time for k point: 0.10746288299560547\n",
      "solve_kpoint (0.469159,-0.119159,0):\n",
      "Solving for bands 1 to 8...\n",
      "Finished solving for bands 1 to 8 after 7 iterations.\n",
      "tmfreqs:, 34, 0.469159, -0.119159, 0, 0.531176, 0.250824, 0.432997, 0.544178, 0.730917, 0.753652, 0.848229, 0.863204, 0.984683\n",
      "elapsed time for k point: 0.03487110137939453\n",
      "solve_kpoint (0.458879,-0.158879,0):\n",
      "Solving for bands 1 to 8...\n",
      "Finished solving for bands 1 to 8 after 7 iterations.\n",
      "tmfreqs:, 35, 0.458879, -0.158879, 0, 0.541472, 0.253922, 0.439266, 0.537109, 0.729689, 0.761792, 0.849589, 0.86341, 0.968078\n",
      "elapsed time for k point: 0.03419899940490723\n",
      "solve_kpoint (0.448599,-0.198599,0):\n",
      "Solving for bands 1 to 8...\n",
      "Finished solving for bands 1 to 8 after 6 iterations.\n",
      "tmfreqs:, 36, 0.448599, -0.198599, 0, 0.554428, 0.257579, 0.446872, 0.528973, 0.728229, 0.771256, 0.851015, 0.864, 0.950598\n",
      "elapsed time for k point: 0.029961109161376953\n",
      "solve_kpoint (0.438319,-0.238319,0):\n",
      "Solving for bands 1 to 8...\n",
      "Finished solving for bands 1 to 8 after 6 iterations.\n",
      "tmfreqs:, 37, 0.438319, -0.238319, 0, 0.569864, 0.261552, 0.455476, 0.520261, 0.726539, 0.781569, 0.852165, 0.865342, 0.933177\n",
      "elapsed time for k point: 0.029556989669799805\n",
      "solve_kpoint (0.428038,-0.278038,0):\n",
      "Solving for bands 1 to 8...\n",
      "Finished solving for bands 1 to 8 after 5 iterations.\n",
      "tmfreqs:, 38, 0.428038, -0.278038, 0, 0.587584, 0.265542, 0.464633, 0.511501, 0.724622, 0.792162, 0.85278, 0.867776, 0.916641\n",
      "elapsed time for k point: 0.02664804458618164\n",
      "solve_kpoint (0.417758,-0.317758,0):\n",
      "Solving for bands 1 to 8...\n",
      "Finished solving for bands 1 to 8 after 5 iterations.\n",
      "tmfreqs:, 39, 0.417758, -0.317758, 0, 0.607387, 0.269196, 0.473645, 0.503426, 0.722475, 0.802188, 0.853105, 0.871295, 0.901902\n",
      "elapsed time for k point: 0.028275012969970703\n",
      "solve_kpoint (0.407478,-0.357478,0):\n",
      "Solving for bands 1 to 8...\n",
      "Finished solving for bands 1 to 8 after 5 iterations.\n",
      "tmfreqs:, 40, 0.407478, -0.357478, 0, 0.629078, 0.27211, 0.480669, 0.497885, 0.72007, 0.810173, 0.854231, 0.87508, 0.890478\n",
      "elapsed time for k point: 0.028842926025390625\n",
      "solve_kpoint (0.397198,-0.397198,0):\n",
      "Solving for bands 1 to 8...\n",
      "Finished solving for bands 1 to 8 after 5 iterations.\n",
      "tmfreqs:, 41, 0.397198, -0.397198, 0, 0.652469, 0.273842, 0.48115, 0.499432, 0.717338, 0.814105, 0.857951, 0.874619, 0.887437\n",
      "elapsed time for k point: 0.02725696563720703\n",
      "solve_kpoint (0.357478,-0.357478,0):\n",
      "Solving for bands 1 to 8...\n",
      "Finished solving for bands 1 to 8 after 5 iterations.\n",
      "tmfreqs:, 42, 0.357478, -0.357478, 0, 0.587222, 0.269491, 0.485565, 0.490016, 0.722704, 0.810525, 0.844288, 0.883044, 0.886835\n",
      "elapsed time for k point: 0.02748394012451172\n",
      "solve_kpoint (0.317758,-0.317758,0):\n",
      "Solving for bands 1 to 8...\n",
      "Finished solving for bands 1 to 8 after 5 iterations.\n",
      "tmfreqs:, 43, 0.317758, -0.317758, 0, 0.521975, 0.260415, 0.474268, 0.500471, 0.719526, 0.808076, 0.838152, 0.882359, 0.901092\n",
      "elapsed time for k point: 0.029972076416015625\n",
      "solve_kpoint (0.278038,-0.278038,0):\n",
      "Solving for bands 1 to 8...\n",
      "Finished solving for bands 1 to 8 after 6 iterations.\n",
      "tmfreqs:, 44, 0.278038, -0.278038, 0, 0.456728, 0.244877, 0.468186, 0.511645, 0.706619, 0.807028, 0.840567, 0.884766, 0.917345\n",
      "elapsed time for k point: 0.03162527084350586\n",
      "solve_kpoint (0.238319,-0.238319,0):\n",
      "Solving for bands 1 to 8...\n",
      "Finished solving for bands 1 to 8 after 6 iterations.\n",
      "tmfreqs:, 45, 0.238319, -0.238319, 0, 0.391481, 0.222304, 0.468401, 0.522671, 0.68749, 0.807404, 0.84579, 0.891872, 0.935716\n",
      "elapsed time for k point: 0.03086996078491211\n",
      "solve_kpoint (0.198599,-0.198599,0):\n",
      "Solving for bands 1 to 8...\n",
      "Finished solving for bands 1 to 8 after 6 iterations.\n"
     ]
    },
    {
     "name": "stdout",
     "output_type": "stream",
     "text": [
      "tmfreqs:, 46, 0.198599, -0.198599, 0, 0.326234, 0.193437, 0.474471, 0.532793, 0.665602, 0.809011, 0.849107, 0.904347, 0.956378\n",
      "elapsed time for k point: 0.03070807456970215\n",
      "solve_kpoint (0.158879,-0.158879,0):\n",
      "Solving for bands 1 to 8...\n",
      "Finished solving for bands 1 to 8 after 6 iterations.\n",
      "tmfreqs:, 47, 0.158879, -0.158879, 0, 0.260987, 0.159674, 0.485209, 0.541447, 0.642819, 0.811457, 0.85009, 0.920079, 0.979435\n",
      "elapsed time for k point: 0.030755043029785156\n",
      "solve_kpoint (0.119159,-0.119159,0):\n",
      "Solving for bands 1 to 8...\n",
      "Finished solving for bands 1 to 8 after 7 iterations.\n",
      "tmfreqs:, 48, 0.119159, -0.119159, 0, 0.195741, 0.122408, 0.499398, 0.548292, 0.620019, 0.814209, 0.849866, 0.936175, 1.00474\n",
      "elapsed time for k point: 0.03361201286315918\n",
      "solve_kpoint (0.0794395,-0.0794395,0):\n",
      "Solving for bands 1 to 8...\n",
      "Finished solving for bands 1 to 8 after 8 iterations.\n",
      "tmfreqs:, 49, 0.0794395, -0.0794395, 0, 0.130494, 0.0827906, 0.516072, 0.553181, 0.597636, 0.816693, 0.849274, 0.950153, 1.0315\n",
      "elapsed time for k point: 0.03860902786254883\n",
      "solve_kpoint (0.0397198,-0.0397198,0):\n",
      "Solving for bands 1 to 8...\n",
      "Finished solving for bands 1 to 8 after 8 iterations.\n",
      "tmfreqs:, 50, 0.0397198, -0.0397198, 0, 0.0652469, 0.0417359, 0.534478, 0.556095, 0.575986, 0.818409, 0.84877, 0.959792, 1.05693\n",
      "elapsed time for k point: 0.03815293312072754\n",
      "solve_kpoint (0,0,0):\n",
      "Solving for bands 2 to 8...\n",
      "Finished solving for bands 2 to 8 after 10 iterations.\n",
      "tmfreqs:, 51, 0, 0, 0, 0, 0, 0.551161, 0.557061, 0.558251, 0.819021, 0.848579, 0.963258, 1.07021\n",
      "elapsed time for k point: 0.11231803894042969\n",
      "Band 1 range: 0.0 at Vector3<0.0, 0.0, 0.0> to 0.2759251651717949 at Vector3<0.5, 0.5, 0.0>\n",
      "Band 2 range: 0.42447565257159925 at Vector3<0.5, 0.0, 0.0> to 0.5511610589019567 at Vector3<0.0, 0.0, 0.0>\n",
      "Band 3 range: 0.4900155868266728 at Vector3<0.3574779089581943, -0.3574779089581943, 0.0> to 0.5570606236733023 at Vector3<0.0, 0.0, 0.0>\n",
      "Band 4 range: 0.5582513306317808 at Vector3<0.0, 0.0, 0.0> to 0.7329901384614228 at Vector3<0.5, 0.0, 0.0>\n",
      "Band 5 range: 0.7415964877606429 at Vector3<0.5, 0.0, 0.0> to 0.8281492116129269 at Vector3<0.2, 0.2, 0.0>\n",
      "Band 6 range: 0.8303273462990571 at Vector3<0.2, 0.2, 0.0> to 0.866787622004068 at Vector3<0.5719616263658489, 0.42803837363415115, 0.0>\n",
      "Band 7 range: 0.8631576386026423 at Vector3<0.4794395353240432, -0.07943953532404319, 0.0> to 0.9632578004105617 at Vector3<0.0, 0.0, 0.0>\n",
      "Band 8 range: 0.8868352216796597 at Vector3<0.3574779089581943, -0.3574779089581943, 0.0> to 1.0705015335884038 at Vector3<0.05, 0.05, 0.0>\n",
      "Gap from band 1 (0.2759251651717949) to band 2 (0.42447565257159925), 42.41870758472724%\n",
      "Gap from band 3 (0.5570606236733023) to band 4 (0.5582513306317808), 0.21351998494812913%\n",
      "Gap from band 4 (0.7329901384614228) to band 5 (0.7415964877606429), 1.167289753775921%\n",
      "Gap from band 5 (0.8281492116129269) to band 6 (0.8303273462990571), 0.26266692474357617%\n",
      "total elapsed time for run: 1.8693747520446777\n",
      "done\n"
     ]
    }
   ],
   "source": [
    "θ = np.radians(75) # angle (radians) between lattice vectors\n",
    "\n",
    "α = (np.sin(θ/2) / np.sin(θ))**2 # trig factor from solutions\n",
    "\n",
    "ms = mpb.ModeSolver(\n",
    "        resolution=32,\n",
    "        num_bands=8,\n",
    "    \n",
    "        # a hexagonal/triangular lattice:\n",
    "        geometry_lattice=mp.Lattice(size=mp.Vector3(1, 1),\n",
    "                              basis1=mp.Vector3(1, 0),\n",
    "                              basis2=mp.Vector3(np.cos(θ), np.sin(θ))),\n",
    "        \n",
    "        # cylindrical rods with radius 0.2a and epsilon=12\n",
    "        geometry=[mp.Cylinder(0.2, material=mp.Medium(epsilon=12))],\n",
    "    \n",
    "        # the corners of the irreducible Brillouin zone (see pset 5 solutions)\n",
    "        # are Gamma, M, K, and J, as given below in the reciprocal basis.\n",
    "        k_points = mp.interpolate(9, [\n",
    "            mp.Vector3(),         # Gamma\n",
    "            mp.Vector3(0.5, 0.5), # M\n",
    "            mp.Vector3(1-α, α),   # K\n",
    "            mp.Vector3(0.5, 0),   # J\n",
    "            mp.Vector3(α, -α),    # K'\n",
    "            mp.Vector3(),         # Gamma\n",
    "        ]))\n",
    "ms.run_tm()"
   ]
  },
  {
   "cell_type": "markdown",
   "metadata": {},
   "source": [
    "As in the sample code, let's plot the structure along with the band diagram, to make sure it is what we expect:"
   ]
  },
  {
   "cell_type": "code",
   "execution_count": 14,
   "metadata": {},
   "outputs": [
    {
     "name": "stdout",
     "output_type": "stream",
     "text": [
      "epsilon: 1-12, mean 2.43104, harm. mean 1.15243, 16.3086% > 1, 13.0094% \"fill\"\n"
     ]
    },
    {
     "data": {
      "text/plain": [
       "Text(0.5, 1.0, 'TM band diagram for 75° lattice of rods')"
      ]
     },
     "execution_count": 14,
     "metadata": {},
     "output_type": "execute_result"
    },
    {
     "data": {
      "image/png": "[encoded data removed]",
      "text/plain": [
       "<Figure size 720x360 with 2 Axes>"
      ]
     },
     "metadata": {
      "needs_background": "light"
     },
     "output_type": "display_data"
    }
   ],
   "source": [
    "plt.figure(figsize=(10,5))\n",
    "\n",
    "md = mpb.MPBData(rectify=True, periods=3)\n",
    "eps = md.convert(ms.get_epsilon())\n",
    "plt.subplot(1,2,2)\n",
    "plt.imshow(eps, cmap=\"binary\")\n",
    "plt.title(\"$\\epsilon$ for 75° lattice of rods\")\n",
    "\n",
    "plt.subplot(1,2,1)\n",
    "plt.plot(ms.all_freqs, \"b.-\")\n",
    "plt.ylabel(\"frequency ($c/a$)\")\n",
    "plt.xticks([0,10,20,30,40,50], [\"$\\Gamma$\",\"M\",\"K\",\"J\", \"K'\", \"$\\Gamma$\"])\n",
    "plt.grid()\n",
    "plt.title(\"TM band diagram for 75° lattice of rods\")"
   ]
  },
  {
   "cell_type": "markdown",
   "metadata": {},
   "source": [
    "the gap was:"
   ]
  },
  {
   "cell_type": "code",
   "execution_count": 13,
   "metadata": {},
   "outputs": [
    {
     "name": "stdout",
     "output_type": "stream",
     "text": [
      "TM band gap = 42.4187%\n"
     ]
    }
   ],
   "source": [
    "band1_max = np.max(ms.all_freqs[:,0])\n",
    "band2_min = np.min(ms.all_freqs[:,1])\n",
    "gap = 200 * (band2_min - band1_max) / (band1_max + band2_min)\n",
    "print(\"TM band gap = %g%%\" % gap)"
   ]
  },
  {
   "cell_type": "markdown",
   "metadata": {},
   "source": [
    "This is **smaller** than the 47.3988% gap that the sample code computed for the hexagonal lattice.  Breaking the symmetry often (though not always) decreases the gap, because in some directions the gap shrinks even if in other directions the gap increases."
   ]
  },
  {
   "cell_type": "markdown",
   "metadata": {},
   "source": [
    "# Problem 3"
   ]
  },
  {
   "cell_type": "markdown",
   "metadata": {},
   "source": [
    "### Sample code: Square lattice of rods\n",
    "\n",
    "To start off with, here is some sample code computing the TM band diagram of a square lattice of dielectric rods in air."
   ]
  },
  {
   "cell_type": "code",
   "execution_count": 15,
   "metadata": {},
   "outputs": [
    {
     "name": "stdout",
     "output_type": "stream",
     "text": [
      "Initializing eigensolver data\n",
      "Computing 8 bands with 1e-07 tolerance\n",
      "Working in 2 dimensions.\n",
      "Grid size is 32 x 32 x 1.\n",
      "Solving for 8 bands at a time.\n",
      "Creating Maxwell data...\n",
      "Mesh size is 3.\n",
      "Lattice vectors:\n",
      "     (1, 0, 0)\n",
      "     (0, 1, 0)\n",
      "     (0, 0, 1)\n",
      "Cell volume = 1\n",
      "Reciprocal lattice vectors (/ 2 pi):\n",
      "     (1, -0, 0)\n",
      "     (-0, 1, -0)\n",
      "     (0, -0, 1)\n",
      "Geometric objects:\n",
      "     cylinder, center = (0,0,0)\n",
      "          radius 0.2, height 1e+20, axis (0, 0, 1)\n",
      "Geometric object tree has depth 1 and 1 object nodes (vs. 1 actual objects)\n",
      "Initializing epsilon function...\n",
      "Allocating fields...\n",
      "Solving for band polarization: tm.\n",
      "Initializing fields to random numbers...\n",
      "31 k-points\n",
      "  Vector3<0.0, 0.0, 0.0>\n",
      "  Vector3<0.05, 0.0, 0.0>\n",
      "  Vector3<0.1, 0.0, 0.0>\n",
      "  Vector3<0.15000000000000002, 0.0, 0.0>\n",
      "  Vector3<0.2, 0.0, 0.0>\n",
      "  Vector3<0.25, 0.0, 0.0>\n",
      "  Vector3<0.30000000000000004, 0.0, 0.0>\n",
      "  Vector3<0.35000000000000003, 0.0, 0.0>\n",
      "  Vector3<0.4, 0.0, 0.0>\n",
      "  Vector3<0.45, 0.0, 0.0>\n",
      "  Vector3<0.5, 0.0, 0.0>\n",
      "  Vector3<0.5, 0.05, 0.0>\n",
      "  Vector3<0.5, 0.1, 0.0>\n",
      "  Vector3<0.5, 0.15000000000000002, 0.0>\n",
      "  Vector3<0.5, 0.2, 0.0>\n",
      "  Vector3<0.5, 0.25, 0.0>\n",
      "  Vector3<0.5, 0.30000000000000004, 0.0>\n",
      "  Vector3<0.5, 0.35000000000000003, 0.0>\n",
      "  Vector3<0.5, 0.4, 0.0>\n",
      "  Vector3<0.5, 0.45, 0.0>\n",
      "  Vector3<0.5, 0.5, 0.0>\n",
      "  Vector3<0.45, 0.45, 0.0>\n",
      "  Vector3<0.4, 0.4, 0.0>\n",
      "  Vector3<0.35, 0.35, 0.0>\n",
      "  Vector3<0.3, 0.3, 0.0>\n",
      "  Vector3<0.25, 0.25, 0.0>\n",
      "  Vector3<0.19999999999999996, 0.19999999999999996, 0.0>\n",
      "  Vector3<0.14999999999999997, 0.14999999999999997, 0.0>\n",
      "  Vector3<0.09999999999999998, 0.09999999999999998, 0.0>\n",
      "  Vector3<0.04999999999999999, 0.04999999999999999, 0.0>\n",
      "  Vector3<0.0, 0.0, 0.0>\n",
      "elapsed time for initialization: 0.019435882568359375\n",
      "solve_kpoint (0,0,0):\n",
      "tmfreqs:, k index, k1, k2, k3, kmag/2pi, tm band 1, tm band 2, tm band 3, tm band 4, tm band 5, tm band 6, tm band 7, tm band 8\n",
      "Solving for bands 2 to 8...\n",
      "Finished solving for bands 2 to 8 after 19 iterations.\n",
      "tmfreqs:, 1, 0, 0, 0, 0, 0, 0.546027, 0.552094, 0.552096, 0.812093, 0.854314, 0.951107, 1.08259\n",
      "elapsed time for k point: 0.06876182556152344\n",
      "solve_kpoint (0.05,0,0):\n",
      "Solving for bands 1 to 8...\n",
      "Finished solving for bands 1 to 8 after 32 iterations.\n",
      "tmfreqs:, 2, 0.05, 0, 0, 0.05, 0.0323423, 0.533846, 0.552229, 0.564232, 0.81228, 0.853965, 0.94875, 1.0672\n",
      "elapsed time for k point: 0.1208798885345459\n",
      "solve_kpoint (0.1,0,0):\n",
      "Solving for bands 1 to 8...\n",
      "Finished solving for bands 1 to 8 after 8 iterations.\n",
      "tmfreqs:, 3, 0.1, 0, 0, 0.1, 0.0643671, 0.518896, 0.552617, 0.579095, 0.812721, 0.852958, 0.941428, 1.04995\n",
      "elapsed time for k point: 0.038012027740478516\n",
      "solve_kpoint (0.15,0,0):\n",
      "Solving for bands 1 to 8...\n",
      "Finished solving for bands 1 to 8 after 8 iterations.\n",
      "tmfreqs:, 4, 0.15, 0, 0, 0.15, 0.0957356, 0.50357, 0.553223, 0.594425, 0.813015, 0.851408, 0.929034, 1.03725\n",
      "elapsed time for k point: 0.04312920570373535\n",
      "solve_kpoint (0.2,0,0):\n",
      "Solving for bands 1 to 8...\n",
      "Finished solving for bands 1 to 8 after 7 iterations.\n",
      "tmfreqs:, 5, 0.2, 0, 0, 0.2, 0.126061, 0.48795, 0.553991, 0.610359, 0.812384, 0.849484, 0.912816, 1.02959\n",
      "elapsed time for k point: 0.04119586944580078\n",
      "solve_kpoint (0.25,0,0):\n",
      "Solving for bands 1 to 8...\n",
      "Finished solving for bands 1 to 8 after 7 iterations.\n",
      "tmfreqs:, 6, 0.25, 0, 0, 0.25, 0.154869, 0.472195, 0.554847, 0.627071, 0.809465, 0.847388, 0.895562, 1.02595\n",
      "elapsed time for k point: 0.0439150333404541\n",
      "solve_kpoint (0.3,0,0):\n",
      "Solving for bands 1 to 8...\n",
      "Finished solving for bands 1 to 8 after 6 iterations.\n",
      "tmfreqs:, 7, 0.3, 0, 0, 0.3, 0.181523, 0.45665, 0.555709, 0.644685, 0.802314, 0.845326, 0.880698, 1.025\n",
      "elapsed time for k point: 0.04418683052062988\n",
      "solve_kpoint (0.35,0,0):\n",
      "Solving for bands 1 to 8...\n",
      "Finished solving for bands 1 to 8 after 7 iterations.\n",
      "tmfreqs:, 8, 0.35, 0, 0, 0.35, 0.205116, 0.441977, 0.556492, 0.663232, 0.789555, 0.843495, 0.870689, 1.02561\n",
      "elapsed time for k point: 0.04255104064941406\n",
      "solve_kpoint (0.4,0,0):\n",
      "Solving for bands 1 to 8...\n",
      "Finished solving for bands 1 to 8 after 8 iterations.\n",
      "tmfreqs:, 9, 0.4, 0, 0, 0.4, 0.224302, 0.429317, 0.557116, 0.682524, 0.772176, 0.842059, 0.865404, 1.0269\n",
      "elapsed time for k point: 0.05106377601623535\n",
      "solve_kpoint (0.45,0,0):\n",
      "Solving for bands 1 to 8...\n",
      "Finished solving for bands 1 to 8 after 8 iterations.\n",
      "tmfreqs:, 10, 0.45, 0, 0, 0.45, 0.237206, 0.420392, 0.557519, 0.701602, 0.753227, 0.841144, 0.863127, 1.02808\n",
      "elapsed time for k point: 0.04030275344848633\n",
      "solve_kpoint (0.5,0,0):\n",
      "Solving for bands 1 to 8...\n",
      "Finished solving for bands 1 to 8 after 8 iterations.\n",
      "tmfreqs:, 11, 0.5, 0, 0, 0.5, 0.241821, 0.417114, 0.557658, 0.713395, 0.741311, 0.84083, 0.862516, 1.02856\n",
      "elapsed time for k point: 0.041502952575683594\n",
      "solve_kpoint (0.5,0.05,0):\n",
      "Solving for bands 1 to 8...\n",
      "Finished solving for bands 1 to 8 after 6 iterations.\n",
      "tmfreqs:, 12, 0.5, 0.05, 0, 0.502494, 0.242692, 0.418763, 0.555943, 0.712942, 0.743512, 0.841112, 0.86254, 1.02555\n",
      "elapsed time for k point: 0.04289889335632324\n",
      "solve_kpoint (0.5,0.1,0):\n",
      "Solving for bands 1 to 8...\n",
      "Finished solving for bands 1 to 8 after 6 iterations.\n",
      "tmfreqs:, 13, 0.5, 0.1, 0, 0.509902, 0.245235, 0.4236, 0.551085, 0.711571, 0.749855, 0.841982, 0.862609, 1.01714\n",
      "elapsed time for k point: 0.0419459342956543\n",
      "solve_kpoint (0.5,0.15,0):\n",
      "Solving for bands 1 to 8...\n",
      "Finished solving for bands 1 to 8 after 6 iterations.\n",
      "tmfreqs:, 14, 0.5, 0.15, 0, 0.522015, 0.249252, 0.431297, 0.543813, 0.709265, 0.759695, 0.843512, 0.862718, 1.00465\n",
      "elapsed time for k point: 0.0358281135559082\n",
      "solve_kpoint (0.5,0.2,0):\n",
      "Solving for bands 1 to 8...\n",
      "Finished solving for bands 1 to 8 after 6 iterations.\n",
      "tmfreqs:, 15, 0.5, 0.2, 0, 0.538516, 0.25442, 0.441321, 0.535034, 0.706018, 0.772267, 0.845818, 0.862861, 0.989395\n",
      "elapsed time for k point: 0.031516313552856445\n",
      "solve_kpoint (0.5,0.25,0):\n",
      "Solving for bands 1 to 8...\n",
      "Finished solving for bands 1 to 8 after 6 iterations.\n",
      "tmfreqs:, 16, 0.5, 0.25, 0, 0.559017, 0.260309, 0.452941, 0.525647, 0.701889, 0.786879, 0.849051, 0.86303, 0.972357\n",
      "elapsed time for k point: 0.030279874801635742\n",
      "solve_kpoint (0.5,0.3,0):\n",
      "Solving for bands 1 to 8...\n",
      "Finished solving for bands 1 to 8 after 6 iterations.\n",
      "tmfreqs:, 17, 0.5, 0.3, 0, 0.583095, 0.266397, 0.465222, 0.516482, 0.697068, 0.802974, 0.853388, 0.863228, 0.954203\n",
      "elapsed time for k point: 0.029963970184326172\n",
      "solve_kpoint (0.5,0.35,0):\n",
      "Solving for bands 1 to 8...\n",
      "Finished solving for bands 1 to 8 after 7 iterations.\n",
      "tmfreqs:, 18, 0.5, 0.35, 0, 0.610328, 0.272093, 0.477022, 0.508306, 0.691965, 0.82009, 0.858995, 0.863482, 0.935393\n",
      "elapsed time for k point: 0.03360891342163086\n",
      "solve_kpoint (0.5,0.4,0):\n",
      "Solving for bands 1 to 8...\n",
      "Finished solving for bands 1 to 8 after 7 iterations.\n",
      "tmfreqs:, 19, 0.5, 0.4, 0, 0.640312, 0.276774, 0.48701, 0.501823, 0.687264, 0.837704, 0.86397, 0.865932, 0.916273\n",
      "elapsed time for k point: 0.03386330604553223\n",
      "solve_kpoint (0.5,0.45,0):\n",
      "Solving for bands 1 to 8...\n",
      "Finished solving for bands 1 to 8 after 7 iterations.\n",
      "tmfreqs:, 20, 0.5, 0.45, 0, 0.672681, 0.279865, 0.493785, 0.497643, 0.683867, 0.853899, 0.866258, 0.873658, 0.897185\n",
      "elapsed time for k point: 0.0333409309387207\n",
      "solve_kpoint (0.5,0.5,0):\n",
      "Solving for bands 1 to 8...\n",
      "Finished solving for bands 1 to 8 after 8 iterations.\n",
      "tmfreqs:, 21, 0.5, 0.5, 0, 0.707107, 0.280948, 0.496196, 0.496197, 0.682617, 0.859474, 0.878316, 0.878316, 0.879351\n",
      "elapsed time for k point: 0.036377906799316406\n",
      "solve_kpoint (0.45,0.45,0):\n",
      "Solving for bands 1 to 8...\n",
      "Finished solving for bands 1 to 8 after 10 iterations.\n",
      "tmfreqs:, 22, 0.45, 0.45, 0, 0.636396, 0.278705, 0.492982, 0.497608, 0.684931, 0.852474, 0.853908, 0.885419, 0.891907\n",
      "elapsed time for k point: 0.04041004180908203\n",
      "solve_kpoint (0.4,0.4,0):\n",
      "Solving for bands 1 to 8...\n",
      "Finished solving for bands 1 to 8 after 8 iterations.\n",
      "tmfreqs:, 23, 0.4, 0.4, 0, 0.565685, 0.27141, 0.485365, 0.501693, 0.689111, 0.830636, 0.844978, 0.893706, 0.898991\n",
      "elapsed time for k point: 0.039920806884765625\n",
      "solve_kpoint (0.35,0.35,0):\n",
      "Solving for bands 1 to 8...\n",
      "Finished solving for bands 1 to 8 after 7 iterations.\n",
      "tmfreqs:, 24, 0.35, 0.35, 0, 0.494975, 0.257727, 0.47772, 0.508023, 0.688749, 0.818971, 0.836648, 0.89511, 0.915158\n",
      "elapsed time for k point: 0.03588080406188965\n",
      "solve_kpoint (0.3,0.3,0):\n"
     ]
    },
    {
     "name": "stdout",
     "output_type": "stream",
     "text": [
      "Solving for bands 1 to 8...\n",
      "Finished solving for bands 1 to 8 after 6 iterations.\n",
      "tmfreqs:, 25, 0.3, 0.3, 0, 0.424264, 0.236529, 0.473888, 0.515941, 0.679199, 0.819377, 0.829518, 0.897603, 0.933446\n",
      "elapsed time for k point: 0.03268790245056152\n",
      "solve_kpoint (0.25,0.25,0):\n",
      "Solving for bands 1 to 8...\n",
      "Finished solving for bands 1 to 8 after 6 iterations.\n",
      "tmfreqs:, 26, 0.25, 0.25, 0, 0.353553, 0.207854, 0.475659, 0.524638, 0.661782, 0.823707, 0.827826, 0.902302, 0.953873\n",
      "elapsed time for k point: 0.034895896911621094\n",
      "solve_kpoint (0.2,0.2,0):\n",
      "Solving for bands 1 to 8...\n",
      "Finished solving for bands 1 to 8 after 6 iterations.\n",
      "tmfreqs:, 27, 0.2, 0.2, 0, 0.282843, 0.172884, 0.482973, 0.533242, 0.640233, 0.819202, 0.838111, 0.910409, 0.976551\n",
      "elapsed time for k point: 0.032752037048339844\n",
      "solve_kpoint (0.15,0.15,0):\n",
      "Solving for bands 1 to 8...\n",
      "Finished solving for bands 1 to 8 after 7 iterations.\n",
      "tmfreqs:, 28, 0.15, 0.15, 0, 0.212132, 0.133236, 0.494904, 0.540917, 0.617121, 0.81592, 0.846202, 0.922158, 1.00156\n",
      "elapsed time for k point: 0.03911018371582031\n",
      "solve_kpoint (0.1,0.1,0):\n",
      "Solving for bands 1 to 8...\n",
      "Finished solving for bands 1 to 8 after 8 iterations.\n",
      "tmfreqs:, 29, 0.1, 0.1, 0, 0.141421, 0.0904174, 0.510404, 0.546943, 0.593803, 0.81373, 0.851132, 0.935551, 1.02882\n",
      "elapsed time for k point: 0.04176926612854004\n",
      "solve_kpoint (0.05,0.05,0):\n",
      "Solving for bands 1 to 8...\n",
      "Finished solving for bands 1 to 8 after 9 iterations.\n",
      "tmfreqs:, 30, 0.05, 0.05, 0, 0.0707107, 0.0456646, 0.52855, 0.550779, 0.571077, 0.812492, 0.853586, 0.946673, 1.05783\n",
      "elapsed time for k point: 0.0425567626953125\n",
      "solve_kpoint (0,0,0):\n",
      "Solving for bands 2 to 8...\n",
      "Finished solving for bands 2 to 8 after 13 iterations.\n",
      "tmfreqs:, 31, 0, 0, 0, 0, 0, 0.546027, 0.552094, 0.552096, 0.812093, 0.854314, 0.951107, 1.08259\n",
      "elapsed time for k point: 0.08968091011047363\n",
      "Band 1 range: 0.0 at Vector3<0.0, 0.0, 0.0> to 0.2809479543796808 at Vector3<0.5, 0.5, 0.0>\n",
      "Band 2 range: 0.4171142496747985 at Vector3<0.5, 0.0, 0.0> to 0.5460267878039962 at Vector3<0.0, 0.0, 0.0>\n",
      "Band 3 range: 0.49619745312223523 at Vector3<0.5, 0.5, 0.0> to 0.5576576367260582 at Vector3<0.5, 0.0, 0.0>\n",
      "Band 4 range: 0.5520955868987042 at Vector3<0.0, 0.0, 0.0> to 0.7133951522965278 at Vector3<0.5, 0.0, 0.0>\n",
      "Band 5 range: 0.7413109665222848 at Vector3<0.5, 0.0, 0.0> to 0.8594741073451454 at Vector3<0.5, 0.5, 0.0>\n",
      "Band 6 range: 0.8278261181710946 at Vector3<0.25, 0.25, 0.0> to 0.8783155715939363 at Vector3<0.5, 0.5, 0.0>\n",
      "Band 7 range: 0.862515907439667 at Vector3<0.5, 0.0, 0.0> to 0.9511074609215101 at Vector3<0.0, 0.0, 0.0>\n",
      "Band 8 range: 0.8793510958348822 at Vector3<0.5, 0.5, 0.0> to 1.0825933106202483 at Vector3<0.0, 0.0, 0.0>\n",
      "Gap from band 1 (0.2809479543796808) to band 2 (0.4171142496747985), 39.01265374467711%\n",
      "Gap from band 4 (0.7133951522965278) to band 5 (0.7413109665222848), 3.838000523215499%\n",
      "total elapsed time for run: 1.3801772594451904\n",
      "done\n"
     ]
    }
   ],
   "source": [
    "ms_sq = mpb.ModeSolver(\n",
    "        resolution=32,\n",
    "        num_bands=8,\n",
    "    \n",
    "        # a square lattice, period a=1:\n",
    "        geometry_lattice=mp.Lattice(size=mp.Vector3(1, 1)),\n",
    "        \n",
    "        # cylindrical rods with radius 0.2a and epsilon=12\n",
    "        geometry=[mp.Cylinder(0.2, material=mp.Medium(epsilon=12))],\n",
    "    \n",
    "        # the corners of the irreducible Brillouin zone\n",
    "        k_points = mp.interpolate(9, [\n",
    "            mp.Vector3(),               # Gamma\n",
    "            mp.Vector3(0.5, 0),         # X\n",
    "            mp.Vector3(0.5, 0.5),       # M\n",
    "            mp.Vector3(),               # Gamma\n",
    "        ]))\n",
    "ms_sq.run_tm()"
   ]
  },
  {
   "cell_type": "markdown",
   "metadata": {},
   "source": [
    "Plotting the result, similar to above, and computing the gap:"
   ]
  },
  {
   "cell_type": "code",
   "execution_count": 24,
   "metadata": {},
   "outputs": [
    {
     "name": "stdout",
     "output_type": "stream",
     "text": [
      "epsilon: 1-12, mean 2.38229, harm. mean 1.1448, 14.5508% > 1, 12.5663% \"fill\"\n",
      "TM band gap = 39.0127%, from 0.280948 to 0.417114\n"
     ]
    },
    {
     "data": {
      "image/png": "[encoded data removed]",
      "text/plain": [
       "<Figure size 720x360 with 2 Axes>"
      ]
     },
     "metadata": {
      "needs_background": "light"
     },
     "output_type": "display_data"
    }
   ],
   "source": [
    "plt.figure(figsize=(10,5))\n",
    "\n",
    "md = mpb.MPBData(rectify=True, periods=3)\n",
    "eps = md.convert(ms_sq.get_epsilon())\n",
    "plt.subplot(1,2,2)\n",
    "plt.imshow(eps, cmap=\"binary\")\n",
    "plt.title(\"$example: \\epsilon$ for square lattice of rods\")\n",
    "\n",
    "plt.subplot(1,2,1)\n",
    "plt.plot(ms_sq.all_freqs, \"b.-\")\n",
    "plt.ylabel(\"frequency ($c/a$)\")\n",
    "plt.xticks([0,10,20,30], [\"$\\Gamma$\",\"X\",\"M\",\"$\\Gamma$\"])\n",
    "plt.grid()\n",
    "plt.title(\"example: TM square-lattice bands\")\n",
    "\n",
    "band1_max = np.max(ms_sq.all_freqs[:,0])\n",
    "band2_min = np.min(ms_sq.all_freqs[:,1])\n",
    "gap = 200 * (band2_min - band1_max) / (band1_max + band2_min)\n",
    "print(\"TM band gap = %g%%, from %g to %g\" % (gap, band1_max, band2_min))"
   ]
  },
  {
   "cell_type": "markdown",
   "metadata": {},
   "source": [
    "It will be useful below to have a list of the frequencies at the $X$ point:"
   ]
  },
  {
   "cell_type": "code",
   "execution_count": 29,
   "metadata": {},
   "outputs": [
    {
     "data": {
      "text/plain": [
       "array([0.24182099, 0.41711425, 0.55765764, 0.71339515, 0.74131097,\n",
       "       0.84083049, 0.86251591, 1.02855692])"
      ]
     },
     "execution_count": 29,
     "metadata": {},
     "output_type": "execute_result"
    }
   ],
   "source": [
    "ms_sq.all_freqs[10,:]"
   ]
  },
  {
   "cell_type": "markdown",
   "metadata": {},
   "source": [
    "### part (a): Transmission through $N_x$ rods\n",
    "\n",
    "The following function computes the transmitted power $P(\\omega)$ through a finite (in $x$) crystal consisting of $N_x$ rods, with air on either side, returning an array of frequencies, an array of powers, and the simulation object:"
   ]
  },
  {
   "cell_type": "code",
   "execution_count": 17,
   "metadata": {},
   "outputs": [],
   "source": [
    "def transmitted_P(Nx=5, pad=4, dpml=1, fmin=0.2, fmax=0.8, nfreq=300):\n",
    "    fcen = (fmin+fmax)*0.5\n",
    "    df = fmax - fmin\n",
    "    sx = Nx + 2*(pad+dpml)\n",
    "    \n",
    "    sim = mp.Simulation(cell_size=mp.Vector3(sx, 1),\n",
    "                        \n",
    "                        # make Nx duplicates of a rod:\n",
    "                        geometry = mp.geometric_object_duplicates(mp.Vector3(1,0), 0, Nx-1, \n",
    "                                                                  mp.Cylinder(0.2, center=mp.Vector3(-0.5*sx+dpml+pad+0.5,0), material=mp.Medium(epsilon=12))),\n",
    " \n",
    "                        \n",
    "                        # absorbing boundaries in y direction, periodic in x\n",
    "                        boundary_layers = [mp.PML(dpml, direction=mp.X)],\n",
    "                        k_point = mp.Vector3(0,0), # ky=0 for normal incidence\n",
    "                        \n",
    "                        # source is a pulsed line source adjacent to PML\n",
    "                        sources=[mp.Source(mp.GaussianSource(fcen, fwidth=df), mp.Ez,\n",
    "                                           center=(-sx*0.5 + dpml,0), size=(0,1))],\n",
    "                        \n",
    "                        # to speed things up, exploit the y=0 mirror plane:\n",
    "                        symmetries = [mp.Mirror(mp.Y, phase=1)],\n",
    "                        resolution=20)\n",
    "    \n",
    "    # flux (power) monitor on transmitted side\n",
    "    fluxregion = mp.FluxRegion(center=mp.Vector3(0.5*sx-dpml),\n",
    "                               size=mp.Vector3(0,1))\n",
    "    trans = sim.add_flux(fcen, df, nfreq, fluxregion)\n",
    "    \n",
    "    # run simulation until fields on transmitted side have decayed away\n",
    "    sim.run(until_after_sources=mp.stop_when_fields_decayed(50, mp.Ez, mp.Vector3(0.5*sx-dpml), 1e-3))\n",
    "    return sim, np.array(mp.get_flux_freqs(trans)), np.array(mp.get_fluxes(trans))"
   ]
  },
  {
   "cell_type": "markdown",
   "metadata": {},
   "source": [
    "### part (a)\n",
    "\n",
    "We compute the *normalized* transmission spectra for frequencies from $0.2c/a$ to $0.8c/a $as a function of $N_{x}$, for $N_{x}=1,2,3,5,6$, and plot them (together on a single plot). The transmission spectrum is the transmitted power spectrum (shown above) *normalized* by dividing by the transmitted power for $N_{x}=0$ (no holes).\n",
    "\n",
    "First, we do simulations for these different $N_x$ values and save the powers:"
   ]
  },
  {
   "cell_type": "code",
   "execution_count": 19,
   "metadata": {},
   "outputs": [
    {
     "name": "stdout",
     "output_type": "stream",
     "text": [
      "-----------\n",
      "Initializing structure...\n",
      "Halving computational cell along direction y\n",
      "time for choose_chunkdivision = 0.000778913 s\n",
      "Working in 2D dimensions.\n",
      "Computational cell is 10 x 1 x 0 with resolution 20\n",
      "time for set_epsilon = 0.00306416 s\n",
      "-----------\n",
      "field decay(t = 50.025000000000006): 0.251526666186021 / 0.251526666186021 = 1.0\n",
      "field decay(t = 100.05000000000001): 4.2163182609746403e-13 / 0.251526666186021 = 1.676290758712791e-12\n",
      "run 0 finished at t = 100.05000000000001 (4002 timesteps)\n",
      "-----------\n",
      "Initializing structure...\n",
      "Halving computational cell along direction y\n",
      "time for choose_chunkdivision = 0.000457048 s\n",
      "Working in 2D dimensions.\n",
      "Computational cell is 11 x 1 x 0 with resolution 20\n",
      "     cylinder, center = (0,0,0)\n",
      "          radius 0.2, height 1e+20, axis (0, 0, 1)\n",
      "          dielectric constant epsilon diagonal = (12,12,12)\n",
      "time for set_epsilon = 0.00562501 s\n",
      "-----------\n",
      "field decay(t = 50.025000000000006): 0.17101727868531652 / 0.17101727868531652 = 1.0\n",
      "field decay(t = 100.05000000000001): 3.1336888299269923e-10 / 0.17101727868531652 = 1.8323814143325213e-09\n",
      "run 0 finished at t = 100.05000000000001 (4002 timesteps)\n",
      "-----------\n",
      "Initializing structure...\n",
      "Halving computational cell along direction y\n",
      "time for choose_chunkdivision = 0.000521898 s\n",
      "Working in 2D dimensions.\n",
      "Computational cell is 12 x 1 x 0 with resolution 20\n",
      "     cylinder, center = (0.5,0,0)\n",
      "          radius 0.2, height 1e+20, axis (0, 0, 1)\n",
      "          dielectric constant epsilon diagonal = (12,12,12)\n",
      "     cylinder, center = (-0.5,0,0)\n",
      "          radius 0.2, height 1e+20, axis (0, 0, 1)\n",
      "          dielectric constant epsilon diagonal = (12,12,12)\n",
      "time for set_epsilon = 0.0100942 s\n",
      "-----------\n",
      "field decay(t = 50.025000000000006): 0.14568881935410932 / 0.14568881935410932 = 1.0\n",
      "field decay(t = 100.05000000000001): 7.144722467937987e-06 / 0.14568881935410932 = 4.9040979943506296e-05\n",
      "run 0 finished at t = 100.05000000000001 (4002 timesteps)\n",
      "-----------\n",
      "Initializing structure...\n",
      "Halving computational cell along direction y\n",
      "time for choose_chunkdivision = 0.000540972 s\n",
      "Working in 2D dimensions.\n",
      "Computational cell is 13 x 1 x 0 with resolution 20\n",
      "     cylinder, center = (1,0,0)\n",
      "          radius 0.2, height 1e+20, axis (0, 0, 1)\n",
      "          dielectric constant epsilon diagonal = (12,12,12)\n",
      "     cylinder, center = (0,0,0)\n",
      "          radius 0.2, height 1e+20, axis (0, 0, 1)\n",
      "          dielectric constant epsilon diagonal = (12,12,12)\n",
      "     cylinder, center = (-1,0,0)\n",
      "          radius 0.2, height 1e+20, axis (0, 0, 1)\n",
      "          dielectric constant epsilon diagonal = (12,12,12)\n",
      "time for set_epsilon = 0.0174031 s\n",
      "-----------\n",
      "field decay(t = 50.025000000000006): 0.13563750500330599 / 0.13563750500330599 = 1.0\n",
      "field decay(t = 100.05000000000001): 8.568552767139003e-05 / 0.13563750500330599 = 0.0006317244457519441\n",
      "run 0 finished at t = 100.05000000000001 (4002 timesteps)\n",
      "-----------\n",
      "Initializing structure...\n",
      "Halving computational cell along direction y\n",
      "time for choose_chunkdivision = 0.000736952 s\n",
      "Working in 2D dimensions.\n",
      "Computational cell is 15 x 1 x 0 with resolution 20\n",
      "     cylinder, center = (2,0,0)\n",
      "          radius 0.2, height 1e+20, axis (0, 0, 1)\n",
      "          dielectric constant epsilon diagonal = (12,12,12)\n",
      "     cylinder, center = (1,0,0)\n",
      "          radius 0.2, height 1e+20, axis (0, 0, 1)\n",
      "          dielectric constant epsilon diagonal = (12,12,12)\n",
      "     cylinder, center = (0,0,0)\n",
      "          radius 0.2, height 1e+20, axis (0, 0, 1)\n",
      "          dielectric constant epsilon diagonal = (12,12,12)\n",
      "     cylinder, center = (-1,0,0)\n",
      "          radius 0.2, height 1e+20, axis (0, 0, 1)\n",
      "          dielectric constant epsilon diagonal = (12,12,12)\n",
      "     cylinder, center = (-2,0,0)\n",
      "          radius 0.2, height 1e+20, axis (0, 0, 1)\n",
      "          dielectric constant epsilon diagonal = (12,12,12)\n",
      "time for set_epsilon = 0.022989 s\n",
      "-----------\n",
      "field decay(t = 50.025000000000006): 0.12373041360550532 / 0.12373041360550532 = 1.0\n",
      "field decay(t = 100.05000000000001): 0.0010195633208608414 / 0.12373041360550532 = 0.008240199730613981\n",
      "field decay(t = 150.07500000000002): 3.662547440559447e-05 / 0.12373041360550532 = 0.0002960102802401433\n",
      "run 0 finished at t = 150.07500000000002 (6003 timesteps)\n",
      "-----------\n",
      "Initializing structure...\n",
      "Halving computational cell along direction y\n",
      "time for choose_chunkdivision = 0.000462055 s\n",
      "Working in 2D dimensions.\n",
      "Computational cell is 16 x 1 x 0 with resolution 20\n",
      "     cylinder, center = (2.5,0,0)\n",
      "          radius 0.2, height 1e+20, axis (0, 0, 1)\n",
      "          dielectric constant epsilon diagonal = (12,12,12)\n",
      "     cylinder, center = (1.5,0,0)\n",
      "          radius 0.2, height 1e+20, axis (0, 0, 1)\n",
      "          dielectric constant epsilon diagonal = (12,12,12)\n",
      "     cylinder, center = (0.5,0,0)\n",
      "          radius 0.2, height 1e+20, axis (0, 0, 1)\n",
      "          dielectric constant epsilon diagonal = (12,12,12)\n",
      "     cylinder, center = (-0.5,0,0)\n",
      "          radius 0.2, height 1e+20, axis (0, 0, 1)\n",
      "          dielectric constant epsilon diagonal = (12,12,12)\n",
      "     cylinder, center = (-1.5,0,0)\n",
      "          radius 0.2, height 1e+20, axis (0, 0, 1)\n",
      "          dielectric constant epsilon diagonal = (12,12,12)\n",
      "     cylinder, center = (-2.5,0,0)\n",
      "          radius 0.2, height 1e+20, axis (0, 0, 1)\n",
      "          dielectric constant epsilon diagonal = (12,12,12)\n",
      "time for set_epsilon = 0.0272541 s\n",
      "-----------\n",
      "field decay(t = 50.025000000000006): 0.11964387709780465 / 0.11964387709780465 = 1.0\n",
      "field decay(t = 100.05000000000001): 0.0007528528243830797 / 0.11964387709780465 = 0.006292447575630211\n",
      "field decay(t = 150.07500000000002): 6.090688412056685e-05 / 0.11964387709780465 = 0.0005090681244872867\n",
      "run 0 finished at t = 150.07500000000002 (6003 timesteps)\n"
     ]
    }
   ],
   "source": [
    "sim,freqs,P0 = transmitted_P(Nx=0)\n",
    "sim,freqs,P1 = transmitted_P(Nx=1)\n",
    "sim,freqs,P2 = transmitted_P(Nx=2)\n",
    "sim,freqs,P3 = transmitted_P(Nx=3)\n",
    "sim,freqs,P5 = transmitted_P(Nx=5)\n",
    "sim,freqs,P6 = transmitted_P(Nx=6)"
   ]
  },
  {
   "cell_type": "markdown",
   "metadata": {},
   "source": [
    "Then, we plot power vs. frequency, on both a linear and a log scale:"
   ]
  },
  {
   "cell_type": "code",
   "execution_count": 22,
   "metadata": {},
   "outputs": [
    {
     "data": {
      "text/plain": [
       "<matplotlib.legend.Legend at 0x1239e3f50>"
      ]
     },
     "execution_count": 22,
     "metadata": {},
     "output_type": "execute_result"
    },
    {
     "data": {
      "image/png": "[encoded data removed]",
      "text/plain": [
       "<Figure size 432x864 with 2 Axes>"
      ]
     },
     "metadata": {
      "needs_background": "light"
     },
     "output_type": "display_data"
    }
   ],
   "source": [
    "plt.figure(figsize=(6,12))\n",
    "\n",
    "plt.subplot(2,1,1)\n",
    "plt.plot(freqs, P1/P0)\n",
    "plt.plot(freqs, P2/P0)\n",
    "plt.plot(freqs, P3/P0)\n",
    "plt.plot(freqs, P5/P0)\n",
    "plt.plot(freqs, P6/P0)\n",
    "plt.xlabel(\"frequency ($c/a$)\")\n",
    "plt.ylabel(\"transmitted power (fraction)\")\n",
    "plt.title(\"normalized transmitted power\")\n",
    "plt.legend([\"$N_x = 1$\", \"$N_x = 2$\", \"$N_x = 3$\", \"$N_x = 5$\", \"$N_x = 6$\"])\n",
    "\n",
    "plt.subplot(2,1,2)\n",
    "plt.semilogy(freqs, P1/P0)\n",
    "plt.semilogy(freqs, P2/P0)\n",
    "plt.semilogy(freqs, P3/P0)\n",
    "plt.semilogy(freqs, P5/P0)\n",
    "plt.semilogy(freqs, P6/P0)\n",
    "plt.xlabel(\"frequency ($c/a$)\")\n",
    "plt.ylabel(\"transmitted power (fraction)\")\n",
    "plt.title(\"normalized transmitted power (log scale)\")\n",
    "plt.legend([\"$N_x = 1$\", \"$N_x = 2$\", \"$N_x = 3$\", \"$N_x = 5$\", \"$N_x = 6$\"])\n"
   ]
  },
  {
   "cell_type": "markdown",
   "metadata": {},
   "source": [
    "In the band diagram, there was a TM gap from a frequency of 0.28 to 0.42 $c/a$. In the transmission spectrum, we clearly see a dip in the transmission—decreasing exponentially with $N_{x}$ as expected (since fields are evanescent in the gap)—around these frequencies. However, if we look closely, we see that the transmission dip is wider than the overall band gap, from about 0.24 to 0.42. What's happening is that our structure is periodic in y, so $k_{y}$ is conserved, and a normal-incident planewave **only couples to $k_{y}=0$ bands**, which are those along the Γ–X portion of the band diagram. If we just look at Γ–X, then the gap is indeed wider, from 0.24 to 0.42 $c/a$!\n",
    "\n",
    "Also as expected from class, the transmission dip is largest near the middle of the gap, since we showed that the evanescent decay rates increase away from the band edges.\n",
    "\n",
    "Another feature that you might notice is that, as we increase $N_{x}$, we see that a transmission dip is appearing round 0.71–0.74 $c/a$. If you look closely at the Γ–X band diagram you will see that there is indeed another gap (just for Γ–X, not for the whole Brillouin zone) at those frequencies. Since that gap is much smaller, the evanescent decay rate is much slower, and so the transmission dip is weaker for the same $N_{x}$.\n",
    "\n",
    "The transmission oscillations in the gap (and near the gap edges) are a form of Fabry–Perot oscillation, which arises from interference in waves reflected from the edges of the crystal (which break periodicity in x and hence allow reflections)."
   ]
  },
  {
   "cell_type": "markdown",
   "metadata": {},
   "source": [
    "### part (b)\n",
    "\n",
    "As explained in the solutions, we expect additional diffracted orders show up for $f \\ge 1$ in Meep units for this normal-incident planewave.\n",
    "\n",
    "So, we modify our code to do a CW simulation, running for 200 periods $1/f$ to reach steady state (to a good approximation), and we plot the resulting $E_z$ field for $f = 0.95$ and $f = 1.05$ (just above and below the transition to additional diffracted orders)."
   ]
  },
  {
   "cell_type": "code",
   "execution_count": 58,
   "metadata": {},
   "outputs": [],
   "source": [
    "def cw_sim(Nx=5, pad=4, dpml=1, f=0.5, T=200):\n",
    "    sx = Nx + 2*(pad+dpml)\n",
    "    \n",
    "    sim = mp.Simulation(cell_size=mp.Vector3(sx, 1),\n",
    "                        \n",
    "                        # make Nx duplicates of a rod:\n",
    "                        geometry = mp.geometric_object_duplicates(mp.Vector3(1,0), 0, Nx-1, \n",
    "                                                                  mp.Cylinder(0.2, center=mp.Vector3(-0.5*sx+dpml+pad+0.5,0), material=mp.Medium(epsilon=12))),\n",
    " \n",
    "                        \n",
    "                        # absorbing boundaries in y direction, periodic in x\n",
    "                        boundary_layers = [mp.PML(dpml, direction=mp.X)],\n",
    "                        k_point = mp.Vector3(0,0), # ky=0 for normal incidence\n",
    "                        \n",
    "                        # source is a pulsed line source adjacent to PML\n",
    "                        sources=[mp.Source(mp.ContinuousSource(f, fwidth=0.05), mp.Ez,\n",
    "                                           center=(-sx*0.5 + dpml,0), size=(0,1))],\n",
    "                        \n",
    "                        # to speed things up, exploit the y=0 mirror plane:\n",
    "                        symmetries = [mp.Mirror(mp.Y, phase=1)],\n",
    "                        resolution=20)\n",
    "    \n",
    "    # run simulation for 200 periods (1/f), which \n",
    "    # should roughly be steady state\n",
    "    sim.run(until=T/f)\n",
    "    return sim"
   ]
  },
  {
   "cell_type": "code",
   "execution_count": 51,
   "metadata": {},
   "outputs": [
    {
     "name": "stdout",
     "output_type": "stream",
     "text": [
      "-----------\n",
      "Initializing structure...\n",
      "Halving computational cell along direction y\n",
      "time for choose_chunkdivision = 0.000828981 s\n",
      "Working in 2D dimensions.\n",
      "Computational cell is 15 x 1 x 0 with resolution 20\n",
      "     cylinder, center = (2,0,0)\n",
      "          radius 0.2, height 1e+20, axis (0, 0, 1)\n",
      "          dielectric constant epsilon diagonal = (12,12,12)\n",
      "     cylinder, center = (1,0,0)\n",
      "          radius 0.2, height 1e+20, axis (0, 0, 1)\n",
      "          dielectric constant epsilon diagonal = (12,12,12)\n",
      "     cylinder, center = (0,0,0)\n",
      "          radius 0.2, height 1e+20, axis (0, 0, 1)\n",
      "          dielectric constant epsilon diagonal = (12,12,12)\n",
      "     cylinder, center = (-1,0,0)\n",
      "          radius 0.2, height 1e+20, axis (0, 0, 1)\n",
      "          dielectric constant epsilon diagonal = (12,12,12)\n",
      "     cylinder, center = (-2,0,0)\n",
      "          radius 0.2, height 1e+20, axis (0, 0, 1)\n",
      "          dielectric constant epsilon diagonal = (12,12,12)\n",
      "time for set_epsilon = 0.021354 s\n",
      "-----------\n"
     ]
    },
    {
     "data": {
      "application/vnd.jupyter.widget-view+json": {
       "model_id": "c8c3238ea13a4b31a612b6f51a04d7a0",
       "version_major": 2,
       "version_minor": 0
      },
      "text/plain": [
       "FloatProgress(value=0.0, description='0% done ', max=210.5263157894737)"
      ]
     },
     "metadata": {},
     "output_type": "display_data"
    },
    {
     "name": "stdout",
     "output_type": "stream",
     "text": [
      "run 0 finished at t = 210.55 (8422 timesteps)\n",
      "-----------\n",
      "Initializing structure...\n",
      "Halving computational cell along direction y\n",
      "time for choose_chunkdivision = 0.000706911 s\n",
      "Working in 2D dimensions.\n",
      "Computational cell is 15 x 1 x 0 with resolution 20\n",
      "     cylinder, center = (2,0,0)\n",
      "          radius 0.2, height 1e+20, axis (0, 0, 1)\n",
      "          dielectric constant epsilon diagonal = (12,12,12)\n",
      "     cylinder, center = (1,0,0)\n",
      "          radius 0.2, height 1e+20, axis (0, 0, 1)\n",
      "          dielectric constant epsilon diagonal = (12,12,12)\n",
      "     cylinder, center = (0,0,0)\n",
      "          radius 0.2, height 1e+20, axis (0, 0, 1)\n",
      "          dielectric constant epsilon diagonal = (12,12,12)\n",
      "     cylinder, center = (-1,0,0)\n",
      "          radius 0.2, height 1e+20, axis (0, 0, 1)\n",
      "          dielectric constant epsilon diagonal = (12,12,12)\n",
      "     cylinder, center = (-2,0,0)\n",
      "          radius 0.2, height 1e+20, axis (0, 0, 1)\n",
      "          dielectric constant epsilon diagonal = (12,12,12)\n",
      "time for set_epsilon = 0.0187929 s\n",
      "-----------\n"
     ]
    },
    {
     "data": {
      "application/vnd.jupyter.widget-view+json": {
       "model_id": "64962807bde844d69affcacf22653716",
       "version_major": 2,
       "version_minor": 0
      },
      "text/plain": [
       "FloatProgress(value=0.0, description='0% done ', max=190.47619047619048)"
      ]
     },
     "metadata": {},
     "output_type": "display_data"
    },
    {
     "name": "stdout",
     "output_type": "stream",
     "text": [
      "run 0 finished at t = 190.5 (7620 timesteps)\n"
     ]
    }
   ],
   "source": [
    "sim1 = cw_sim(f=0.95)\n",
    "sim2 = cw_sim(f=1.05)"
   ]
  },
  {
   "cell_type": "markdown",
   "metadata": {},
   "source": [
    "Plotting the field for $f = 0.95$, we see that the reflected field is clearly a normal-incident planewave, with no additional diffracted orders (except very close to the crystal structure, where we indeed see the exponentially decaying diffracted order!):"
   ]
  },
  {
   "cell_type": "code",
   "execution_count": 52,
   "metadata": {},
   "outputs": [
    {
     "data": {
      "text/plain": [
       "<matplotlib.axes._subplots.AxesSubplot at 0x126b8e8d0>"
      ]
     },
     "execution_count": 52,
     "metadata": {},
     "output_type": "execute_result"
    },
    {
     "data": {
      "image/png": "[encoded data removed]",
      "text/plain": [
       "<Figure size 432x288 with 1 Axes>"
      ]
     },
     "metadata": {
      "needs_background": "light"
     },
     "output_type": "display_data"
    }
   ],
   "source": [
    "sim1.plot2D(fields=mp.Ez)"
   ]
  },
  {
   "cell_type": "markdown",
   "metadata": {},
   "source": [
    "Plotting the field for $f = 1.05$, we see that the reflected field clearly has another diffracted order (another Fourier-series component), leading to oscillations in the field pattern from the superposition of the normal-incident and diffracted planewaves:"
   ]
  },
  {
   "cell_type": "code",
   "execution_count": 53,
   "metadata": {},
   "outputs": [
    {
     "data": {
      "text/plain": [
       "<matplotlib.axes._subplots.AxesSubplot at 0x12690eb90>"
      ]
     },
     "execution_count": 53,
     "metadata": {},
     "output_type": "execute_result"
    },
    {
     "data": {
      "image/png": "[encoded data removed]",
      "text/plain": [
       "<Figure size 432x288 with 1 Axes>"
      ]
     },
     "metadata": {
      "needs_background": "light"
     },
     "output_type": "display_data"
    }
   ],
   "source": [
    "sim2.plot2D(fields=mp.Ez)"
   ]
  },
  {
   "cell_type": "markdown",
   "metadata": {},
   "source": [
    "Now, let's try a frequency much closer to the $f=1$ threshold:"
   ]
  },
  {
   "cell_type": "code",
   "execution_count": 63,
   "metadata": {},
   "outputs": [
    {
     "name": "stdout",
     "output_type": "stream",
     "text": [
      "-----------\n",
      "Initializing structure...\n",
      "Halving computational cell along direction y\n",
      "time for choose_chunkdivision = 0.000872135 s\n",
      "Working in 2D dimensions.\n",
      "Computational cell is 27 x 1 x 0 with resolution 20\n",
      "     cylinder, center = (2,0,0)\n",
      "          radius 0.2, height 1e+20, axis (0, 0, 1)\n",
      "          dielectric constant epsilon diagonal = (12,12,12)\n",
      "     cylinder, center = (1,0,0)\n",
      "          radius 0.2, height 1e+20, axis (0, 0, 1)\n",
      "          dielectric constant epsilon diagonal = (12,12,12)\n",
      "     cylinder, center = (0,0,0)\n",
      "          radius 0.2, height 1e+20, axis (0, 0, 1)\n",
      "          dielectric constant epsilon diagonal = (12,12,12)\n",
      "     cylinder, center = (-1,0,0)\n",
      "          radius 0.2, height 1e+20, axis (0, 0, 1)\n",
      "          dielectric constant epsilon diagonal = (12,12,12)\n",
      "     cylinder, center = (-2,0,0)\n",
      "          radius 0.2, height 1e+20, axis (0, 0, 1)\n",
      "          dielectric constant epsilon diagonal = (12,12,12)\n",
      "time for set_epsilon = 0.0276408 s\n",
      "-----------\n"
     ]
    },
    {
     "data": {
      "application/vnd.jupyter.widget-view+json": {
       "model_id": "bc6134b4ea73443aac40d3153008d8d9",
       "version_major": 2,
       "version_minor": 0
      },
      "text/plain": [
       "FloatProgress(value=0.0, description='0% done ', max=1005.0251256281407)"
      ]
     },
     "metadata": {},
     "output_type": "display_data"
    },
    {
     "name": "stdout",
     "output_type": "stream",
     "text": [
      "run 0 finished at t = 1005.0500000000001 (40202 timesteps)\n"
     ]
    }
   ],
   "source": [
    "sim3 = cw_sim(f=0.995, pad=10, T=1000)"
   ]
  },
  {
   "cell_type": "code",
   "execution_count": 64,
   "metadata": {},
   "outputs": [
    {
     "data": {
      "text/plain": [
       "<matplotlib.axes._subplots.AxesSubplot at 0x1273284d0>"
      ]
     },
     "execution_count": 64,
     "metadata": {},
     "output_type": "execute_result"
    },
    {
     "data": {
      "image/png": "[encoded data removed]",
      "text/plain": [
       "<Figure size 432x288 with 1 Axes>"
      ]
     },
     "metadata": {
      "needs_background": "light"
     },
     "output_type": "display_data"
    }
   ],
   "source": [
    "sim3.plot2D(fields=mp.Ez)"
   ]
  },
  {
   "cell_type": "markdown",
   "metadata": {},
   "source": [
    "In this case, we had to increase the `pad` parameter so that we simulate a larger air region before the crystal in order to see the undisturbed normal-incident wave pattern.   The reason for this is that, as $f \\to 1^-$ (from below), the first diffracted order's evanescent decay rate gets slower and slower, so we see its transverse oscillations in the field farther and farther from the crystal."
   ]
  }
 ],
 "metadata": {
  "@webio": {
   "lastCommId": null,
   "lastKernelId": null
  },
  "kernelspec": {
   "display_name": "Python 3.7 + Meep",
   "language": "python",
   "name": "pythonmeep"
  },
  "language_info": {
   "codemirror_mode": {
    "name": "ipython",
    "version": 3
   },
   "file_extension": ".py",
   "mimetype": "text/x-python",
   "name": "python",
   "nbconvert_exporter": "python",
   "pygments_lexer": "ipython3",
   "version": "3.7.7"
  }
 },
 "nbformat": 4,
 "nbformat_minor": 4
}
