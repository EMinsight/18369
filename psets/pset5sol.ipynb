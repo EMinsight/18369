{
 "cells": [
  {
   "cell_type": "markdown",
   "metadata": {},
   "source": [
    "# 18.369 pset 5 solutions"
   ]
  },
  {
   "cell_type": "code",
   "execution_count": 1,
   "metadata": {},
   "outputs": [
    {
     "data": {
      "text/plain": [
       "Verbosity: level=1"
      ]
     },
     "execution_count": 1,
     "metadata": {},
     "output_type": "execute_result"
    }
   ],
   "source": [
    "# import a useful set of modules\n",
    "from matplotlib import pyplot as plt\n",
    "import numpy as np\n",
    "import math\n",
    "import meep as mp\n",
    "from meep import mpb\n",
    "mp.Verbosity(0)"
   ]
  },
  {
   "cell_type": "markdown",
   "metadata": {},
   "source": [
    "# Problem 2"
   ]
  },
  {
   "cell_type": "markdown",
   "metadata": {},
   "source": [
    "### Sample code: Square lattice of rods\n",
    "\n",
    "To start off with, here is some sample code computing the TM band diagram of a square lattice of dielectric rods in air."
   ]
  },
  {
   "cell_type": "code",
   "execution_count": 2,
   "metadata": {},
   "outputs": [
    {
     "name": "stdout",
     "output_type": "stream",
     "text": [
      "Initializing eigensolver data\n",
      "Computing 8 bands with 1e-07 tolerance\n",
      "Working in 2 dimensions.\n",
      "Grid size is 32 x 32 x 1.\n",
      "Solving for 8 bands at a time.\n",
      "Creating Maxwell data...\n",
      "Mesh size is 3.\n",
      "Lattice vectors:\n",
      "     (1, 0, 0)\n",
      "     (0, 1, 0)\n",
      "     (0, 0, 1)\n",
      "Cell volume = 1\n",
      "Reciprocal lattice vectors (/ 2 pi):\n",
      "     (1, -0, 0)\n",
      "     (-0, 1, -0)\n",
      "     (0, -0, 1)\n",
      "Geometric objects:\n",
      "     cylinder, center = (0,0,0)\n",
      "          radius 0.2, height 1e+20, axis (0, 0, 1)\n",
      "Geometric object tree has depth 1 and 1 object nodes (vs. 1 actual objects)\n",
      "Initializing epsilon function...\n",
      "Allocating fields...\n",
      "Solving for band polarization: tm.\n",
      "Initializing fields to random numbers...\n",
      "31 k-points\n",
      "  Vector3<0.0, 0.0, 0.0>\n",
      "  Vector3<0.05, 0.0, 0.0>\n",
      "  Vector3<0.1, 0.0, 0.0>\n",
      "  Vector3<0.15000000000000002, 0.0, 0.0>\n",
      "  Vector3<0.2, 0.0, 0.0>\n",
      "  Vector3<0.25, 0.0, 0.0>\n",
      "  Vector3<0.30000000000000004, 0.0, 0.0>\n",
      "  Vector3<0.35000000000000003, 0.0, 0.0>\n",
      "  Vector3<0.4, 0.0, 0.0>\n",
      "  Vector3<0.45, 0.0, 0.0>\n",
      "  Vector3<0.5, 0.0, 0.0>\n",
      "  Vector3<0.5, 0.05, 0.0>\n",
      "  Vector3<0.5, 0.1, 0.0>\n",
      "  Vector3<0.5, 0.15000000000000002, 0.0>\n",
      "  Vector3<0.5, 0.2, 0.0>\n",
      "  Vector3<0.5, 0.25, 0.0>\n",
      "  Vector3<0.5, 0.30000000000000004, 0.0>\n",
      "  Vector3<0.5, 0.35000000000000003, 0.0>\n",
      "  Vector3<0.5, 0.4, 0.0>\n",
      "  Vector3<0.5, 0.45, 0.0>\n",
      "  Vector3<0.5, 0.5, 0.0>\n",
      "  Vector3<0.45, 0.45, 0.0>\n",
      "  Vector3<0.4, 0.4, 0.0>\n",
      "  Vector3<0.35, 0.35, 0.0>\n",
      "  Vector3<0.3, 0.3, 0.0>\n",
      "  Vector3<0.25, 0.25, 0.0>\n",
      "  Vector3<0.19999999999999996, 0.19999999999999996, 0.0>\n",
      "  Vector3<0.14999999999999997, 0.14999999999999997, 0.0>\n",
      "  Vector3<0.09999999999999998, 0.09999999999999998, 0.0>\n",
      "  Vector3<0.04999999999999999, 0.04999999999999999, 0.0>\n",
      "  Vector3<0.0, 0.0, 0.0>\n",
      "elapsed time for initialization: 0.010637044906616211\n",
      "solve_kpoint (0,0,0):\n",
      "tmfreqs:, k index, k1, k2, k3, kmag/2pi, tm band 1, tm band 2, tm band 3, tm band 4, tm band 5, tm band 6, tm band 7, tm band 8\n",
      "Solving for bands 2 to 8...\n",
      "    near maximum in trace\n",
      "    iteration    1: trace = 15.68220361048649 (194.254% change)\n",
      "    iteration    2: trace = 5.796893556444283 (92.0459% change)\n",
      "    iteration    3: trace = 4.704290766591553 (20.8091% change)\n",
      "    iteration    4: trace = 4.451144082787796 (5.52998% change)\n",
      "    iteration    5: trace = 4.394815190522271 (1.27355% change)\n",
      "    iteration    6: trace = 4.383141886564609 (0.265969% change)\n",
      "    iteration    7: trace = 4.380428486890544 (0.0619245% change)\n",
      "    iteration    8: trace = 4.37922295320254 (0.0275247% change)\n",
      "    iteration    9: trace = 4.378001709960769 (0.0278911% change)\n",
      "    iteration   10: trace = 4.376737119132631 (0.0288893% change)\n",
      "    iteration   11: trace = 4.37557373776092 (0.0265846% change)\n",
      "    iteration   12: trace = 4.374551484168872 (0.0233655% change)\n",
      "    iteration   13: trace = 4.373916139026836 (0.0145247% change)\n",
      "    iteration   14: trace = 4.37374735755832 (0.00385889% change)\n",
      "    iteration   15: trace = 4.373725767229678 (0.000493636% change)\n",
      "    iteration   16: trace = 4.373722510045786 (7.44716e-05% change)\n",
      "    iteration   17: trace = 4.373721865380293 (1.47395e-05% change)\n",
      "    iteration   18: trace = 4.373721690788864 (3.99183e-06% change)\n",
      "Finished solving for bands 2 to 8 after 18 iterations.\n",
      "tmfreqs:, 1, 0, 0, 0, 0, 0, 0.546027, 0.552094, 0.552096, 0.812093, 0.854314, 0.951107, 1.08259\n",
      "elapsed time for k point: 0.05561685562133789\n",
      "solve_kpoint (0.05,0,0):\n",
      "Solving for bands 1 to 8...\n",
      "    iteration    1: trace = 4.372152372625067 (0.237059% change)\n",
      "    iteration    2: trace = 4.363166301941186 (0.205741% change)\n",
      "    iteration    3: trace = 4.354840532499269 (0.191002% change)\n",
      "    iteration    4: trace = 4.348356811619228 (0.148996% change)\n",
      "    iteration    5: trace = 4.345731020065901 (0.0604041% change)\n",
      "    iteration    6: trace = 4.343941756774081 (0.0411814% change)\n",
      "    iteration    7: trace = 4.342644437192703 (0.0298695% change)\n",
      "    iteration    8: trace = 4.341227874035832 (0.0326251% change)\n",
      "    iteration    9: trace = 4.339745958657691 (0.0341417% change)\n",
      "    iteration   10: trace = 4.338523621263653 (0.0281701% change)\n",
      "    iteration   11: trace = 4.337932574958153 (0.0136241% change)\n",
      "    iteration   12: trace = 4.337733806548309 (0.00458221% change)\n",
      "    iteration   13: trace = 4.337636617928494 (0.00224056% change)\n",
      "    iteration   14: trace = 4.337581281099288 (0.00127574% change)\n",
      "    iteration   15: trace = 4.337548715332941 (0.000750785% change)\n",
      "    iteration   16: trace = 4.337527235834593 (0.0004952% change)\n",
      "    iteration   17: trace = 4.337512038861263 (0.000350361% change)\n",
      "    iteration   18: trace = 4.33749518515852 (0.000388558% change)\n",
      "    iteration   19: trace = 4.337472368954609 (0.000526024% change)\n",
      "    iteration   20: trace = 4.337457243527703 (0.000348716% change)\n",
      "    iteration   21: trace = 4.337451779109352 (0.000125982% change)\n",
      "    iteration   22: trace = 4.337449199042274 (5.94835e-05% change)\n",
      "    iteration   23: trace = 4.337447993154386 (2.78018e-05% change)\n",
      "    iteration   24: trace = 4.337446811992057 (2.72317e-05% change)\n",
      "    iteration   25: trace = 4.337445655236844 (2.6669e-05% change)\n",
      "    iteration   26: trace = 4.337445120079702 (1.23381e-05% change)\n",
      "    iteration   27: trace = 4.33744494383865 (4.06325e-06% change)\n",
      "Finished solving for bands 1 to 8 after 27 iterations.\n",
      "tmfreqs:, 2, 0.05, 0, 0, 0.05, 0.0323423, 0.533845, 0.552229, 0.564232, 0.81228, 0.853965, 0.94875, 1.0672\n",
      "elapsed time for k point: 0.07669711112976074\n",
      "solve_kpoint (0.1,0,0):\n",
      "Solving for bands 1 to 8...\n",
      "    iteration    1: trace = 4.293370168566802 (0.152095% change)\n",
      "    iteration    2: trace = 4.291611934826898 (0.0409607% change)\n",
      "    iteration    3: trace = 4.291160655046127 (0.0105159% change)\n",
      "    iteration    4: trace = 4.290916051771807 (0.00570033% change)\n",
      "    iteration    5: trace = 4.290864780227425 (0.00119489% change)\n",
      "    iteration    6: trace = 4.29085812561748 (0.000155088% change)\n",
      "    iteration    7: trace = 4.290857375210541 (1.74885e-05% change)\n",
      "    iteration    8: trace = 4.290857292930959 (1.91756e-06% change)\n",
      "Finished solving for bands 1 to 8 after 8 iterations.\n",
      "tmfreqs:, 3, 0.1, 0, 0, 0.1, 0.0643671, 0.518896, 0.552617, 0.579095, 0.812721, 0.852958, 0.941428, 1.04995\n",
      "elapsed time for k point: 0.026485204696655273\n",
      "solve_kpoint (0.15,0,0):\n",
      "Solving for bands 1 to 8...\n",
      "    iteration    1: trace = 4.248408202087129 (0.130824% change)\n",
      "    iteration    2: trace = 4.24728431551863 (0.0264578% change)\n",
      "    iteration    3: trace = 4.247102931728771 (0.00427067% change)\n",
      "    iteration    4: trace = 4.2470366404254 (0.00156087% change)\n",
      "    iteration    5: trace = 4.247018290709074 (0.00043206% change)\n",
      "    iteration    6: trace = 4.247014967773128 (7.82417e-05% change)\n",
      "    iteration    7: trace = 4.247014526945711 (1.03797e-05% change)\n",
      "    iteration    8: trace = 4.247014478790883 (1.13385e-06% change)\n",
      "Finished solving for bands 1 to 8 after 8 iterations.\n",
      "tmfreqs:, 4, 0.15, 0, 0, 0.15, 0.0957356, 0.50357, 0.553223, 0.594425, 0.813015, 0.851408, 0.929034, 1.03725\n",
      "elapsed time for k point: 0.030508041381835938\n",
      "solve_kpoint (0.2,0,0):\n",
      "Solving for bands 1 to 8...\n",
      "    iteration    1: trace = 4.209348667485294 (0.119101% change)\n",
      "    iteration    2: trace = 4.208465187315413 (0.0209907% change)\n",
      "    iteration    3: trace = 4.208345958212627 (0.00283312% change)\n",
      "    iteration    4: trace = 4.208317939428545 (0.000665793% change)\n",
      "    iteration    5: trace = 4.208310301881343 (0.000181487% change)\n",
      "    iteration    6: trace = 4.208308318008922 (4.71418e-05% change)\n",
      "    iteration    7: trace = 4.208307995144423 (7.67207e-06% change)\n",
      "Finished solving for bands 1 to 8 after 7 iterations.\n",
      "tmfreqs:, 5, 0.2, 0, 0, 0.2, 0.126061, 0.48795, 0.553991, 0.610359, 0.812384, 0.849484, 0.912816, 1.02959\n",
      "elapsed time for k point: 0.023148059844970703\n",
      "solve_kpoint (0.25,0,0):\n",
      "Solving for bands 1 to 8...\n",
      "    iteration    1: trace = 4.176836012070253 (0.112231% change)\n",
      "    iteration    2: trace = 4.176056979661855 (0.018653% change)\n",
      "    iteration    3: trace = 4.175957336601519 (0.00238608% change)\n",
      "    iteration    4: trace = 4.175941564318161 (0.000377693% change)\n",
      "    iteration    5: trace = 4.175938824717742 (6.56044e-05% change)\n",
      "    iteration    6: trace = 4.175938005191135 (1.9625e-05% change)\n",
      "    iteration    7: trace = 4.175937776246576 (5.48247e-06% change)\n"
     ]
    },
    {
     "name": "stdout",
     "output_type": "stream",
     "text": [
      "Finished solving for bands 1 to 8 after 7 iterations.\n",
      "tmfreqs:, 6, 0.25, 0, 0, 0.25, 0.154869, 0.472195, 0.554847, 0.627071, 0.809465, 0.847388, 0.895562, 1.02595\n",
      "elapsed time for k point: 0.022329092025756836\n",
      "solve_kpoint (0.3,0,0):\n",
      "Solving for bands 1 to 8...\n",
      "    iteration    1: trace = 4.15132707389302 (0.109048% change)\n",
      "    iteration    2: trace = 4.150561452288093 (0.0184445% change)\n",
      "    iteration    3: trace = 4.150459117245259 (0.0024656% change)\n",
      "    iteration    4: trace = 4.150445495853795 (0.000328191% change)\n",
      "    iteration    5: trace = 4.150444164474187 (3.2078e-05% change)\n",
      "    iteration    6: trace = 4.150444028462269 (3.27704e-06% change)\n",
      "Finished solving for bands 1 to 8 after 6 iterations.\n",
      "tmfreqs:, 7, 0.3, 0, 0, 0.3, 0.181523, 0.45665, 0.555709, 0.644685, 0.802314, 0.845326, 0.880698, 1.025\n",
      "elapsed time for k point: 0.02587890625\n",
      "solve_kpoint (0.35,0,0):\n",
      "Solving for bands 1 to 8...\n",
      "    iteration    1: trace = 4.132811635311082 (0.109057% change)\n",
      "    iteration    2: trace = 4.131977436854593 (0.0201868% change)\n",
      "    iteration    3: trace = 4.13185233537843 (0.00302769% change)\n",
      "    iteration    4: trace = 4.131832786886581 (0.000473118% change)\n",
      "    iteration    5: trace = 4.131829733343631 (7.39029e-05% change)\n",
      "    iteration    6: trace = 4.131828983912069 (1.8138e-05% change)\n",
      "    iteration    7: trace = 4.131828679855799 (7.35888e-06% change)\n",
      "Finished solving for bands 1 to 8 after 7 iterations.\n",
      "tmfreqs:, 8, 0.35, 0, 0, 0.35, 0.205116, 0.441977, 0.556492, 0.663232, 0.789555, 0.843495, 0.870689, 1.02561\n",
      "elapsed time for k point: 0.024518966674804688\n",
      "solve_kpoint (0.4,0,0):\n",
      "Solving for bands 1 to 8...\n",
      "    iteration    1: trace = 4.120795655703224 (0.111823% change)\n",
      "    iteration    2: trace = 4.119815260815231 (0.0237942% change)\n",
      "    iteration    3: trace = 4.119647098865952 (0.00408187% change)\n",
      "    iteration    4: trace = 4.119611045208996 (0.000875168% change)\n",
      "    iteration    5: trace = 4.119602160566729 (0.000215667% change)\n",
      "    iteration    6: trace = 4.11959950368834 (6.44936e-05% change)\n",
      "    iteration    7: trace = 4.119598685521273 (1.98604e-05% change)\n",
      "    iteration    8: trace = 4.119598605585161 (1.94039e-06% change)\n",
      "Finished solving for bands 1 to 8 after 8 iterations.\n",
      "tmfreqs:, 9, 0.4, 0, 0, 0.4, 0.224302, 0.429317, 0.557116, 0.682524, 0.772176, 0.842059, 0.865404, 1.0269\n",
      "elapsed time for k point: 0.026036977767944336\n",
      "solve_kpoint (0.45,0,0):\n",
      "Solving for bands 1 to 8...\n",
      "    iteration    1: trace = 4.114363305357298 (0.116395% change)\n",
      "    iteration    2: trace = 4.113190014552256 (0.028521% change)\n",
      "    iteration    3: trace = 4.112967142322605 (0.00541862% change)\n",
      "    iteration    4: trace = 4.112905896128256 (0.00148911% change)\n",
      "    iteration    5: trace = 4.112889071084696 (0.00040908% change)\n",
      "    iteration    6: trace = 4.112884273629021 (0.000116644% change)\n",
      "    iteration    7: trace = 4.112883000666561 (3.09506e-05% change)\n",
      "    iteration    8: trace = 4.112882899064804 (2.47033e-06% change)\n",
      "Finished solving for bands 1 to 8 after 8 iterations.\n",
      "tmfreqs:, 10, 0.45, 0, 0, 0.45, 0.237206, 0.420392, 0.557519, 0.701602, 0.753227, 0.841144, 0.863127, 1.02808\n",
      "elapsed time for k point: 0.024725914001464844\n",
      "solve_kpoint (0.5,0,0):\n",
      "Solving for bands 1 to 8...\n",
      "    iteration    1: trace = 4.112482985611812 (0.120714% change)\n",
      "    iteration    2: trace = 4.111152311831316 (0.0323622% change)\n",
      "    iteration    3: trace = 4.110888656859667 (0.00641337% change)\n",
      "    iteration    4: trace = 4.110807255047664 (0.00198017% change)\n",
      "    iteration    5: trace = 4.110785020508622 (0.000540882% change)\n",
      "    iteration    6: trace = 4.110778873053607 (0.000149545% change)\n",
      "    iteration    7: trace = 4.110777363277665 (3.67273e-05% change)\n",
      "    iteration    8: trace = 4.110777251890143 (2.70965e-06% change)\n",
      "Finished solving for bands 1 to 8 after 8 iterations.\n",
      "tmfreqs:, 11, 0.5, 0, 0, 0.5, 0.241821, 0.417114, 0.557658, 0.713395, 0.741311, 0.84083, 0.862516, 1.02856\n",
      "elapsed time for k point: 0.0250699520111084\n",
      "solve_kpoint (0.5,0.05,0):\n",
      "Solving for bands 1 to 8...\n",
      "    iteration    1: trace = 4.110522175981597 (0.227068% change)\n",
      "    iteration    2: trace = 4.108152167791983 (0.0576737% change)\n",
      "    iteration    3: trace = 4.107678317345719 (0.0115351% change)\n",
      "    iteration    4: trace = 4.107636654309526 (0.00101428% change)\n",
      "    iteration    5: trace = 4.107632469997831 (0.000101867% change)\n",
      "    iteration    6: trace = 4.107632135955928 (8.13223e-06% change)\n",
      "Finished solving for bands 1 to 8 after 6 iterations.\n",
      "tmfreqs:, 12, 0.5, 0.05, 0, 0.502494, 0.242692, 0.418763, 0.555943, 0.712942, 0.743512, 0.841112, 0.86254, 1.02555\n",
      "elapsed time for k point: 0.01986384391784668\n",
      "solve_kpoint (0.5,0.1,0):\n",
      "Solving for bands 1 to 8...\n",
      "    iteration    1: trace = 4.101813342138832 (0.215661% change)\n",
      "    iteration    2: trace = 4.099859580470829 (0.047643% change)\n",
      "    iteration    3: trace = 4.099520906024191 (0.00826098% change)\n",
      "    iteration    4: trace = 4.09949323544129 (0.000674973% change)\n",
      "    iteration    5: trace = 4.099490236980942 (7.31422e-05% change)\n",
      "    iteration    6: trace = 4.099489978079111 (6.31546e-06% change)\n",
      "Finished solving for bands 1 to 8 after 6 iterations.\n",
      "tmfreqs:, 13, 0.5, 0.1, 0, 0.509902, 0.245235, 0.4236, 0.551085, 0.711571, 0.749855, 0.841982, 0.862609, 1.01714\n",
      "elapsed time for k point: 0.02052617073059082\n",
      "solve_kpoint (0.5,0.15,0):\n",
      "Solving for bands 1 to 8...\n",
      "    iteration    1: trace = 4.090859160926156 (0.195224% change)\n",
      "    iteration    2: trace = 4.089411665300251 (0.0353899% change)\n",
      "    iteration    3: trace = 4.089202858763508 (0.00510616% change)\n",
      "    iteration    4: trace = 4.089188184830756 (0.000358846% change)\n",
      "    iteration    5: trace = 4.08918674952033 (3.51001e-05% change)\n",
      "    iteration    6: trace = 4.089186571300212 (4.35833e-06% change)\n",
      "Finished solving for bands 1 to 8 after 6 iterations.\n",
      "tmfreqs:, 14, 0.5, 0.15, 0, 0.522015, 0.249252, 0.431297, 0.543813, 0.709265, 0.759695, 0.843512, 0.862718, 1.00465\n",
      "elapsed time for k point: 0.021471023559570312\n",
      "solve_kpoint (0.5,0.2,0):\n",
      "Solving for bands 1 to 8...\n",
      "    iteration    1: trace = 4.080690466426113 (0.176192% change)\n",
      "    iteration    2: trace = 4.079600153011554 (0.0267224% change)\n",
      "    iteration    3: trace = 4.079462519468334 (0.00337376% change)\n",
      "    iteration    4: trace = 4.079453528593784 (0.000220394% change)\n",
      "    iteration    5: trace = 4.079452977598148 (1.35066e-05% change)\n",
      "    iteration    6: trace = 4.079452908603683 (1.69127e-06% change)\n",
      "Finished solving for bands 1 to 8 after 6 iterations.\n",
      "tmfreqs:, 15, 0.5, 0.2, 0, 0.538516, 0.25442, 0.441321, 0.535034, 0.706018, 0.772267, 0.845818, 0.862861, 0.989395\n",
      "elapsed time for k point: 0.020457029342651367\n",
      "solve_kpoint (0.5,0.25,0):\n",
      "Solving for bands 1 to 8...\n",
      "    iteration    1: trace = 4.073273432692003 (0.16212% change)\n",
      "    iteration    2: trace = 4.072372366630746 (0.0221239% change)\n",
      "    iteration    3: trace = 4.072250059939037 (0.00300337% change)\n",
      "    iteration    4: trace = 4.072237054800681 (0.000319361% change)\n",
      "    iteration    5: trace = 4.072235489755787 (3.84321e-05% change)\n",
      "    iteration    6: trace = 4.072235286822472 (4.98334e-06% change)\n",
      "Finished solving for bands 1 to 8 after 6 iterations.\n",
      "tmfreqs:, 16, 0.5, 0.25, 0, 0.559017, 0.260309, 0.452941, 0.525647, 0.701889, 0.786879, 0.849051, 0.86303, 0.972357\n",
      "elapsed time for k point: 0.02016472816467285\n",
      "solve_kpoint (0.5,0.3,0):\n",
      "Solving for bands 1 to 8...\n",
      "    iteration    1: trace = 4.069772128578629 (0.152187% change)\n",
      "    iteration    2: trace = 4.068944586640308 (0.0203359% change)\n",
      "    iteration    3: trace = 4.068792774582207 (0.00373106% change)\n",
      "    iteration    4: trace = 4.068763504098142 (0.000719392% change)\n",
      "    iteration    5: trace = 4.068759657424357 (9.45416e-05% change)\n",
      "    iteration    6: trace = 4.068759299180816 (8.80474e-06% change)\n",
      "Finished solving for bands 1 to 8 after 6 iterations.\n",
      "tmfreqs:, 17, 0.5, 0.3, 0, 0.583095, 0.266397, 0.465222, 0.516482, 0.697068, 0.802974, 0.853388, 0.863228, 0.954203\n",
      "elapsed time for k point: 0.020568132400512695\n",
      "solve_kpoint (0.5,0.35,0):\n",
      "Solving for bands 1 to 8...\n",
      "    iteration    1: trace = 4.070887557617169 (0.144486% change)\n",
      "    iteration    2: trace = 4.07006164882169 (0.0202902% change)\n",
      "    iteration    3: trace = 4.069832653542758 (0.00562649% change)\n"
     ]
    },
    {
     "name": "stdout",
     "output_type": "stream",
     "text": [
      "    iteration    4: trace = 4.069765529857436 (0.00164931% change)\n",
      "    iteration    5: trace = 4.069757045962031 (0.000208462% change)\n",
      "    iteration    6: trace = 4.06975638222243 (1.63091e-05% change)\n",
      "    iteration    7: trace = 4.069756334939102 (1.16182e-06% change)\n",
      "Finished solving for bands 1 to 8 after 7 iterations.\n",
      "tmfreqs:, 18, 0.5, 0.35, 0, 0.610328, 0.272093, 0.477022, 0.508306, 0.691965, 0.82009, 0.858995, 0.863482, 0.935393\n",
      "elapsed time for k point: 0.0225222110748291\n",
      "solve_kpoint (0.5,0.4,0):\n",
      "Solving for bands 1 to 8...\n",
      "    iteration    1: trace = 4.077006228672844 (0.137408% change)\n",
      "    iteration    2: trace = 4.076120225071477 (0.0217341% change)\n",
      "    iteration    3: trace = 4.075722359570062 (0.00976136% change)\n",
      "    iteration    4: trace = 4.075552351219746 (0.00417133% change)\n",
      "    iteration    5: trace = 4.075528629499592 (0.000582051% change)\n",
      "    iteration    6: trace = 4.075527071258109 (3.82341e-05% change)\n",
      "    iteration    7: trace = 4.075526959879446 (2.73287e-06% change)\n",
      "Finished solving for bands 1 to 8 after 7 iterations.\n",
      "tmfreqs:, 19, 0.5, 0.4, 0, 0.640312, 0.276774, 0.48701, 0.501823, 0.687264, 0.837704, 0.86397, 0.865932, 0.916273\n",
      "elapsed time for k point: 0.022596120834350586\n",
      "solve_kpoint (0.5,0.45,0):\n",
      "Solving for bands 1 to 8...\n",
      "    iteration    1: trace = 4.08791234843493 (0.130434% change)\n",
      "    iteration    2: trace = 4.086818097858031 (0.0267715% change)\n",
      "    iteration    3: trace = 4.085889308628875 (0.022729% change)\n",
      "    iteration    4: trace = 4.085329761432847 (0.0136956% change)\n",
      "    iteration    5: trace = 4.085241908718753 (0.00215047% change)\n",
      "    iteration    6: trace = 4.08523746130407 (0.000108865% change)\n",
      "    iteration    7: trace = 4.085237204110636 (6.29568e-06% change)\n",
      "Finished solving for bands 1 to 8 after 7 iterations.\n",
      "tmfreqs:, 20, 0.5, 0.45, 0, 0.672681, 0.279865, 0.493785, 0.497643, 0.683867, 0.853899, 0.866258, 0.873658, 0.897185\n",
      "elapsed time for k point: 0.07583308219909668\n",
      "solve_kpoint (0.5,0.5,0):\n",
      "Solving for bands 1 to 8...\n",
      "    iteration    1: trace = 4.100373391644227 (0.127518% change)\n",
      "    iteration    2: trace = 4.098203310018956 (0.052938% change)\n",
      "    iteration    3: trace = 4.094379363539996 (0.0933514% change)\n",
      "    iteration    4: trace = 4.092447639355164 (0.047191% change)\n",
      "    iteration    5: trace = 4.092163501729072 (0.00694322% change)\n",
      "    iteration    6: trace = 4.092151104052181 (0.000302962% change)\n",
      "    iteration    7: trace = 4.092150585024231 (1.26835e-05% change)\n",
      "    iteration    8: trace = 4.092150509413279 (1.84771e-06% change)\n",
      "Finished solving for bands 1 to 8 after 8 iterations.\n",
      "tmfreqs:, 21, 0.5, 0.5, 0, 0.707107, 0.280948, 0.496196, 0.496197, 0.682617, 0.859474, 0.878316, 0.878316, 0.879351\n",
      "elapsed time for k point: 0.02475595474243164\n",
      "solve_kpoint (0.45,0.45,0):\n",
      "Solving for bands 1 to 8...\n",
      "    iteration    1: trace = 4.100664145026278 (0.281944% change)\n",
      "    iteration    2: trace = 4.090342882342751 (0.252014% change)\n",
      "    iteration    3: trace = 4.080017057190018 (0.252763% change)\n",
      "    iteration    4: trace = 4.076626536101627 (0.0831352% change)\n",
      "    iteration    5: trace = 4.074319668143245 (0.0566037% change)\n",
      "    iteration    6: trace = 4.073068858467072 (0.0307046% change)\n",
      "    iteration    7: trace = 4.072798145606107 (0.00664663% change)\n",
      "    iteration    8: trace = 4.072787254981408 (0.000267399% change)\n",
      "    iteration    9: trace = 4.072786462845614 (1.94495e-05% change)\n",
      "    iteration   10: trace = 4.072786299810572 (4.00303e-06% change)\n",
      "Finished solving for bands 1 to 8 after 10 iterations.\n",
      "tmfreqs:, 22, 0.45, 0.45, 0, 0.636396, 0.278705, 0.492982, 0.497608, 0.684931, 0.852474, 0.853908, 0.885419, 0.891907\n",
      "elapsed time for k point: 0.035965919494628906\n",
      "solve_kpoint (0.4,0.4,0):\n",
      "Solving for bands 1 to 8...\n",
      "    iteration    1: trace = 4.051198657817599 (0.249302% change)\n",
      "    iteration    2: trace = 4.048376707217578 (0.0696814% change)\n",
      "    iteration    3: trace = 4.047132241910183 (0.0307446% change)\n",
      "    iteration    4: trace = 4.046765517247984 (0.00906176% change)\n",
      "    iteration    5: trace = 4.046678177998027 (0.00215827% change)\n",
      "    iteration    6: trace = 4.046655511034916 (0.000560139% change)\n",
      "    iteration    7: trace = 4.046652488681761 (7.46877e-05% change)\n",
      "    iteration    8: trace = 4.04665221580602 (6.74325e-06% change)\n",
      "Finished solving for bands 1 to 8 after 8 iterations.\n",
      "tmfreqs:, 23, 0.4, 0.4, 0, 0.565685, 0.27141, 0.485365, 0.501693, 0.689111, 0.830636, 0.844978, 0.893706, 0.898991\n",
      "elapsed time for k point: 0.024959802627563477\n",
      "solve_kpoint (0.35,0.35,0):\n",
      "Solving for bands 1 to 8...\n",
      "    iteration    1: trace = 4.038071116248709 (0.219651% change)\n",
      "    iteration    2: trace = 4.036781825253765 (0.0319335% change)\n",
      "    iteration    3: trace = 4.036575658368051 (0.00510734% change)\n",
      "    iteration    4: trace = 4.036542312623158 (0.000826093% change)\n",
      "    iteration    5: trace = 4.036532928527307 (0.000232479% change)\n",
      "    iteration    6: trace = 4.036530921937366 (4.97107e-05% change)\n",
      "    iteration    7: trace = 4.036530735998264 (4.60641e-06% change)\n",
      "Finished solving for bands 1 to 8 after 7 iterations.\n",
      "tmfreqs:, 24, 0.35, 0.35, 0, 0.494975, 0.257727, 0.47772, 0.508023, 0.688749, 0.818971, 0.836648, 0.89511, 0.915158\n",
      "elapsed time for k point: 0.022526025772094727\n",
      "solve_kpoint (0.3,0.3,0):\n",
      "Solving for bands 1 to 8...\n",
      "    iteration    1: trace = 4.045758487234333 (0.212891% change)\n",
      "    iteration    2: trace = 4.044643967241755 (0.0275517% change)\n",
      "    iteration    3: trace = 4.044522326084937 (0.00300751% change)\n",
      "    iteration    4: trace = 4.044514510442769 (0.00019324% change)\n",
      "    iteration    5: trace = 4.044513448566974 (2.62547e-05% change)\n",
      "    iteration    6: trace = 4.044513261662232 (4.62119e-06% change)\n",
      "Finished solving for bands 1 to 8 after 6 iterations.\n",
      "tmfreqs:, 25, 0.3, 0.3, 0, 0.424264, 0.236529, 0.473888, 0.515941, 0.679199, 0.819377, 0.829518, 0.897603, 0.933446\n",
      "elapsed time for k point: 0.019659042358398438\n",
      "solve_kpoint (0.25,0.25,0):\n",
      "Solving for bands 1 to 8...\n",
      "    iteration    1: trace = 4.071722583310597 (0.212357% change)\n",
      "    iteration    2: trace = 4.070593681130268 (0.0277293% change)\n",
      "    iteration    3: trace = 4.070477483314955 (0.00285461% change)\n",
      "    iteration    4: trace = 4.070468883602457 (0.000211271% change)\n",
      "    iteration    5: trace = 4.070467180672196 (4.18362e-05% change)\n",
      "    iteration    6: trace = 4.070467025429391 (3.81388e-06% change)\n",
      "Finished solving for bands 1 to 8 after 6 iterations.\n",
      "tmfreqs:, 26, 0.25, 0.25, 0, 0.353553, 0.207854, 0.475659, 0.524638, 0.661782, 0.823707, 0.827826, 0.902302, 0.953873\n",
      "elapsed time for k point: 0.02023482322692871\n",
      "solve_kpoint (0.2,0.2,0):\n",
      "Solving for bands 1 to 8...\n",
      "    iteration    1: trace = 4.114844163184677 (0.217107% change)\n",
      "    iteration    2: trace = 4.113575306834337 (0.0308408% change)\n",
      "    iteration    3: trace = 4.113435888194669 (0.00338929% change)\n",
      "    iteration    4: trace = 4.113419404587308 (0.000400727% change)\n",
      "    iteration    5: trace = 4.113415566477745 (9.33071e-05% change)\n",
      "    iteration    6: trace = 4.113415288793418 (6.7507e-06% change)\n",
      "Finished solving for bands 1 to 8 after 6 iterations.\n",
      "tmfreqs:, 27, 0.2, 0.2, 0, 0.282843, 0.172884, 0.482973, 0.533242, 0.640233, 0.819202, 0.838111, 0.910409, 0.976551\n",
      "elapsed time for k point: 0.020092010498046875\n",
      "solve_kpoint (0.15,0.15,0):\n",
      "Solving for bands 1 to 8...\n",
      "    iteration    1: trace = 4.173236133397267 (0.228794% change)\n",
      "    iteration    2: trace = 4.171637907618101 (0.0383044% change)\n",
      "    iteration    3: trace = 4.171434143260241 (0.00488464% change)\n",
      "    iteration    4: trace = 4.171398312067993 (0.000858969% change)\n",
      "    iteration    5: trace = 4.171390161431429 (0.000195394% change)\n",
      "    iteration    6: trace = 4.17138926560511 (2.14755e-05% change)\n",
      "    iteration    7: trace = 4.171389134885969 (3.13371e-06% change)\n",
      "Finished solving for bands 1 to 8 after 7 iterations.\n",
      "tmfreqs:, 28, 0.15, 0.15, 0, 0.212132, 0.133236, 0.494904, 0.540917, 0.617121, 0.81592, 0.846202, 0.922158, 1.00156\n",
      "elapsed time for k point: 0.021965742111206055\n",
      "solve_kpoint (0.1,0.1,0):\n",
      "Solving for bands 1 to 8...\n",
      "    iteration    1: trace = 4.243518236887506 (0.251073% change)\n",
      "    iteration    2: trace = 4.241222305751158 (0.0541191% change)\n"
     ]
    },
    {
     "name": "stdout",
     "output_type": "stream",
     "text": [
      "    iteration    3: trace = 4.240860804313114 (0.00852388% change)\n",
      "    iteration    4: trace = 4.240775771005936 (0.00200512% change)\n",
      "    iteration    5: trace = 4.240755006738168 (0.000489635% change)\n",
      "    iteration    6: trace = 4.240750662968937 (0.000102429% change)\n",
      "    iteration    7: trace = 4.240749766478112 (2.11399e-05% change)\n",
      "    iteration    8: trace = 4.24074965505997 (2.62732e-06% change)\n",
      "Finished solving for bands 1 to 8 after 8 iterations.\n",
      "tmfreqs:, 29, 0.1, 0.1, 0, 0.141421, 0.0904174, 0.510404, 0.546943, 0.593803, 0.81373, 0.851132, 0.935551, 1.02882\n",
      "elapsed time for k point: 0.02473306655883789\n",
      "solve_kpoint (0.05,0.05,0):\n",
      "Solving for bands 1 to 8...\n",
      "    iteration    1: trace = 4.319611621164884 (0.288832% change)\n",
      "    iteration    2: trace = 4.315960950190895 (0.0845496% change)\n",
      "    iteration    3: trace = 4.315250660451136 (0.0164586% change)\n",
      "    iteration    4: trace = 4.315020762907604 (0.0053277% change)\n",
      "    iteration    5: trace = 4.314932128728694 (0.00205411% change)\n",
      "    iteration    6: trace = 4.314894701316572 (0.000867397% change)\n",
      "    iteration    7: trace = 4.314884832634188 (0.000228712% change)\n",
      "    iteration    8: trace = 4.31488335924103 (3.41468e-05% change)\n",
      "    iteration    9: trace = 4.314882954118893 (9.38895e-06% change)\n",
      "Finished solving for bands 1 to 8 after 9 iterations.\n",
      "tmfreqs:, 30, 0.05, 0.05, 0, 0.0707107, 0.0456646, 0.52855, 0.550779, 0.571077, 0.812492, 0.853586, 0.946673, 1.05783\n",
      "elapsed time for k point: 0.02674102783203125\n",
      "solve_kpoint (0,0,0):\n",
      "Solving for bands 2 to 8...\n",
      "    iteration    1: trace = 4.390908294933636 (0.336775% change)\n",
      "    iteration    2: trace = 4.385112950287405 (0.132072% change)\n",
      "    iteration    3: trace = 4.38341006756294 (0.0388408% change)\n",
      "    iteration    4: trace = 4.381837331205985 (0.0358857% change)\n",
      "    iteration    5: trace = 4.37949806605104 (0.0533997% change)\n",
      "    iteration    6: trace = 4.37694899763886 (0.0582215% change)\n",
      "    iteration    7: trace = 4.375265852427889 (0.0384622% change)\n",
      "    iteration    8: trace = 4.37433495269266 (0.0212787% change)\n",
      "    iteration    9: trace = 4.373842233398529 (0.0112645% change)\n",
      "    iteration   10: trace = 4.373739504952386 (0.00234873% change)\n",
      "    iteration   11: trace = 4.373725253703769 (0.000325837% change)\n",
      "    iteration   12: trace = 4.373723278670688 (4.51568e-05% change)\n",
      "    iteration   13: trace = 4.373722900417953 (8.6483e-06% change)\n",
      "Finished solving for bands 2 to 8 after 13 iterations.\n",
      "tmfreqs:, 31, 0, 0, 0, 0, 0, 0.546027, 0.552094, 0.552096, 0.812093, 0.854314, 0.951107, 1.08259\n",
      "elapsed time for k point: 0.02998185157775879\n",
      "Band 1 range: 0.0 at Vector3<0.0, 0.0, 0.0> to 0.28094795437968095 at Vector3<0.5, 0.5, 0.0>\n",
      "Band 2 range: 0.4171142496747989 at Vector3<0.5, 0.0, 0.0> to 0.5460267878039963 at Vector3<0.0, 0.0, 0.0>\n",
      "Band 3 range: 0.49619745312223545 at Vector3<0.5, 0.5, 0.0> to 0.5576576367260592 at Vector3<0.5, 0.0, 0.0>\n",
      "Band 4 range: 0.5520955886503429 at Vector3<0.0, 0.0, 0.0> to 0.7133951522965281 at Vector3<0.5, 0.0, 0.0>\n",
      "Band 5 range: 0.7413109665222846 at Vector3<0.5, 0.0, 0.0> to 0.8594741073451447 at Vector3<0.5, 0.5, 0.0>\n",
      "Band 6 range: 0.8278261181710957 at Vector3<0.25, 0.25, 0.0> to 0.8783155715939363 at Vector3<0.5, 0.5, 0.0>\n",
      "Band 7 range: 0.862515907439667 at Vector3<0.5, 0.0, 0.0> to 0.9511074601544834 at Vector3<0.0, 0.0, 0.0>\n",
      "Band 8 range: 0.8793510958348817 at Vector3<0.5, 0.5, 0.0> to 1.0825933106202508 at Vector3<0.0, 0.0, 0.0>\n",
      "Gap from band 1 (0.28094795437968095) to band 2 (0.4171142496747989), 39.012653744677145%\n",
      "Gap from band 4 (0.7133951522965281) to band 5 (0.7413109665222846), 3.8380005232154377%\n",
      "total elapsed time for run: 0.8902709484100342\n",
      "done\n"
     ]
    }
   ],
   "source": [
    "ms_sq = mpb.ModeSolver(\n",
    "        resolution=32,\n",
    "        num_bands=8,\n",
    "    \n",
    "        # a square lattice, period a=1:\n",
    "        geometry_lattice=mp.Lattice(size=mp.Vector3(1, 1)),\n",
    "        \n",
    "        # cylindrical rods with radius 0.2a and epsilon=12\n",
    "        geometry=[mp.Cylinder(0.2, material=mp.Medium(epsilon=12))],\n",
    "    \n",
    "        # the corners of the irreducible Brillouin zone\n",
    "        k_points = mp.interpolate(9, [\n",
    "            mp.Vector3(),               # Gamma\n",
    "            mp.Vector3(0.5, 0),         # X\n",
    "            mp.Vector3(0.5, 0.5),       # M\n",
    "            mp.Vector3(),               # Gamma\n",
    "        ]))\n",
    "ms_sq.run_tm()"
   ]
  },
  {
   "cell_type": "markdown",
   "metadata": {},
   "source": [
    "Plotting the result, similar to above, and computing the gap:"
   ]
  },
  {
   "cell_type": "code",
   "execution_count": 3,
   "metadata": {},
   "outputs": [
    {
     "name": "stdout",
     "output_type": "stream",
     "text": [
      "epsilon: 1-12, mean 2.38229, harm. mean 1.1448, 14.5508% > 1, 12.5663% \"fill\"\n",
      "real part range: 1 .. 12\n",
      "TM band gap = 39.0127%, from 0.280948 to 0.417114\n"
     ]
    },
    {
     "data": {
      "image/png": "[encoded data removed]",
      "text/plain": [
       "<Figure size 720x360 with 2 Axes>"
      ]
     },
     "metadata": {
      "needs_background": "light"
     },
     "output_type": "display_data"
    }
   ],
   "source": [
    "plt.figure(figsize=(10,5))\n",
    "\n",
    "md = mpb.MPBData(rectify=True, periods=3)\n",
    "eps = md.convert(ms_sq.get_epsilon())\n",
    "plt.subplot(1,2,2)\n",
    "plt.imshow(eps, cmap=\"binary\")\n",
    "plt.title(\"$example: \\epsilon$ for square lattice of rods\")\n",
    "\n",
    "plt.subplot(1,2,1)\n",
    "plt.plot(ms_sq.all_freqs, \"b.-\")\n",
    "plt.ylabel(\"frequency ($c/a$)\")\n",
    "plt.xticks([0,10,20,30], [\"$\\Gamma$\",\"X\",\"M\",\"$\\Gamma$\"])\n",
    "plt.grid()\n",
    "plt.title(\"example: TM square-lattice bands\")\n",
    "\n",
    "band1_max = np.max(ms_sq.all_freqs[:,0])\n",
    "band2_min = np.min(ms_sq.all_freqs[:,1])\n",
    "gap = 200 * (band2_min - band1_max) / (band1_max + band2_min)\n",
    "print(\"TM band gap = %g%%, from %g to %g\" % (gap, band1_max, band2_min))"
   ]
  },
  {
   "cell_type": "markdown",
   "metadata": {},
   "source": [
    "It will be useful below to have a list of the frequencies at the $X$ point:"
   ]
  },
  {
   "cell_type": "code",
   "execution_count": 4,
   "metadata": {},
   "outputs": [
    {
     "data": {
      "text/plain": [
       "array([0.24182099, 0.41711425, 0.55765764, 0.71339515, 0.74131097,\n",
       "       0.84083049, 0.86251591, 1.02855692])"
      ]
     },
     "execution_count": 4,
     "metadata": {},
     "output_type": "execute_result"
    }
   ],
   "source": [
    "ms_sq.all_freqs[10,:]"
   ]
  },
  {
   "cell_type": "markdown",
   "metadata": {},
   "source": [
    "### part (a): Transmission through $N_x$ rods\n",
    "\n",
    "The following function computes the transmitted power $P(\\omega)$ through a finite (in $x$) crystal consisting of $N_x$ rods, with air on either side, returning an array of frequencies, an array of powers, and the simulation object:"
   ]
  },
  {
   "cell_type": "code",
   "execution_count": 5,
   "metadata": {},
   "outputs": [],
   "source": [
    "def transmitted_P(Nx=5, pad=4, dpml=1, fmin=0.2, fmax=0.8, nfreq=300):\n",
    "    fcen = (fmin+fmax)*0.5\n",
    "    df = fmax - fmin\n",
    "    sx = Nx + 2*(pad+dpml)\n",
    "    \n",
    "    sim = mp.Simulation(cell_size=mp.Vector3(sx, 1),\n",
    "                        \n",
    "                        # make Nx duplicates of a rod:\n",
    "                        geometry = mp.geometric_object_duplicates(mp.Vector3(1,0), 0, Nx-1, \n",
    "                                                                  mp.Cylinder(0.2, center=mp.Vector3(-0.5*sx+dpml+pad+0.5,0), material=mp.Medium(epsilon=12))),\n",
    " \n",
    "                        \n",
    "                        # absorbing boundaries in y direction, periodic in x\n",
    "                        boundary_layers = [mp.PML(dpml, direction=mp.X)],\n",
    "                        k_point = mp.Vector3(0,0), # ky=0 for normal incidence\n",
    "                        \n",
    "                        # source is a pulsed line source adjacent to PML\n",
    "                        sources=[mp.Source(mp.GaussianSource(fcen, fwidth=df), mp.Ez,\n",
    "                                           center=(-sx*0.5 + dpml,0), size=(0,1))],\n",
    "                        \n",
    "                        # to speed things up, exploit the y=0 mirror plane:\n",
    "                        symmetries = [mp.Mirror(mp.Y, phase=1)],\n",
    "                        resolution=20)\n",
    "    \n",
    "    # flux (power) monitor on transmitted side\n",
    "    fluxregion = mp.FluxRegion(center=mp.Vector3(0.5*sx-dpml),\n",
    "                               size=mp.Vector3(0,1))\n",
    "    trans = sim.add_flux(fcen, df, nfreq, fluxregion)\n",
    "    \n",
    "    # run simulation until fields on transmitted side have decayed away\n",
    "    sim.run(until_after_sources=mp.stop_when_fields_decayed(50, mp.Ez, mp.Vector3(0.5*sx-dpml), 1e-3))\n",
    "    return sim, np.array(mp.get_flux_freqs(trans)), np.array(mp.get_fluxes(trans))"
   ]
  },
  {
   "cell_type": "markdown",
   "metadata": {},
   "source": [
    "### part (a)\n",
    "\n",
    "We compute the *normalized* transmission spectra for frequencies from $0.2c/a$ to $0.8c/a $as a function of $N_{x}$, for $N_{x}=1,2,3,5,6$, and plot them (together on a single plot). The transmission spectrum is the transmitted power spectrum (shown above) *normalized* by dividing by the transmitted power for $N_{x}=0$ (no holes).\n",
    "\n",
    "First, we do simulations for these different $N_x$ values and save the powers:"
   ]
  },
  {
   "cell_type": "code",
   "execution_count": 6,
   "metadata": {},
   "outputs": [
    {
     "name": "stdout",
     "output_type": "stream",
     "text": [
      "-----------\n",
      "Initializing structure...\n",
      "Halving computational cell along direction y\n",
      "time for choose_chunkdivision = 0.000554085 s\n",
      "Working in 2D dimensions.\n",
      "Computational cell is 10 x 1 x 0 with resolution 20\n",
      "time for set_epsilon = 0.00223804 s\n",
      "-----------\n",
      "field decay(t = 50.025000000000006): 0.251526666186021 / 0.251526666186021 = 1.0\n",
      "field decay(t = 100.05000000000001): 4.2163182609746403e-13 / 0.251526666186021 = 1.676290758712791e-12\n",
      "run 0 finished at t = 100.05000000000001 (4002 timesteps)\n",
      "-----------\n",
      "Initializing structure...\n",
      "Halving computational cell along direction y\n",
      "time for choose_chunkdivision = 0.000434875 s\n",
      "Working in 2D dimensions.\n",
      "Computational cell is 11 x 1 x 0 with resolution 20\n",
      "     cylinder, center = (0,0,0)\n",
      "          radius 0.2, height 1e+20, axis (0, 0, 1)\n",
      "          dielectric constant epsilon diagonal = (12,12,12)\n",
      "time for set_epsilon = 0.00465417 s\n",
      "-----------\n",
      "field decay(t = 50.025000000000006): 0.17101727868531652 / 0.17101727868531652 = 1.0\n",
      "field decay(t = 100.05000000000001): 3.1336888299269923e-10 / 0.17101727868531652 = 1.8323814143325213e-09\n",
      "run 0 finished at t = 100.05000000000001 (4002 timesteps)\n",
      "-----------\n",
      "Initializing structure...\n",
      "Halving computational cell along direction y\n",
      "time for choose_chunkdivision = 0.000549078 s\n",
      "Working in 2D dimensions.\n",
      "Computational cell is 12 x 1 x 0 with resolution 20\n",
      "     cylinder, center = (0.5,0,0)\n",
      "          radius 0.2, height 1e+20, axis (0, 0, 1)\n",
      "          dielectric constant epsilon diagonal = (12,12,12)\n",
      "     cylinder, center = (-0.5,0,0)\n",
      "          radius 0.2, height 1e+20, axis (0, 0, 1)\n",
      "          dielectric constant epsilon diagonal = (12,12,12)\n",
      "time for set_epsilon = 0.00702906 s\n",
      "-----------\n",
      "field decay(t = 50.025000000000006): 0.14568881935410932 / 0.14568881935410932 = 1.0\n",
      "field decay(t = 100.05000000000001): 7.144722467937987e-06 / 0.14568881935410932 = 4.9040979943506296e-05\n",
      "run 0 finished at t = 100.05000000000001 (4002 timesteps)\n",
      "-----------\n",
      "Initializing structure...\n",
      "Halving computational cell along direction y\n",
      "time for choose_chunkdivision = 0.000526905 s\n",
      "Working in 2D dimensions.\n",
      "Computational cell is 13 x 1 x 0 with resolution 20\n",
      "     cylinder, center = (1,0,0)\n",
      "          radius 0.2, height 1e+20, axis (0, 0, 1)\n",
      "          dielectric constant epsilon diagonal = (12,12,12)\n",
      "     cylinder, center = (0,0,0)\n",
      "          radius 0.2, height 1e+20, axis (0, 0, 1)\n",
      "          dielectric constant epsilon diagonal = (12,12,12)\n",
      "     cylinder, center = (-1,0,0)\n",
      "          radius 0.2, height 1e+20, axis (0, 0, 1)\n",
      "          dielectric constant epsilon diagonal = (12,12,12)\n",
      "time for set_epsilon = 0.00973392 s\n",
      "-----------\n",
      "field decay(t = 50.025000000000006): 0.13563750500330599 / 0.13563750500330599 = 1.0\n",
      "field decay(t = 100.05000000000001): 8.568552767139003e-05 / 0.13563750500330599 = 0.0006317244457519441\n",
      "run 0 finished at t = 100.05000000000001 (4002 timesteps)\n",
      "-----------\n",
      "Initializing structure...\n",
      "Halving computational cell along direction y\n",
      "time for choose_chunkdivision = 0.000601053 s\n",
      "Working in 2D dimensions.\n",
      "Computational cell is 15 x 1 x 0 with resolution 20\n",
      "     cylinder, center = (2,0,0)\n",
      "          radius 0.2, height 1e+20, axis (0, 0, 1)\n",
      "          dielectric constant epsilon diagonal = (12,12,12)\n",
      "     cylinder, center = (1,0,0)\n",
      "          radius 0.2, height 1e+20, axis (0, 0, 1)\n",
      "          dielectric constant epsilon diagonal = (12,12,12)\n",
      "     cylinder, center = (0,0,0)\n",
      "          radius 0.2, height 1e+20, axis (0, 0, 1)\n",
      "          dielectric constant epsilon diagonal = (12,12,12)\n",
      "     cylinder, center = (-1,0,0)\n",
      "          radius 0.2, height 1e+20, axis (0, 0, 1)\n",
      "          dielectric constant epsilon diagonal = (12,12,12)\n",
      "     cylinder, center = (-2,0,0)\n",
      "          radius 0.2, height 1e+20, axis (0, 0, 1)\n",
      "          dielectric constant epsilon diagonal = (12,12,12)\n",
      "time for set_epsilon = 0.0140309 s\n",
      "-----------\n",
      "field decay(t = 50.025000000000006): 0.12373041360550532 / 0.12373041360550532 = 1.0\n",
      "field decay(t = 100.05000000000001): 0.0010195633208608414 / 0.12373041360550532 = 0.008240199730613981\n",
      "field decay(t = 150.07500000000002): 3.662547440559447e-05 / 0.12373041360550532 = 0.0002960102802401433\n",
      "run 0 finished at t = 150.07500000000002 (6003 timesteps)\n",
      "-----------\n",
      "Initializing structure...\n",
      "Halving computational cell along direction y\n",
      "time for choose_chunkdivision = 0.000518084 s\n",
      "Working in 2D dimensions.\n",
      "Computational cell is 16 x 1 x 0 with resolution 20\n",
      "     cylinder, center = (2.5,0,0)\n",
      "          radius 0.2, height 1e+20, axis (0, 0, 1)\n",
      "          dielectric constant epsilon diagonal = (12,12,12)\n",
      "     cylinder, center = (1.5,0,0)\n",
      "          radius 0.2, height 1e+20, axis (0, 0, 1)\n",
      "          dielectric constant epsilon diagonal = (12,12,12)\n",
      "     cylinder, center = (0.5,0,0)\n",
      "          radius 0.2, height 1e+20, axis (0, 0, 1)\n",
      "          dielectric constant epsilon diagonal = (12,12,12)\n",
      "     cylinder, center = (-0.5,0,0)\n",
      "          radius 0.2, height 1e+20, axis (0, 0, 1)\n",
      "          dielectric constant epsilon diagonal = (12,12,12)\n",
      "     cylinder, center = (-1.5,0,0)\n",
      "          radius 0.2, height 1e+20, axis (0, 0, 1)\n",
      "          dielectric constant epsilon diagonal = (12,12,12)\n",
      "     cylinder, center = (-2.5,0,0)\n",
      "          radius 0.2, height 1e+20, axis (0, 0, 1)\n",
      "          dielectric constant epsilon diagonal = (12,12,12)\n",
      "time for set_epsilon = 0.016526 s\n",
      "-----------\n",
      "field decay(t = 50.025000000000006): 0.11964387709780465 / 0.11964387709780465 = 1.0\n",
      "field decay(t = 100.05000000000001): 0.0007528528243830797 / 0.11964387709780465 = 0.006292447575630211\n",
      "field decay(t = 150.07500000000002): 6.090688412056685e-05 / 0.11964387709780465 = 0.0005090681244872867\n",
      "run 0 finished at t = 150.07500000000002 (6003 timesteps)\n"
     ]
    }
   ],
   "source": [
    "sim,freqs,P0 = transmitted_P(Nx=0)\n",
    "sim,freqs,P1 = transmitted_P(Nx=1)\n",
    "sim,freqs,P2 = transmitted_P(Nx=2)\n",
    "sim,freqs,P3 = transmitted_P(Nx=3)\n",
    "sim,freqs,P5 = transmitted_P(Nx=5)\n",
    "sim,freqs,P6 = transmitted_P(Nx=6)"
   ]
  },
  {
   "cell_type": "markdown",
   "metadata": {},
   "source": [
    "Then, we plot power vs. frequency, on both a linear and a log scale:"
   ]
  },
  {
   "cell_type": "code",
   "execution_count": 7,
   "metadata": {},
   "outputs": [
    {
     "data": {
      "text/plain": [
       "<matplotlib.legend.Legend at 0x7f7f62d2ae48>"
      ]
     },
     "execution_count": 7,
     "metadata": {},
     "output_type": "execute_result"
    },
    {
     "data": {
      "image/png": "[encoded data removed]",
      "text/plain": [
       "<Figure size 432x864 with 2 Axes>"
      ]
     },
     "metadata": {
      "needs_background": "light"
     },
     "output_type": "display_data"
    }
   ],
   "source": [
    "plt.figure(figsize=(6,12))\n",
    "\n",
    "plt.subplot(2,1,1)\n",
    "plt.plot(freqs, P1/P0)\n",
    "plt.plot(freqs, P2/P0)\n",
    "plt.plot(freqs, P3/P0)\n",
    "plt.plot(freqs, P5/P0)\n",
    "plt.plot(freqs, P6/P0)\n",
    "plt.xlabel(\"frequency ($c/a$)\")\n",
    "plt.ylabel(\"transmitted power (fraction)\")\n",
    "plt.title(\"normalized transmitted power\")\n",
    "plt.legend([\"$N_x = 1$\", \"$N_x = 2$\", \"$N_x = 3$\", \"$N_x = 5$\", \"$N_x = 6$\"])\n",
    "\n",
    "plt.subplot(2,1,2)\n",
    "plt.semilogy(freqs, P1/P0)\n",
    "plt.semilogy(freqs, P2/P0)\n",
    "plt.semilogy(freqs, P3/P0)\n",
    "plt.semilogy(freqs, P5/P0)\n",
    "plt.semilogy(freqs, P6/P0)\n",
    "plt.xlabel(\"frequency ($c/a$)\")\n",
    "plt.ylabel(\"transmitted power (fraction)\")\n",
    "plt.title(\"normalized transmitted power (log scale)\")\n",
    "plt.legend([\"$N_x = 1$\", \"$N_x = 2$\", \"$N_x = 3$\", \"$N_x = 5$\", \"$N_x = 6$\"])\n"
   ]
  },
  {
   "cell_type": "markdown",
   "metadata": {},
   "source": [
    "In the band diagram, there was a TM gap from a frequency of 0.28 to 0.42 $c/a$. In the transmission spectrum, we clearly see a dip in the transmission—decreasing exponentially with $N_{x}$ as expected (since fields are evanescent in the gap)—around these frequencies. However, if we look closely, we see that the transmission dip is wider than the overall band gap, from about 0.24 to 0.42. What's happening is that our structure is periodic in y, so $k_{y}$ is conserved, and a normal-incident planewave **only couples to $k_{y}=0$ bands**, which are those along the Γ–X portion of the band diagram. If we just look at Γ–X, then the gap is indeed wider, from 0.24 to 0.42 $c/a$!\n",
    "\n",
    "Also as expected from class, the transmission dip is largest near the middle of the gap, since we showed that the evanescent decay rates increase away from the band edges.\n",
    "\n",
    "Another feature that you might notice is that, as we increase $N_{x}$, we see that a transmission dip is appearing round 0.71–0.74 $c/a$. If you look closely at the Γ–X band diagram you will see that there is indeed another gap (just for Γ–X, not for the whole Brillouin zone) at those frequencies. Since that gap is much smaller, the evanescent decay rate is much slower, and so the transmission dip is weaker for the same $N_{x}$.\n",
    "\n",
    "The transmission oscillations in the gap (and near the gap edges) are a form of Fabry–Perot oscillation, which arises from interference in waves reflected from the edges of the crystal (which break periodicity in x and hence allow reflections)."
   ]
  },
  {
   "cell_type": "markdown",
   "metadata": {},
   "source": [
    "### part (b)\n",
    "\n",
    "As explained in the solutions, we expect additional diffracted orders show up for $f \\ge 1$ in Meep units for this normal-incident planewave.\n",
    "\n",
    "So, we modify our code to do a CW simulation, running for 200 periods $1/f$ to reach steady state (to a good approximation), and we plot the resulting $E_z$ field for $f = 0.95$ and $f = 1.05$ (just above and below the transition to additional diffracted orders)."
   ]
  },
  {
   "cell_type": "code",
   "execution_count": 8,
   "metadata": {},
   "outputs": [],
   "source": [
    "def cw_sim(Nx=5, pad=4, dpml=1, f=0.5, T=200):\n",
    "    sx = Nx + 2*(pad+dpml)\n",
    "    \n",
    "    sim = mp.Simulation(cell_size=mp.Vector3(sx, 1),\n",
    "                        \n",
    "                        # make Nx duplicates of a rod:\n",
    "                        geometry = mp.geometric_object_duplicates(mp.Vector3(1,0), 0, Nx-1, \n",
    "                                                                  mp.Cylinder(0.2, center=mp.Vector3(-0.5*sx+dpml+pad+0.5,0), material=mp.Medium(epsilon=12))),\n",
    " \n",
    "                        \n",
    "                        # absorbing boundaries in y direction, periodic in x\n",
    "                        boundary_layers = [mp.PML(dpml, direction=mp.X)],\n",
    "                        k_point = mp.Vector3(0,0), # ky=0 for normal incidence\n",
    "                        \n",
    "                        # source is a pulsed line source adjacent to PML\n",
    "                        sources=[mp.Source(mp.ContinuousSource(f, fwidth=0.05), mp.Ez,\n",
    "                                           center=(-sx*0.5 + dpml,0), size=(0,1))],\n",
    "                        \n",
    "                        # to speed things up, exploit the y=0 mirror plane:\n",
    "                        symmetries = [mp.Mirror(mp.Y, phase=1)],\n",
    "                        resolution=20)\n",
    "    \n",
    "    # run simulation for 200 periods (1/f), which \n",
    "    # should roughly be steady state\n",
    "    sim.run(until=T/f)\n",
    "    return sim"
   ]
  },
  {
   "cell_type": "code",
   "execution_count": 9,
   "metadata": {},
   "outputs": [
    {
     "name": "stdout",
     "output_type": "stream",
     "text": [
      "-----------\n",
      "Initializing structure...\n",
      "Halving computational cell along direction y\n",
      "time for choose_chunkdivision = 0.000587225 s\n",
      "Working in 2D dimensions.\n",
      "Computational cell is 15 x 1 x 0 with resolution 20\n",
      "     cylinder, center = (2,0,0)\n",
      "          radius 0.2, height 1e+20, axis (0, 0, 1)\n",
      "          dielectric constant epsilon diagonal = (12,12,12)\n",
      "     cylinder, center = (1,0,0)\n",
      "          radius 0.2, height 1e+20, axis (0, 0, 1)\n",
      "          dielectric constant epsilon diagonal = (12,12,12)\n",
      "     cylinder, center = (0,0,0)\n",
      "          radius 0.2, height 1e+20, axis (0, 0, 1)\n",
      "          dielectric constant epsilon diagonal = (12,12,12)\n",
      "     cylinder, center = (-1,0,0)\n",
      "          radius 0.2, height 1e+20, axis (0, 0, 1)\n",
      "          dielectric constant epsilon diagonal = (12,12,12)\n",
      "     cylinder, center = (-2,0,0)\n",
      "          radius 0.2, height 1e+20, axis (0, 0, 1)\n",
      "          dielectric constant epsilon diagonal = (12,12,12)\n",
      "time for set_epsilon = 0.014183 s\n",
      "-----------\n"
     ]
    },
    {
     "data": {
      "application/vnd.jupyter.widget-view+json": {
       "model_id": "e8bb362d7e7a48eb9c2fc5094faacbcf",
       "version_major": 2,
       "version_minor": 0
      },
      "text/plain": [
       "FloatProgress(value=0.0, description='0% done ', max=210.5263157894737)"
      ]
     },
     "metadata": {},
     "output_type": "display_data"
    },
    {
     "name": "stdout",
     "output_type": "stream",
     "text": [
      "run 0 finished at t = 210.55 (8422 timesteps)\n",
      "-----------\n",
      "Initializing structure...\n",
      "Halving computational cell along direction y\n",
      "time for choose_chunkdivision = 0.000659943 s\n",
      "Working in 2D dimensions.\n",
      "Computational cell is 15 x 1 x 0 with resolution 20\n",
      "     cylinder, center = (2,0,0)\n",
      "          radius 0.2, height 1e+20, axis (0, 0, 1)\n",
      "          dielectric constant epsilon diagonal = (12,12,12)\n",
      "     cylinder, center = (1,0,0)\n",
      "          radius 0.2, height 1e+20, axis (0, 0, 1)\n",
      "          dielectric constant epsilon diagonal = (12,12,12)\n",
      "     cylinder, center = (0,0,0)\n",
      "          radius 0.2, height 1e+20, axis (0, 0, 1)\n",
      "          dielectric constant epsilon diagonal = (12,12,12)\n",
      "     cylinder, center = (-1,0,0)\n",
      "          radius 0.2, height 1e+20, axis (0, 0, 1)\n",
      "          dielectric constant epsilon diagonal = (12,12,12)\n",
      "     cylinder, center = (-2,0,0)\n",
      "          radius 0.2, height 1e+20, axis (0, 0, 1)\n",
      "          dielectric constant epsilon diagonal = (12,12,12)\n",
      "time for set_epsilon = 0.013576 s\n",
      "-----------\n"
     ]
    },
    {
     "data": {
      "application/vnd.jupyter.widget-view+json": {
       "model_id": "e9794cd2003b4493aa861ad62fcdda52",
       "version_major": 2,
       "version_minor": 0
      },
      "text/plain": [
       "FloatProgress(value=0.0, description='0% done ', max=190.47619047619048)"
      ]
     },
     "metadata": {},
     "output_type": "display_data"
    },
    {
     "name": "stdout",
     "output_type": "stream",
     "text": [
      "run 0 finished at t = 190.5 (7620 timesteps)\n"
     ]
    }
   ],
   "source": [
    "sim1 = cw_sim(f=0.95)\n",
    "sim2 = cw_sim(f=1.05)"
   ]
  },
  {
   "cell_type": "markdown",
   "metadata": {},
   "source": [
    "Plotting the field for $f = 0.95$, we see that the reflected field is clearly a normal-incident planewave, with no additional diffracted orders (except very close to the crystal structure, where we indeed see the exponentially decaying diffracted order!):"
   ]
  },
  {
   "cell_type": "code",
   "execution_count": 10,
   "metadata": {},
   "outputs": [
    {
     "name": "stdout",
     "output_type": "stream",
     "text": [
      "     cylinder, center = (2,0,0)\n",
      "          radius 0.2, height 1e+20, axis (0, 0, 1)\n",
      "          dielectric constant epsilon diagonal = (12,12,12)\n",
      "     cylinder, center = (1,0,0)\n",
      "          radius 0.2, height 1e+20, axis (0, 0, 1)\n",
      "          dielectric constant epsilon diagonal = (12,12,12)\n",
      "     cylinder, center = (0,0,0)\n",
      "          radius 0.2, height 1e+20, axis (0, 0, 1)\n",
      "          dielectric constant epsilon diagonal = (12,12,12)\n",
      "     cylinder, center = (-1,0,0)\n",
      "          radius 0.2, height 1e+20, axis (0, 0, 1)\n",
      "          dielectric constant epsilon diagonal = (12,12,12)\n",
      "     cylinder, center = (-2,0,0)\n",
      "          radius 0.2, height 1e+20, axis (0, 0, 1)\n",
      "          dielectric constant epsilon diagonal = (12,12,12)\n"
     ]
    },
    {
     "data": {
      "text/plain": [
       "<matplotlib.axes._subplots.AxesSubplot at 0x7f7f6288eb38>"
      ]
     },
     "execution_count": 10,
     "metadata": {},
     "output_type": "execute_result"
    },
    {
     "data": {
      "image/png": "[encoded data removed]",
      "text/plain": [
       "<Figure size 432x288 with 1 Axes>"
      ]
     },
     "metadata": {
      "needs_background": "light"
     },
     "output_type": "display_data"
    }
   ],
   "source": [
    "sim1.plot2D(fields=mp.Ez)"
   ]
  },
  {
   "cell_type": "markdown",
   "metadata": {},
   "source": [
    "Plotting the field for $f = 1.05$, we see that the reflected field clearly has another diffracted order (another Fourier-series component), leading to oscillations in the field pattern from the superposition of the normal-incident and diffracted planewaves:"
   ]
  },
  {
   "cell_type": "code",
   "execution_count": 11,
   "metadata": {},
   "outputs": [
    {
     "name": "stdout",
     "output_type": "stream",
     "text": [
      "     cylinder, center = (2,0,0)\n",
      "          radius 0.2, height 1e+20, axis (0, 0, 1)\n",
      "          dielectric constant epsilon diagonal = (12,12,12)\n",
      "     cylinder, center = (1,0,0)\n",
      "          radius 0.2, height 1e+20, axis (0, 0, 1)\n",
      "          dielectric constant epsilon diagonal = (12,12,12)\n",
      "     cylinder, center = (0,0,0)\n",
      "          radius 0.2, height 1e+20, axis (0, 0, 1)\n",
      "          dielectric constant epsilon diagonal = (12,12,12)\n",
      "     cylinder, center = (-1,0,0)\n",
      "          radius 0.2, height 1e+20, axis (0, 0, 1)\n",
      "          dielectric constant epsilon diagonal = (12,12,12)\n",
      "     cylinder, center = (-2,0,0)\n",
      "          radius 0.2, height 1e+20, axis (0, 0, 1)\n",
      "          dielectric constant epsilon diagonal = (12,12,12)\n"
     ]
    },
    {
     "data": {
      "text/plain": [
       "<matplotlib.axes._subplots.AxesSubplot at 0x7f7f6286a2e8>"
      ]
     },
     "execution_count": 11,
     "metadata": {},
     "output_type": "execute_result"
    },
    {
     "data": {
      "image/png": "[encoded data removed]",
      "text/plain": [
       "<Figure size 432x288 with 1 Axes>"
      ]
     },
     "metadata": {
      "needs_background": "light"
     },
     "output_type": "display_data"
    }
   ],
   "source": [
    "sim2.plot2D(fields=mp.Ez)"
   ]
  },
  {
   "cell_type": "markdown",
   "metadata": {},
   "source": [
    "Now, let's try a frequency much closer to the $f=1$ threshold:"
   ]
  },
  {
   "cell_type": "code",
   "execution_count": 12,
   "metadata": {},
   "outputs": [
    {
     "name": "stdout",
     "output_type": "stream",
     "text": [
      "-----------\n",
      "Initializing structure...\n",
      "Halving computational cell along direction y\n",
      "time for choose_chunkdivision = 0.000506878 s\n",
      "Working in 2D dimensions.\n",
      "Computational cell is 27 x 1 x 0 with resolution 20\n",
      "     cylinder, center = (2,0,0)\n",
      "          radius 0.2, height 1e+20, axis (0, 0, 1)\n",
      "          dielectric constant epsilon diagonal = (12,12,12)\n",
      "     cylinder, center = (1,0,0)\n",
      "          radius 0.2, height 1e+20, axis (0, 0, 1)\n",
      "          dielectric constant epsilon diagonal = (12,12,12)\n",
      "     cylinder, center = (0,0,0)\n",
      "          radius 0.2, height 1e+20, axis (0, 0, 1)\n",
      "          dielectric constant epsilon diagonal = (12,12,12)\n",
      "     cylinder, center = (-1,0,0)\n",
      "          radius 0.2, height 1e+20, axis (0, 0, 1)\n",
      "          dielectric constant epsilon diagonal = (12,12,12)\n",
      "     cylinder, center = (-2,0,0)\n",
      "          radius 0.2, height 1e+20, axis (0, 0, 1)\n",
      "          dielectric constant epsilon diagonal = (12,12,12)\n",
      "time for set_epsilon = 0.0171499 s\n",
      "-----------\n"
     ]
    },
    {
     "data": {
      "application/vnd.jupyter.widget-view+json": {
       "model_id": "04f453879753447d86270a4815cb2bd5",
       "version_major": 2,
       "version_minor": 0
      },
      "text/plain": [
       "FloatProgress(value=0.0, description='0% done ', max=1005.0251256281407)"
      ]
     },
     "metadata": {},
     "output_type": "display_data"
    },
    {
     "name": "stdout",
     "output_type": "stream",
     "text": [
      "run 0 finished at t = 1005.0500000000001 (40202 timesteps)\n"
     ]
    }
   ],
   "source": [
    "sim3 = cw_sim(f=0.995, pad=10, T=1000)"
   ]
  },
  {
   "cell_type": "code",
   "execution_count": 13,
   "metadata": {},
   "outputs": [
    {
     "name": "stdout",
     "output_type": "stream",
     "text": [
      "     cylinder, center = (2,0,0)\n",
      "          radius 0.2, height 1e+20, axis (0, 0, 1)\n",
      "          dielectric constant epsilon diagonal = (12,12,12)\n",
      "     cylinder, center = (1,0,0)\n",
      "          radius 0.2, height 1e+20, axis (0, 0, 1)\n",
      "          dielectric constant epsilon diagonal = (12,12,12)\n",
      "     cylinder, center = (0,0,0)\n",
      "          radius 0.2, height 1e+20, axis (0, 0, 1)\n",
      "          dielectric constant epsilon diagonal = (12,12,12)\n",
      "     cylinder, center = (-1,0,0)\n",
      "          radius 0.2, height 1e+20, axis (0, 0, 1)\n",
      "          dielectric constant epsilon diagonal = (12,12,12)\n",
      "     cylinder, center = (-2,0,0)\n",
      "          radius 0.2, height 1e+20, axis (0, 0, 1)\n",
      "          dielectric constant epsilon diagonal = (12,12,12)\n"
     ]
    },
    {
     "data": {
      "text/plain": [
       "<matplotlib.axes._subplots.AxesSubplot at 0x7f7f634c5470>"
      ]
     },
     "execution_count": 13,
     "metadata": {},
     "output_type": "execute_result"
    },
    {
     "data": {
      "image/png": "[encoded data removed]",
      "text/plain": [
       "<Figure size 432x288 with 1 Axes>"
      ]
     },
     "metadata": {
      "needs_background": "light"
     },
     "output_type": "display_data"
    }
   ],
   "source": [
    "sim3.plot2D(fields=mp.Ez)"
   ]
  },
  {
   "cell_type": "markdown",
   "metadata": {},
   "source": [
    "In this case, we had to increase the `pad` parameter so that we simulate a larger air region before the crystal in order to see the undisturbed normal-incident wave pattern.   The reason for this is that, as $f \\to 1^-$ (from below), the first diffracted order's evanescent decay rate gets slower and slower, so we see its transverse oscillations in the field farther and farther from the crystal."
   ]
  }
 ],
 "metadata": {
  "@webio": {
   "lastCommId": null,
   "lastKernelId": null
  },
  "kernelspec": {
   "display_name": "Python 3 Meep",
   "language": "python",
   "name": "python3mp"
  },
  "language_info": {
   "codemirror_mode": {
    "name": "ipython",
    "version": 3
   },
   "file_extension": ".py",
   "mimetype": "text/x-python",
   "name": "python",
   "nbconvert_exporter": "python",
   "pygments_lexer": "ipython3",
   "version": "3.6.9"
  }
 },
 "nbformat": 4,
 "nbformat_minor": 4
}
